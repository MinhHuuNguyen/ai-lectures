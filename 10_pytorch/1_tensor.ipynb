{
 "cells": [
  {
   "cell_type": "code",
   "execution_count": 1,
   "id": "de328022-ba3e-42f0-be5d-4b8f4d74f42d",
   "metadata": {},
   "outputs": [],
   "source": [
    "# Import thư viện cần thiết\n",
    "import torch # pytorch\n",
    "import numpy as np"
   ]
  },
  {
   "cell_type": "markdown",
   "id": "b6f78b8b-ea77-417f-9c37-41ce0d10a7f3",
   "metadata": {},
   "source": [
    "# 1. Khởi tạo Tensor"
   ]
  },
  {
   "cell_type": "markdown",
   "id": "f7b07d44-e25e-43bb-84cc-5d6b4fd069e4",
   "metadata": {},
   "source": [
    "## 1.1. torch.tensor()"
   ]
  },
  {
   "cell_type": "code",
   "execution_count": 2,
   "id": "83fcb7a5-0672-4131-9f63-0bd0a57ecdc1",
   "metadata": {},
   "outputs": [
    {
     "data": {
      "text/plain": [
       "[[1, 2], [3, 4]]"
      ]
     },
     "execution_count": 2,
     "metadata": {},
     "output_type": "execute_result"
    }
   ],
   "source": [
    "x = [[1, 2],[3, 4]]\n",
    "x"
   ]
  },
  {
   "cell_type": "code",
   "execution_count": 3,
   "id": "86e257c8-6cdc-4139-8d9d-30b1a46706a3",
   "metadata": {},
   "outputs": [
    {
     "data": {
      "text/plain": [
       "list"
      ]
     },
     "execution_count": 3,
     "metadata": {},
     "output_type": "execute_result"
    }
   ],
   "source": [
    "type(x)"
   ]
  },
  {
   "cell_type": "code",
   "execution_count": 4,
   "id": "62d27add-4fa9-48ea-b609-50cafddb9ab9",
   "metadata": {},
   "outputs": [
    {
     "data": {
      "text/plain": [
       "tensor([[1, 2],\n",
       "        [3, 4]])"
      ]
     },
     "execution_count": 4,
     "metadata": {},
     "output_type": "execute_result"
    }
   ],
   "source": [
    "# Tạo Tensor từ List\n",
    "x = torch.tensor(x)\n",
    "x"
   ]
  },
  {
   "cell_type": "code",
   "execution_count": 5,
   "id": "f6f35d39-fe61-4d12-af18-e3d15c5d41eb",
   "metadata": {},
   "outputs": [
    {
     "data": {
      "text/plain": [
       "torch.Size([2, 2])"
      ]
     },
     "execution_count": 5,
     "metadata": {},
     "output_type": "execute_result"
    }
   ],
   "source": [
    "x.shape"
   ]
  },
  {
   "cell_type": "markdown",
   "id": "e214e7cc-962b-4025-b633-cc79b9ddc095",
   "metadata": {},
   "source": [
    "## 1.2. torch.zeros()"
   ]
  },
  {
   "cell_type": "code",
   "execution_count": 6,
   "id": "9e4b0217-704d-41d6-b69a-faaa8bdaa3f8",
   "metadata": {},
   "outputs": [
    {
     "data": {
      "text/plain": [
       "tensor([[0., 0., 0.],\n",
       "        [0., 0., 0.]])"
      ]
     },
     "execution_count": 6,
     "metadata": {},
     "output_type": "execute_result"
    }
   ],
   "source": [
    "x_0 = torch.zeros((2, 3))\n",
    "x_0"
   ]
  },
  {
   "cell_type": "code",
   "execution_count": 7,
   "id": "e8234e20-dc51-4199-ac02-86eff61184f4",
   "metadata": {},
   "outputs": [
    {
     "data": {
      "text/plain": [
       "torch.Size([2, 3])"
      ]
     },
     "execution_count": 7,
     "metadata": {},
     "output_type": "execute_result"
    }
   ],
   "source": [
    "x_0.shape"
   ]
  },
  {
   "cell_type": "markdown",
   "id": "bba3b460-c279-43a2-ae1a-48218c116c5b",
   "metadata": {},
   "source": [
    "## 1.3. torch.ones()"
   ]
  },
  {
   "cell_type": "code",
   "execution_count": 8,
   "id": "420a5ed9-9ff1-45b3-8b81-2eaddde7d424",
   "metadata": {},
   "outputs": [
    {
     "data": {
      "text/plain": [
       "tensor([[1., 1., 1.],\n",
       "        [1., 1., 1.]])"
      ]
     },
     "execution_count": 8,
     "metadata": {},
     "output_type": "execute_result"
    }
   ],
   "source": [
    "x_1 = torch.ones((2, 3))\n",
    "x_1"
   ]
  },
  {
   "cell_type": "code",
   "execution_count": 9,
   "id": "0dd93530-2e5a-4311-a774-cb7c95e1402d",
   "metadata": {},
   "outputs": [
    {
     "data": {
      "text/plain": [
       "torch.Size([2, 3])"
      ]
     },
     "execution_count": 9,
     "metadata": {},
     "output_type": "execute_result"
    }
   ],
   "source": [
    "x_1.shape"
   ]
  },
  {
   "cell_type": "markdown",
   "id": "d561b822-6a4e-4e1b-8d3a-cf7d9e382254",
   "metadata": {},
   "source": [
    "## 1.4. torch.eye()"
   ]
  },
  {
   "cell_type": "code",
   "execution_count": 10,
   "id": "ac2dc6c3-93d6-484f-adb8-5c7e62282f0b",
   "metadata": {},
   "outputs": [
    {
     "data": {
      "text/plain": [
       "tensor([[1., 0., 0., 0.],\n",
       "        [0., 1., 0., 0.],\n",
       "        [0., 0., 1., 0.],\n",
       "        [0., 0., 0., 1.]])"
      ]
     },
     "execution_count": 10,
     "metadata": {},
     "output_type": "execute_result"
    }
   ],
   "source": [
    "x = torch.eye(4)\n",
    "x"
   ]
  },
  {
   "cell_type": "code",
   "execution_count": 11,
   "id": "ecdd91b3-7687-40b9-a2ab-975f094294a4",
   "metadata": {},
   "outputs": [
    {
     "data": {
      "text/plain": [
       "torch.Size([4, 4])"
      ]
     },
     "execution_count": 11,
     "metadata": {},
     "output_type": "execute_result"
    }
   ],
   "source": [
    "x.shape"
   ]
  },
  {
   "cell_type": "markdown",
   "id": "e7b2fe44-3030-4837-917d-b28e7953a545",
   "metadata": {},
   "source": [
    "## 1.5. torch.arange()"
   ]
  },
  {
   "cell_type": "code",
   "execution_count": 12,
   "id": "3c5584f5-3eee-469d-a974-df56a66ec21d",
   "metadata": {},
   "outputs": [
    {
     "data": {
      "text/plain": [
       "tensor([2, 3, 4, 5, 6, 7, 8, 9])"
      ]
     },
     "execution_count": 12,
     "metadata": {},
     "output_type": "execute_result"
    }
   ],
   "source": [
    "x = torch.arange(2, 10, 1)\n",
    "x"
   ]
  },
  {
   "cell_type": "code",
   "execution_count": 13,
   "id": "19c1d5e0-f045-41c0-b374-9323abc0eaaa",
   "metadata": {},
   "outputs": [
    {
     "data": {
      "text/plain": [
       "torch.Size([8])"
      ]
     },
     "execution_count": 13,
     "metadata": {},
     "output_type": "execute_result"
    }
   ],
   "source": [
    "x.shape"
   ]
  },
  {
   "cell_type": "markdown",
   "id": "58c4d422-04e6-4a77-ad40-edf361319b61",
   "metadata": {},
   "source": [
    "## 1.6. torch.linspace()"
   ]
  },
  {
   "cell_type": "code",
   "execution_count": 14,
   "id": "4ce25c03-ca65-4e4f-9b5d-7e378423e1b8",
   "metadata": {},
   "outputs": [
    {
     "data": {
      "text/plain": [
       "tensor([ 2.0000,  2.4211,  2.8421,  3.2632,  3.6842,  4.1053,  4.5263,  4.9474,\n",
       "         5.3684,  5.7895,  6.2105,  6.6316,  7.0526,  7.4737,  7.8947,  8.3158,\n",
       "         8.7368,  9.1579,  9.5789, 10.0000])"
      ]
     },
     "execution_count": 14,
     "metadata": {},
     "output_type": "execute_result"
    }
   ],
   "source": [
    "x = torch.linspace(2, 10, 20)\n",
    "x"
   ]
  },
  {
   "cell_type": "code",
   "execution_count": 15,
   "id": "769394f1-0d1f-4e01-9905-0fa55a4ea3e2",
   "metadata": {},
   "outputs": [
    {
     "data": {
      "text/plain": [
       "torch.Size([20])"
      ]
     },
     "execution_count": 15,
     "metadata": {},
     "output_type": "execute_result"
    }
   ],
   "source": [
    "x.shape"
   ]
  },
  {
   "cell_type": "markdown",
   "id": "29c42a1a-452c-4aca-895d-bd0379fe3a58",
   "metadata": {},
   "source": [
    "## 1.7. torch.rand()"
   ]
  },
  {
   "cell_type": "code",
   "execution_count": 16,
   "id": "2ea26b3c-9149-4d05-a5ff-9f17f733b455",
   "metadata": {},
   "outputs": [
    {
     "data": {
      "text/plain": [
       "tensor([[0.1228, 0.6005, 0.1368],\n",
       "        [0.3885, 0.3709, 0.9451],\n",
       "        [0.6500, 0.1973, 0.5157],\n",
       "        [0.6619, 0.1719, 0.4431]])"
      ]
     },
     "execution_count": 16,
     "metadata": {},
     "output_type": "execute_result"
    }
   ],
   "source": [
    "x = torch.rand(4, 3)\n",
    "x"
   ]
  },
  {
   "cell_type": "code",
   "execution_count": 17,
   "id": "563b4a4d-ad77-4e41-bef2-368268e2768c",
   "metadata": {},
   "outputs": [
    {
     "data": {
      "text/plain": [
       "torch.Size([4, 3])"
      ]
     },
     "execution_count": 17,
     "metadata": {},
     "output_type": "execute_result"
    }
   ],
   "source": [
    "x.shape"
   ]
  },
  {
   "cell_type": "markdown",
   "id": "331c103b-ca45-48dc-a530-2b17ab5cee7c",
   "metadata": {},
   "source": [
    "## 1.7. torch.randn()"
   ]
  },
  {
   "cell_type": "code",
   "execution_count": 18,
   "id": "a5e3e683-19ba-4e97-9b69-0c793723e55b",
   "metadata": {},
   "outputs": [
    {
     "data": {
      "text/plain": [
       "tensor([[ 0.5904,  0.2457,  1.0005],\n",
       "        [-0.0687, -1.7873,  0.3595],\n",
       "        [-2.0380,  1.8099, -0.7928],\n",
       "        [ 0.4923,  0.9579, -0.8979]])"
      ]
     },
     "execution_count": 18,
     "metadata": {},
     "output_type": "execute_result"
    }
   ],
   "source": [
    "x = torch.randn(4, 3)\n",
    "x"
   ]
  },
  {
   "cell_type": "code",
   "execution_count": 19,
   "id": "64fdf8b9-98b8-4869-8c6c-ea6b8aac0cc5",
   "metadata": {},
   "outputs": [
    {
     "data": {
      "text/plain": [
       "torch.Size([4, 3])"
      ]
     },
     "execution_count": 19,
     "metadata": {},
     "output_type": "execute_result"
    }
   ],
   "source": [
    "x.shape"
   ]
  },
  {
   "cell_type": "markdown",
   "id": "b45e1fc3-b132-4fa0-98bc-e40d1c699a85",
   "metadata": {},
   "source": [
    "## 1.9. torch.ones_like()"
   ]
  },
  {
   "cell_type": "code",
   "execution_count": 20,
   "id": "a85e9a9a-3542-4680-b20e-059e391dff79",
   "metadata": {},
   "outputs": [
    {
     "data": {
      "text/plain": [
       "tensor([[ 0.5904,  0.2457,  1.0005],\n",
       "        [-0.0687, -1.7873,  0.3595],\n",
       "        [-2.0380,  1.8099, -0.7928],\n",
       "        [ 0.4923,  0.9579, -0.8979]])"
      ]
     },
     "execution_count": 20,
     "metadata": {},
     "output_type": "execute_result"
    }
   ],
   "source": [
    "x"
   ]
  },
  {
   "cell_type": "code",
   "execution_count": 21,
   "id": "e077c0d6-efb2-4d29-b7c2-b0752c31ac06",
   "metadata": {},
   "outputs": [
    {
     "data": {
      "text/plain": [
       "tensor([[1., 1., 1.],\n",
       "        [1., 1., 1.],\n",
       "        [1., 1., 1.],\n",
       "        [1., 1., 1.]])"
      ]
     },
     "execution_count": 21,
     "metadata": {},
     "output_type": "execute_result"
    }
   ],
   "source": [
    "y_1 = torch.ones_like(x)\n",
    "y_1"
   ]
  },
  {
   "cell_type": "code",
   "execution_count": 22,
   "id": "0d82d2d3-0346-4a5d-8904-9c04519f4e3e",
   "metadata": {},
   "outputs": [
    {
     "data": {
      "text/plain": [
       "torch.Size([4, 3])"
      ]
     },
     "execution_count": 22,
     "metadata": {},
     "output_type": "execute_result"
    }
   ],
   "source": [
    "y_1.shape"
   ]
  },
  {
   "cell_type": "markdown",
   "id": "11f34d7c-0a01-4f6a-8121-c8a5af8169f4",
   "metadata": {},
   "source": [
    "## 1.10. torch.rand_like()"
   ]
  },
  {
   "cell_type": "code",
   "execution_count": 23,
   "id": "8a57fd38-49af-465b-8b57-d279c39c101e",
   "metadata": {},
   "outputs": [
    {
     "data": {
      "text/plain": [
       "tensor([[ 0.5904,  0.2457,  1.0005],\n",
       "        [-0.0687, -1.7873,  0.3595],\n",
       "        [-2.0380,  1.8099, -0.7928],\n",
       "        [ 0.4923,  0.9579, -0.8979]])"
      ]
     },
     "execution_count": 23,
     "metadata": {},
     "output_type": "execute_result"
    }
   ],
   "source": [
    "x"
   ]
  },
  {
   "cell_type": "code",
   "execution_count": 24,
   "id": "d480c013-ee89-4b00-94e7-aa137cb73431",
   "metadata": {},
   "outputs": [
    {
     "data": {
      "text/plain": [
       "tensor([[0.7651, 0.3431, 0.4015],\n",
       "        [0.3256, 0.6172, 0.1309],\n",
       "        [0.5121, 0.9370, 0.8349],\n",
       "        [0.0701, 0.5979, 0.1137]])"
      ]
     },
     "execution_count": 24,
     "metadata": {},
     "output_type": "execute_result"
    }
   ],
   "source": [
    "y = torch.rand_like(x)\n",
    "y"
   ]
  },
  {
   "cell_type": "code",
   "execution_count": 25,
   "id": "fcffb60d-09d8-4445-8178-eb27e4c18840",
   "metadata": {},
   "outputs": [
    {
     "data": {
      "text/plain": [
       "torch.Size([4, 3])"
      ]
     },
     "execution_count": 25,
     "metadata": {},
     "output_type": "execute_result"
    }
   ],
   "source": [
    "y.shape"
   ]
  },
  {
   "cell_type": "markdown",
   "id": "ce989ab1-aca6-4282-90f1-f634e5a00020",
   "metadata": {},
   "source": [
    "# 2. Tính toán với tensor"
   ]
  },
  {
   "cell_type": "code",
   "execution_count": 26,
   "id": "434b67c4-b1c5-45c2-9245-e8a4daccf5fc",
   "metadata": {},
   "outputs": [
    {
     "data": {
      "text/plain": [
       "tensor([[ 1,  2,  3,  4],\n",
       "        [ 5,  6,  7,  8],\n",
       "        [ 9, 10, 11, 12]])"
      ]
     },
     "execution_count": 26,
     "metadata": {},
     "output_type": "execute_result"
    }
   ],
   "source": [
    "x = torch.tensor([[1, 2, 3, 4], [5, 6, 7, 8], [9, 10, 11, 12]])\n",
    "x"
   ]
  },
  {
   "cell_type": "code",
   "execution_count": 27,
   "id": "e579c687-f1f9-4920-9708-57b87c9809c9",
   "metadata": {},
   "outputs": [
    {
     "data": {
      "text/plain": [
       "torch.Size([3, 4])"
      ]
     },
     "execution_count": 27,
     "metadata": {},
     "output_type": "execute_result"
    }
   ],
   "source": [
    "x.shape"
   ]
  },
  {
   "cell_type": "code",
   "execution_count": 28,
   "id": "07fcf06e-7879-453b-ad69-84a2663977e5",
   "metadata": {},
   "outputs": [
    {
     "data": {
      "text/plain": [
       "tensor([[ 19,  28,  37,  46],\n",
       "        [ 55,  64,  73,  82],\n",
       "        [ 91, 100, 119, 128]])"
      ]
     },
     "execution_count": 28,
     "metadata": {},
     "output_type": "execute_result"
    }
   ],
   "source": [
    "y = torch.tensor([[19, 28, 37, 46], [55, 64, 73, 82], [91, 100, 119, 128]])\n",
    "y"
   ]
  },
  {
   "cell_type": "code",
   "execution_count": 29,
   "id": "43f99193-fb8b-491d-abfb-8ea0f8766db2",
   "metadata": {},
   "outputs": [
    {
     "data": {
      "text/plain": [
       "torch.Size([3, 4])"
      ]
     },
     "execution_count": 29,
     "metadata": {},
     "output_type": "execute_result"
    }
   ],
   "source": [
    "y.shape"
   ]
  },
  {
   "cell_type": "markdown",
   "id": "79aa5097-bd23-482e-ab0b-f7997d88a412",
   "metadata": {},
   "source": [
    "## 2.1. torch.t()"
   ]
  },
  {
   "cell_type": "code",
   "execution_count": 30,
   "id": "c657e9de-a2d0-48f4-add0-33308e941ebf",
   "metadata": {},
   "outputs": [
    {
     "data": {
      "text/plain": [
       "tensor([[ 1,  2,  3,  4],\n",
       "        [ 5,  6,  7,  8],\n",
       "        [ 9, 10, 11, 12]])"
      ]
     },
     "execution_count": 30,
     "metadata": {},
     "output_type": "execute_result"
    }
   ],
   "source": [
    "x"
   ]
  },
  {
   "cell_type": "code",
   "execution_count": 31,
   "id": "9a230d31-5b84-49aa-94e1-ca0b6535c619",
   "metadata": {},
   "outputs": [
    {
     "data": {
      "text/plain": [
       "tensor([[ 1,  5,  9],\n",
       "        [ 2,  6, 10],\n",
       "        [ 3,  7, 11],\n",
       "        [ 4,  8, 12]])"
      ]
     },
     "execution_count": 31,
     "metadata": {},
     "output_type": "execute_result"
    }
   ],
   "source": [
    "x.T"
   ]
  },
  {
   "cell_type": "code",
   "execution_count": 32,
   "id": "994b3ec9-dd3c-4cde-a385-c497b873a0dd",
   "metadata": {},
   "outputs": [
    {
     "data": {
      "text/plain": [
       "tensor([[ 1,  2,  3,  4],\n",
       "        [ 5,  6,  7,  8],\n",
       "        [ 9, 10, 11, 12]])"
      ]
     },
     "execution_count": 32,
     "metadata": {},
     "output_type": "execute_result"
    }
   ],
   "source": [
    "x.T.T"
   ]
  },
  {
   "cell_type": "markdown",
   "id": "8581ae0c-9eea-4ef1-a2ee-52efe45e6f22",
   "metadata": {},
   "source": [
    "## 2.2. torch.add()"
   ]
  },
  {
   "cell_type": "code",
   "execution_count": 33,
   "id": "f3a38fc6-6353-422c-87c7-367b80d205ba",
   "metadata": {},
   "outputs": [
    {
     "data": {
      "text/plain": [
       "tensor([[ 20,  30,  40,  50],\n",
       "        [ 60,  70,  80,  90],\n",
       "        [100, 110, 130, 140]])"
      ]
     },
     "execution_count": 33,
     "metadata": {},
     "output_type": "execute_result"
    }
   ],
   "source": [
    "z = torch.add(x, y)\n",
    "z"
   ]
  },
  {
   "cell_type": "code",
   "execution_count": 34,
   "id": "b7ef2fc0-d450-4b9d-9d67-b3fc386fc24f",
   "metadata": {},
   "outputs": [
    {
     "data": {
      "text/plain": [
       "torch.Size([3, 4])"
      ]
     },
     "execution_count": 34,
     "metadata": {},
     "output_type": "execute_result"
    }
   ],
   "source": [
    "z.shape"
   ]
  },
  {
   "cell_type": "markdown",
   "id": "6903f489-6f32-4434-9dcc-3e02d787ffce",
   "metadata": {},
   "source": [
    "## 2.3. torch.sub()"
   ]
  },
  {
   "cell_type": "code",
   "execution_count": 35,
   "id": "678b4cf9-a23c-467a-b0c2-57c29a22d54b",
   "metadata": {},
   "outputs": [
    {
     "data": {
      "text/plain": [
       "tensor([[ -18,  -26,  -34,  -42],\n",
       "        [ -50,  -58,  -66,  -74],\n",
       "        [ -82,  -90, -108, -116]])"
      ]
     },
     "execution_count": 35,
     "metadata": {},
     "output_type": "execute_result"
    }
   ],
   "source": [
    "z = torch.sub(x, y)\n",
    "z"
   ]
  },
  {
   "cell_type": "code",
   "execution_count": 36,
   "id": "9d331c82-0596-4c6f-a57d-e23460e08eaf",
   "metadata": {},
   "outputs": [
    {
     "data": {
      "text/plain": [
       "torch.Size([3, 4])"
      ]
     },
     "execution_count": 36,
     "metadata": {},
     "output_type": "execute_result"
    }
   ],
   "source": [
    "z.shape"
   ]
  },
  {
   "cell_type": "markdown",
   "id": "0bfbc983-771a-401e-8c38-5473cff80210",
   "metadata": {},
   "source": [
    "## 2.4. torch.mul()"
   ]
  },
  {
   "cell_type": "code",
   "execution_count": 37,
   "id": "6ab99284-bcd1-4f2d-b28f-0ff3c64f798e",
   "metadata": {},
   "outputs": [
    {
     "data": {
      "text/plain": [
       "tensor([[  19,   56,  111,  184],\n",
       "        [ 275,  384,  511,  656],\n",
       "        [ 819, 1000, 1309, 1536]])"
      ]
     },
     "execution_count": 37,
     "metadata": {},
     "output_type": "execute_result"
    }
   ],
   "source": [
    "z = torch.mul(x, y)\n",
    "z"
   ]
  },
  {
   "cell_type": "code",
   "execution_count": 38,
   "id": "117c74af-b56b-48b3-b3ee-56923e5556f1",
   "metadata": {},
   "outputs": [
    {
     "data": {
      "text/plain": [
       "torch.Size([3, 4])"
      ]
     },
     "execution_count": 38,
     "metadata": {},
     "output_type": "execute_result"
    }
   ],
   "source": [
    "z.shape"
   ]
  },
  {
   "cell_type": "markdown",
   "id": "28aca4b3-1b35-48b8-a6f6-8d55603519fc",
   "metadata": {},
   "source": [
    "## 2.5. torch.div()   "
   ]
  },
  {
   "cell_type": "code",
   "execution_count": 39,
   "id": "455a7c5c-3077-4505-8308-04a435d39453",
   "metadata": {},
   "outputs": [
    {
     "data": {
      "text/plain": [
       "tensor([[0.0526, 0.0714, 0.0811, 0.0870],\n",
       "        [0.0909, 0.0938, 0.0959, 0.0976],\n",
       "        [0.0989, 0.1000, 0.0924, 0.0938]])"
      ]
     },
     "execution_count": 39,
     "metadata": {},
     "output_type": "execute_result"
    }
   ],
   "source": [
    "z = torch.div(x, y)\n",
    "z"
   ]
  },
  {
   "cell_type": "code",
   "execution_count": 40,
   "id": "f8c308f8-b8c5-46c8-a6a5-df1f8f43b9f0",
   "metadata": {},
   "outputs": [
    {
     "data": {
      "text/plain": [
       "torch.Size([3, 4])"
      ]
     },
     "execution_count": 40,
     "metadata": {},
     "output_type": "execute_result"
    }
   ],
   "source": [
    "z.shape"
   ]
  },
  {
   "cell_type": "markdown",
   "id": "d1b21a9b-1a14-4ec6-a6a9-94a265a2bda2",
   "metadata": {},
   "source": [
    "## 2.6. torch.mm()"
   ]
  },
  {
   "cell_type": "code",
   "execution_count": 41,
   "id": "2a63f0a6-2317-4ca1-8b2e-fcebae9f0963",
   "metadata": {},
   "outputs": [
    {
     "ename": "RuntimeError",
     "evalue": "mat1 and mat2 shapes cannot be multiplied (3x4 and 3x4)",
     "output_type": "error",
     "traceback": [
      "\u001b[0;31m---------------------------------------------------------------------------\u001b[0m",
      "\u001b[0;31mRuntimeError\u001b[0m                              Traceback (most recent call last)",
      "Cell \u001b[0;32mIn[41], line 1\u001b[0m\n\u001b[0;32m----> 1\u001b[0m z \u001b[38;5;241m=\u001b[39m \u001b[43mtorch\u001b[49m\u001b[38;5;241;43m.\u001b[39;49m\u001b[43mmm\u001b[49m\u001b[43m(\u001b[49m\u001b[43mx\u001b[49m\u001b[43m,\u001b[49m\u001b[43m \u001b[49m\u001b[43my\u001b[49m\u001b[43m)\u001b[49m\n",
      "\u001b[0;31mRuntimeError\u001b[0m: mat1 and mat2 shapes cannot be multiplied (3x4 and 3x4)"
     ]
    }
   ],
   "source": [
    "z = torch.mm(x, y)"
   ]
  },
  {
   "cell_type": "code",
   "execution_count": 42,
   "id": "c79d2afb-9cca-46d9-8288-21d060aba5b3",
   "metadata": {},
   "outputs": [
    {
     "data": {
      "text/plain": [
       "torch.Size([3, 4])"
      ]
     },
     "execution_count": 42,
     "metadata": {},
     "output_type": "execute_result"
    }
   ],
   "source": [
    "x.shape"
   ]
  },
  {
   "cell_type": "code",
   "execution_count": 43,
   "id": "5b4c75eb-fba5-4e7b-81d4-d33118bf46b0",
   "metadata": {},
   "outputs": [
    {
     "data": {
      "text/plain": [
       "torch.Size([3, 4])"
      ]
     },
     "execution_count": 43,
     "metadata": {},
     "output_type": "execute_result"
    }
   ],
   "source": [
    "y.shape"
   ]
  },
  {
   "cell_type": "code",
   "execution_count": 44,
   "id": "97a31b79-744f-4ac4-abe8-c167528ae833",
   "metadata": {},
   "outputs": [
    {
     "data": {
      "text/plain": [
       "torch.Size([4, 3])"
      ]
     },
     "execution_count": 44,
     "metadata": {},
     "output_type": "execute_result"
    }
   ],
   "source": [
    "y.T.shape"
   ]
  },
  {
   "cell_type": "code",
   "execution_count": 45,
   "id": "083d6979-a3ae-4a89-b572-48cfd4372301",
   "metadata": {},
   "outputs": [
    {
     "data": {
      "text/plain": [
       "tensor([[ 370,  730, 1160],\n",
       "        [ 890, 1826, 2912],\n",
       "        [1410, 2922, 4664]])"
      ]
     },
     "execution_count": 45,
     "metadata": {},
     "output_type": "execute_result"
    }
   ],
   "source": [
    "z = torch.mm(x, y.T)\n",
    "z"
   ]
  },
  {
   "cell_type": "code",
   "execution_count": 46,
   "id": "27b2d973-7bb3-423d-b904-e4e26d46c72a",
   "metadata": {},
   "outputs": [
    {
     "data": {
      "text/plain": [
       "torch.Size([3, 3])"
      ]
     },
     "execution_count": 46,
     "metadata": {},
     "output_type": "execute_result"
    }
   ],
   "source": [
    "z.shape"
   ]
  },
  {
   "cell_type": "markdown",
   "id": "4e9cc04b-ba95-41b8-9e75-70f82dc8fb61",
   "metadata": {},
   "source": [
    "## 2.7. torch.matmul()"
   ]
  },
  {
   "cell_type": "code",
   "execution_count": 47,
   "id": "85caf49a-0483-40bb-acbf-924d97b09f3a",
   "metadata": {},
   "outputs": [
    {
     "data": {
      "text/plain": [
       "tensor([[ 370,  730, 1160],\n",
       "        [ 890, 1826, 2912],\n",
       "        [1410, 2922, 4664]])"
      ]
     },
     "execution_count": 47,
     "metadata": {},
     "output_type": "execute_result"
    }
   ],
   "source": [
    "z = torch.matmul(x, y.T)\n",
    "z"
   ]
  },
  {
   "cell_type": "code",
   "execution_count": 48,
   "id": "2ab02043-63d0-490d-9749-8a9db57c1df5",
   "metadata": {},
   "outputs": [
    {
     "data": {
      "text/plain": [
       "torch.Size([3, 3])"
      ]
     },
     "execution_count": 48,
     "metadata": {},
     "output_type": "execute_result"
    }
   ],
   "source": [
    "z.shape"
   ]
  },
  {
   "cell_type": "code",
   "execution_count": 49,
   "id": "be405182-7057-4453-8eb3-d29a76222f92",
   "metadata": {},
   "outputs": [
    {
     "data": {
      "text/plain": [
       "tensor([[ 1,  2,  3,  4],\n",
       "        [ 5,  6,  7,  8],\n",
       "        [ 9, 10, 11, 12]])"
      ]
     },
     "execution_count": 49,
     "metadata": {},
     "output_type": "execute_result"
    }
   ],
   "source": [
    "x"
   ]
  },
  {
   "cell_type": "code",
   "execution_count": 50,
   "id": "3548245d-e6cb-46b0-b681-6b0d3214470c",
   "metadata": {},
   "outputs": [
    {
     "data": {
      "text/plain": [
       "tensor([[ 19,  55,  91],\n",
       "        [ 28,  64, 100],\n",
       "        [ 37,  73, 119],\n",
       "        [ 46,  82, 128]])"
      ]
     },
     "execution_count": 50,
     "metadata": {},
     "output_type": "execute_result"
    }
   ],
   "source": [
    "y.T"
   ]
  },
  {
   "cell_type": "code",
   "execution_count": 51,
   "id": "005be1cc-5f36-4fa7-a955-79e262f5d4ef",
   "metadata": {},
   "outputs": [
    {
     "data": {
      "text/plain": [
       "torch.Size([4, 3])"
      ]
     },
     "execution_count": 51,
     "metadata": {},
     "output_type": "execute_result"
    }
   ],
   "source": [
    "y.T.shape"
   ]
  },
  {
   "cell_type": "code",
   "execution_count": 52,
   "id": "b7bbc654-3a80-4d0e-aaf6-79dd053168f3",
   "metadata": {},
   "outputs": [
    {
     "data": {
      "text/plain": [
       "tensor([19, 28, 37, 46])"
      ]
     },
     "execution_count": 52,
     "metadata": {},
     "output_type": "execute_result"
    }
   ],
   "source": [
    "y_hat = torch.tensor([19, 28, 37, 46])\n",
    "y_hat"
   ]
  },
  {
   "cell_type": "code",
   "execution_count": 53,
   "id": "f8ab2bd1-c387-467b-ab21-8fd1a1556870",
   "metadata": {},
   "outputs": [
    {
     "data": {
      "text/plain": [
       "torch.Size([4])"
      ]
     },
     "execution_count": 53,
     "metadata": {},
     "output_type": "execute_result"
    }
   ],
   "source": [
    "y_hat.shape"
   ]
  },
  {
   "cell_type": "code",
   "execution_count": 54,
   "id": "6ccf2882-c935-4e19-a9a1-67e57a7a2624",
   "metadata": {},
   "outputs": [
    {
     "data": {
      "text/plain": [
       "tensor([ 370,  890, 1410])"
      ]
     },
     "execution_count": 54,
     "metadata": {},
     "output_type": "execute_result"
    }
   ],
   "source": [
    "z = torch.matmul(x, y_hat)\n",
    "z"
   ]
  },
  {
   "cell_type": "markdown",
   "id": "4c0f53ca-26ab-4973-b8df-b70bd52cdf5f",
   "metadata": {},
   "source": [
    "## 2.8. torch.sum()"
   ]
  },
  {
   "cell_type": "code",
   "execution_count": 55,
   "id": "b8511eab-9611-425a-b23e-9786c95c6045",
   "metadata": {},
   "outputs": [
    {
     "data": {
      "text/plain": [
       "tensor(78)"
      ]
     },
     "execution_count": 55,
     "metadata": {},
     "output_type": "execute_result"
    }
   ],
   "source": [
    "z = torch.sum(x)\n",
    "z"
   ]
  },
  {
   "cell_type": "markdown",
   "id": "adf92b72-e96f-43ac-aa8b-6a10cf0b2e45",
   "metadata": {},
   "source": [
    "## 2.9. torch.mean()"
   ]
  },
  {
   "cell_type": "code",
   "execution_count": 56,
   "id": "fe42b4f5-d4b2-4930-ac1b-f34e445119dd",
   "metadata": {},
   "outputs": [
    {
     "ename": "RuntimeError",
     "evalue": "mean(): could not infer output dtype. Input dtype must be either a floating point or complex dtype. Got: Long",
     "output_type": "error",
     "traceback": [
      "\u001b[0;31m---------------------------------------------------------------------------\u001b[0m",
      "\u001b[0;31mRuntimeError\u001b[0m                              Traceback (most recent call last)",
      "Cell \u001b[0;32mIn[56], line 1\u001b[0m\n\u001b[0;32m----> 1\u001b[0m z \u001b[38;5;241m=\u001b[39m \u001b[43mtorch\u001b[49m\u001b[38;5;241;43m.\u001b[39;49m\u001b[43mmean\u001b[49m\u001b[43m(\u001b[49m\u001b[43mx\u001b[49m\u001b[43m)\u001b[49m\n\u001b[1;32m      2\u001b[0m z\n",
      "\u001b[0;31mRuntimeError\u001b[0m: mean(): could not infer output dtype. Input dtype must be either a floating point or complex dtype. Got: Long"
     ]
    }
   ],
   "source": [
    "z = torch.mean(x)\n",
    "z"
   ]
  },
  {
   "cell_type": "code",
   "execution_count": 57,
   "id": "39d4a8cf-2367-4262-8c0f-1bdde358a50f",
   "metadata": {},
   "outputs": [
    {
     "data": {
      "text/plain": [
       "tensor(6.5000)"
      ]
     },
     "execution_count": 57,
     "metadata": {},
     "output_type": "execute_result"
    }
   ],
   "source": [
    "z = torch.mean(x.float())\n",
    "z"
   ]
  },
  {
   "cell_type": "markdown",
   "id": "4c3b14b6-8e29-49de-afaa-322ecb145213",
   "metadata": {},
   "source": [
    "## 2.10. torch.max()"
   ]
  },
  {
   "cell_type": "code",
   "execution_count": 58,
   "id": "63a841ea-5998-4b02-a63a-6b6c2f96dd97",
   "metadata": {},
   "outputs": [
    {
     "data": {
      "text/plain": [
       "tensor(12)"
      ]
     },
     "execution_count": 58,
     "metadata": {},
     "output_type": "execute_result"
    }
   ],
   "source": [
    "z = torch.max(x)\n",
    "z"
   ]
  },
  {
   "cell_type": "markdown",
   "id": "91de2fde-3363-4b15-b80f-a7d36fdb18a4",
   "metadata": {},
   "source": [
    "## 2.11. torch.min()"
   ]
  },
  {
   "cell_type": "code",
   "execution_count": 59,
   "id": "5f09bae5-5dc0-4ccb-a1cb-55e125ad9795",
   "metadata": {},
   "outputs": [
    {
     "data": {
      "text/plain": [
       "tensor(1)"
      ]
     },
     "execution_count": 59,
     "metadata": {},
     "output_type": "execute_result"
    }
   ],
   "source": [
    "z = torch.min(x)\n",
    "z"
   ]
  },
  {
   "cell_type": "markdown",
   "id": "a0dd88db-9354-4624-8564-83efcb54e234",
   "metadata": {},
   "source": [
    "## 2.12. torch.exp()"
   ]
  },
  {
   "cell_type": "code",
   "execution_count": 60,
   "id": "21be99ff-1d89-4bf2-b9e0-e226b8c521b2",
   "metadata": {},
   "outputs": [
    {
     "data": {
      "text/plain": [
       "tensor([[2.7183e+00, 7.3891e+00, 2.0086e+01, 5.4598e+01],\n",
       "        [1.4841e+02, 4.0343e+02, 1.0966e+03, 2.9810e+03],\n",
       "        [8.1031e+03, 2.2026e+04, 5.9874e+04, 1.6275e+05]])"
      ]
     },
     "execution_count": 60,
     "metadata": {},
     "output_type": "execute_result"
    }
   ],
   "source": [
    "z = torch.exp(x)\n",
    "z"
   ]
  },
  {
   "cell_type": "markdown",
   "id": "fc2e2ae5-d732-4a4e-9f06-eda73a1ea412",
   "metadata": {},
   "source": [
    "## 2.13. torch.log()"
   ]
  },
  {
   "cell_type": "code",
   "execution_count": 61,
   "id": "adef82e1-3829-485d-ab3f-1e3f56f4f957",
   "metadata": {},
   "outputs": [
    {
     "data": {
      "text/plain": [
       "tensor([[0.0000, 0.6931, 1.0986, 1.3863],\n",
       "        [1.6094, 1.7918, 1.9459, 2.0794],\n",
       "        [2.1972, 2.3026, 2.3979, 2.4849]])"
      ]
     },
     "execution_count": 61,
     "metadata": {},
     "output_type": "execute_result"
    }
   ],
   "source": [
    "z = torch.log(x)\n",
    "z"
   ]
  },
  {
   "cell_type": "markdown",
   "id": "4689947d-8cd2-4ca2-8e4a-27d4d7166be4",
   "metadata": {},
   "source": [
    "## 2.14. torch.sin(), torch.cos(), torch.tan()"
   ]
  },
  {
   "cell_type": "code",
   "execution_count": 62,
   "id": "33fdfba3-4559-455d-926a-55d3507e11dd",
   "metadata": {},
   "outputs": [
    {
     "data": {
      "text/plain": [
       "tensor([[ 0.8415,  0.9093,  0.1411, -0.7568],\n",
       "        [-0.9589, -0.2794,  0.6570,  0.9894],\n",
       "        [ 0.4121, -0.5440, -1.0000, -0.5366]])"
      ]
     },
     "execution_count": 62,
     "metadata": {},
     "output_type": "execute_result"
    }
   ],
   "source": [
    "z = torch.sin(x)\n",
    "z"
   ]
  },
  {
   "cell_type": "code",
   "execution_count": 63,
   "id": "2bb3b1dc-4bb2-48c8-b8a7-bce1c34f1642",
   "metadata": {},
   "outputs": [
    {
     "data": {
      "text/plain": [
       "tensor([[ 0.5403, -0.4161, -0.9900, -0.6536],\n",
       "        [ 0.2837,  0.9602,  0.7539, -0.1455],\n",
       "        [-0.9111, -0.8391,  0.0044,  0.8439]])"
      ]
     },
     "execution_count": 63,
     "metadata": {},
     "output_type": "execute_result"
    }
   ],
   "source": [
    "z = torch.cos(x)\n",
    "z"
   ]
  },
  {
   "cell_type": "code",
   "execution_count": 64,
   "id": "e78800e5-fdb2-4d2b-bd7b-2f519a200f38",
   "metadata": {},
   "outputs": [
    {
     "data": {
      "text/plain": [
       "tensor([[ 1.5574e+00, -2.1850e+00, -1.4255e-01,  1.1578e+00],\n",
       "        [-3.3805e+00, -2.9101e-01,  8.7145e-01, -6.7997e+00],\n",
       "        [-4.5232e-01,  6.4836e-01, -2.2595e+02, -6.3586e-01]])"
      ]
     },
     "execution_count": 64,
     "metadata": {},
     "output_type": "execute_result"
    }
   ],
   "source": [
    "z = torch.tan(x)\n",
    "z"
   ]
  },
  {
   "cell_type": "markdown",
   "id": "cfb9b3aa-2481-4cd3-9c17-2bb8d1a150c2",
   "metadata": {},
   "source": [
    "## 2.15. torch.sqrt()"
   ]
  },
  {
   "cell_type": "code",
   "execution_count": 65,
   "id": "6e64951c-f264-462e-ac3d-ef66005ed1e4",
   "metadata": {},
   "outputs": [
    {
     "data": {
      "text/plain": [
       "tensor([[1.0000, 1.4142, 1.7321, 2.0000],\n",
       "        [2.2361, 2.4495, 2.6458, 2.8284],\n",
       "        [3.0000, 3.1623, 3.3166, 3.4641]])"
      ]
     },
     "execution_count": 65,
     "metadata": {},
     "output_type": "execute_result"
    }
   ],
   "source": [
    "z = torch.sqrt(x)\n",
    "z"
   ]
  },
  {
   "cell_type": "markdown",
   "id": "e7c2f20d-2147-4d2d-81a6-b2d0efa16587",
   "metadata": {},
   "source": [
    "# 3. Index và Slicing"
   ]
  },
  {
   "cell_type": "code",
   "execution_count": 66,
   "id": "c482dba4-b282-434a-ae68-7e8b23ca0f2f",
   "metadata": {},
   "outputs": [
    {
     "data": {
      "text/plain": [
       "tensor([[ 1,  2,  3,  4],\n",
       "        [ 5,  6,  7,  8],\n",
       "        [ 9, 10, 11, 12]])"
      ]
     },
     "execution_count": 66,
     "metadata": {},
     "output_type": "execute_result"
    }
   ],
   "source": [
    "x"
   ]
  },
  {
   "cell_type": "code",
   "execution_count": 67,
   "id": "51afa4e1-cf39-4c13-be4e-dfa7c101c5d2",
   "metadata": {},
   "outputs": [
    {
     "data": {
      "text/plain": [
       "tensor([5, 6, 7, 8])"
      ]
     },
     "execution_count": 67,
     "metadata": {},
     "output_type": "execute_result"
    }
   ],
   "source": [
    "x[1]"
   ]
  },
  {
   "cell_type": "code",
   "execution_count": 68,
   "id": "1ee82c30-b9a6-4ef2-b19f-c192ea06d920",
   "metadata": {},
   "outputs": [
    {
     "data": {
      "text/plain": [
       "tensor(7)"
      ]
     },
     "execution_count": 68,
     "metadata": {},
     "output_type": "execute_result"
    }
   ],
   "source": [
    "x[1, 2]"
   ]
  },
  {
   "cell_type": "code",
   "execution_count": 69,
   "id": "dfa5ce1c-948e-4c38-9638-1a49b49ec8ff",
   "metadata": {},
   "outputs": [
    {
     "data": {
      "text/plain": [
       "tensor([[ 1,  2,  3,  4],\n",
       "        [ 5,  6,  7,  8],\n",
       "        [ 9, 10, 11, 12]])"
      ]
     },
     "execution_count": 69,
     "metadata": {},
     "output_type": "execute_result"
    }
   ],
   "source": [
    "x"
   ]
  },
  {
   "cell_type": "code",
   "execution_count": 70,
   "id": "f89b9730-9312-4005-a899-95fe19d140b2",
   "metadata": {},
   "outputs": [
    {
     "data": {
      "text/plain": [
       "tensor([2, 3])"
      ]
     },
     "execution_count": 70,
     "metadata": {},
     "output_type": "execute_result"
    }
   ],
   "source": [
    "x[0, 1:3]"
   ]
  },
  {
   "cell_type": "code",
   "execution_count": 71,
   "id": "4fce05e0-a1d1-469a-ae2e-c07641d2cb89",
   "metadata": {},
   "outputs": [
    {
     "data": {
      "text/plain": [
       "tensor([6, 7])"
      ]
     },
     "execution_count": 71,
     "metadata": {},
     "output_type": "execute_result"
    }
   ],
   "source": [
    "x[1, 1:3]"
   ]
  },
  {
   "cell_type": "markdown",
   "id": "251b672b-a2b7-440a-ad02-d94e59c1bb5a",
   "metadata": {},
   "source": [
    "# 4. Thay đổi hình dạng tensor"
   ]
  },
  {
   "cell_type": "markdown",
   "id": "a4a0eff7-b032-43b0-b46a-43bd54582775",
   "metadata": {},
   "source": [
    "## 4.1. tensor.view()"
   ]
  },
  {
   "cell_type": "code",
   "execution_count": 72,
   "id": "bd35de79-0c80-42b3-8906-f7db8157e5bf",
   "metadata": {},
   "outputs": [
    {
     "data": {
      "text/plain": [
       "tensor([[ 1,  2,  3,  4],\n",
       "        [ 5,  6,  7,  8],\n",
       "        [ 9, 10, 11, 12]])"
      ]
     },
     "execution_count": 72,
     "metadata": {},
     "output_type": "execute_result"
    }
   ],
   "source": [
    "x"
   ]
  },
  {
   "cell_type": "code",
   "execution_count": 73,
   "id": "4d254c56-b2e1-4c65-9c02-bc2db0d45ae0",
   "metadata": {},
   "outputs": [
    {
     "data": {
      "text/plain": [
       "tensor([[ 1,  2,  3,  4,  5,  6],\n",
       "        [ 7,  8,  9, 10, 11, 12]])"
      ]
     },
     "execution_count": 73,
     "metadata": {},
     "output_type": "execute_result"
    }
   ],
   "source": [
    "x_new = x.view(2, 6)\n",
    "x_new"
   ]
  },
  {
   "cell_type": "markdown",
   "id": "d7ee7a9c-a2fb-4a65-9e8e-5f161f59f651",
   "metadata": {},
   "source": [
    "## 4.2. tensor.reshape()"
   ]
  },
  {
   "cell_type": "code",
   "execution_count": 74,
   "id": "a962eba8-d9fa-4ac7-82c1-645067b3ee99",
   "metadata": {},
   "outputs": [
    {
     "data": {
      "text/plain": [
       "tensor([[ 1,  2,  3,  4],\n",
       "        [ 5,  6,  7,  8],\n",
       "        [ 9, 10, 11, 12]])"
      ]
     },
     "execution_count": 74,
     "metadata": {},
     "output_type": "execute_result"
    }
   ],
   "source": [
    "x"
   ]
  },
  {
   "cell_type": "code",
   "execution_count": 75,
   "id": "01073a57-c0c4-4778-bbcf-60a84fb8d831",
   "metadata": {},
   "outputs": [
    {
     "data": {
      "text/plain": [
       "tensor([[ 1,  2,  3,  4,  5,  6],\n",
       "        [ 7,  8,  9, 10, 11, 12]])"
      ]
     },
     "execution_count": 75,
     "metadata": {},
     "output_type": "execute_result"
    }
   ],
   "source": [
    "x_new = x.reshape(2, 6)\n",
    "x_new"
   ]
  },
  {
   "cell_type": "markdown",
   "id": "179346f0-1162-495f-95b2-3699df60a809",
   "metadata": {},
   "source": [
    "## 4.3. tensor.transpose()"
   ]
  },
  {
   "cell_type": "code",
   "execution_count": 76,
   "id": "e7355923-017c-4445-8bd3-7af8b741831c",
   "metadata": {},
   "outputs": [
    {
     "data": {
      "text/plain": [
       "tensor([[ 1,  2,  3,  4],\n",
       "        [ 5,  6,  7,  8],\n",
       "        [ 9, 10, 11, 12]])"
      ]
     },
     "execution_count": 76,
     "metadata": {},
     "output_type": "execute_result"
    }
   ],
   "source": [
    "x"
   ]
  },
  {
   "cell_type": "code",
   "execution_count": 77,
   "id": "05ae1d86-7d54-4f54-824c-7241974bc074",
   "metadata": {},
   "outputs": [
    {
     "data": {
      "text/plain": [
       "torch.Size([3, 4])"
      ]
     },
     "execution_count": 77,
     "metadata": {},
     "output_type": "execute_result"
    }
   ],
   "source": [
    "x.shape"
   ]
  },
  {
   "cell_type": "code",
   "execution_count": 78,
   "id": "19983282-59f5-4c1d-a5f1-596eb1df5b38",
   "metadata": {},
   "outputs": [
    {
     "data": {
      "text/plain": [
       "tensor([[ 1,  5,  9],\n",
       "        [ 2,  6, 10],\n",
       "        [ 3,  7, 11],\n",
       "        [ 4,  8, 12]])"
      ]
     },
     "execution_count": 78,
     "metadata": {},
     "output_type": "execute_result"
    }
   ],
   "source": [
    "x_trans = x.transpose(0, 1)\n",
    "x_trans"
   ]
  },
  {
   "cell_type": "code",
   "execution_count": 79,
   "id": "976183de-1378-4c35-be8d-0174c1656c3c",
   "metadata": {},
   "outputs": [
    {
     "data": {
      "text/plain": [
       "torch.Size([4, 3])"
      ]
     },
     "execution_count": 79,
     "metadata": {},
     "output_type": "execute_result"
    }
   ],
   "source": [
    "x_trans.shape"
   ]
  },
  {
   "cell_type": "code",
   "execution_count": 80,
   "id": "0f50cdb2-b034-43a3-bb69-5228fce5e4b5",
   "metadata": {},
   "outputs": [
    {
     "data": {
      "text/plain": [
       "tensor([[ 1,  5,  9],\n",
       "        [ 2,  6, 10],\n",
       "        [ 3,  7, 11],\n",
       "        [ 4,  8, 12]])"
      ]
     },
     "execution_count": 80,
     "metadata": {},
     "output_type": "execute_result"
    }
   ],
   "source": [
    "x_trans = x.transpose(1, 0)\n",
    "x_trans"
   ]
  },
  {
   "cell_type": "markdown",
   "id": "b79b09d9-825f-49bb-930b-e4c8539236c8",
   "metadata": {},
   "source": [
    "# 5. Nối tensor"
   ]
  },
  {
   "cell_type": "code",
   "execution_count": 81,
   "id": "d75b7e9b-fa4d-4e52-ab64-4919ff77318c",
   "metadata": {},
   "outputs": [
    {
     "data": {
      "text/plain": [
       "tensor([[ 1,  2,  3,  4],\n",
       "        [ 5,  6,  7,  8],\n",
       "        [ 9, 10, 11, 12]])"
      ]
     },
     "execution_count": 81,
     "metadata": {},
     "output_type": "execute_result"
    }
   ],
   "source": [
    "x"
   ]
  },
  {
   "cell_type": "code",
   "execution_count": 82,
   "id": "f5a942b0-997b-40d8-be15-db307cb572f4",
   "metadata": {},
   "outputs": [
    {
     "data": {
      "text/plain": [
       "tensor([[ 19,  28,  37,  46],\n",
       "        [ 55,  64,  73,  82],\n",
       "        [ 91, 100, 119, 128]])"
      ]
     },
     "execution_count": 82,
     "metadata": {},
     "output_type": "execute_result"
    }
   ],
   "source": [
    "y"
   ]
  },
  {
   "cell_type": "code",
   "execution_count": 83,
   "id": "af861ea5-4947-4be1-b228-fd9789617d9a",
   "metadata": {},
   "outputs": [
    {
     "data": {
      "text/plain": [
       "tensor([[  1,   2,   3,   4],\n",
       "        [  5,   6,   7,   8],\n",
       "        [  9,  10,  11,  12],\n",
       "        [ 19,  28,  37,  46],\n",
       "        [ 55,  64,  73,  82],\n",
       "        [ 91, 100, 119, 128]])"
      ]
     },
     "execution_count": 83,
     "metadata": {},
     "output_type": "execute_result"
    }
   ],
   "source": [
    "z = torch.cat((x, y), axis=0)\n",
    "z"
   ]
  },
  {
   "cell_type": "code",
   "execution_count": 84,
   "id": "5cdacdf2-c4f8-4aa2-bea5-8e54e284a0be",
   "metadata": {},
   "outputs": [
    {
     "data": {
      "text/plain": [
       "tensor([[  1,   2,   3,   4,  19,  28,  37,  46],\n",
       "        [  5,   6,   7,   8,  55,  64,  73,  82],\n",
       "        [  9,  10,  11,  12,  91, 100, 119, 128]])"
      ]
     },
     "execution_count": 84,
     "metadata": {},
     "output_type": "execute_result"
    }
   ],
   "source": [
    "z = torch.cat((x, y), axis=1)\n",
    "z"
   ]
  },
  {
   "cell_type": "markdown",
   "id": "63dbbaea-6554-42d6-ad37-f786a790b7b4",
   "metadata": {},
   "source": [
    "# 6. Chuyển tensor giữa CPU và GPU (CUDA)"
   ]
  },
  {
   "cell_type": "code",
   "execution_count": 85,
   "id": "66b21757-bdf0-423b-b01d-239654e9d77d",
   "metadata": {},
   "outputs": [
    {
     "ename": "AssertionError",
     "evalue": "Torch not compiled with CUDA enabled",
     "output_type": "error",
     "traceback": [
      "\u001b[0;31m---------------------------------------------------------------------------\u001b[0m",
      "\u001b[0;31mAssertionError\u001b[0m                            Traceback (most recent call last)",
      "Cell \u001b[0;32mIn[85], line 1\u001b[0m\n\u001b[0;32m----> 1\u001b[0m \u001b[43mx\u001b[49m\u001b[38;5;241;43m.\u001b[39;49m\u001b[43mcuda\u001b[49m\u001b[43m(\u001b[49m\u001b[43m)\u001b[49m\n",
      "File \u001b[0;32m~/WORK/minhhuunguyen.github.io/docs/lecture_env/lib/python3.11/site-packages/torch/cuda/__init__.py:289\u001b[0m, in \u001b[0;36m_lazy_init\u001b[0;34m()\u001b[0m\n\u001b[1;32m    284\u001b[0m     \u001b[38;5;28;01mraise\u001b[39;00m \u001b[38;5;167;01mRuntimeError\u001b[39;00m(\n\u001b[1;32m    285\u001b[0m         \u001b[38;5;124m\"\u001b[39m\u001b[38;5;124mCannot re-initialize CUDA in forked subprocess. To use CUDA with \u001b[39m\u001b[38;5;124m\"\u001b[39m\n\u001b[1;32m    286\u001b[0m         \u001b[38;5;124m\"\u001b[39m\u001b[38;5;124mmultiprocessing, you must use the \u001b[39m\u001b[38;5;124m'\u001b[39m\u001b[38;5;124mspawn\u001b[39m\u001b[38;5;124m'\u001b[39m\u001b[38;5;124m start method\u001b[39m\u001b[38;5;124m\"\u001b[39m\n\u001b[1;32m    287\u001b[0m     )\n\u001b[1;32m    288\u001b[0m \u001b[38;5;28;01mif\u001b[39;00m \u001b[38;5;129;01mnot\u001b[39;00m \u001b[38;5;28mhasattr\u001b[39m(torch\u001b[38;5;241m.\u001b[39m_C, \u001b[38;5;124m\"\u001b[39m\u001b[38;5;124m_cuda_getDeviceCount\u001b[39m\u001b[38;5;124m\"\u001b[39m):\n\u001b[0;32m--> 289\u001b[0m     \u001b[38;5;28;01mraise\u001b[39;00m \u001b[38;5;167;01mAssertionError\u001b[39;00m(\u001b[38;5;124m\"\u001b[39m\u001b[38;5;124mTorch not compiled with CUDA enabled\u001b[39m\u001b[38;5;124m\"\u001b[39m)\n\u001b[1;32m    290\u001b[0m \u001b[38;5;28;01mif\u001b[39;00m _cudart \u001b[38;5;129;01mis\u001b[39;00m \u001b[38;5;28;01mNone\u001b[39;00m:\n\u001b[1;32m    291\u001b[0m     \u001b[38;5;28;01mraise\u001b[39;00m \u001b[38;5;167;01mAssertionError\u001b[39;00m(\n\u001b[1;32m    292\u001b[0m         \u001b[38;5;124m\"\u001b[39m\u001b[38;5;124mlibcudart functions unavailable. It looks like you have a broken build?\u001b[39m\u001b[38;5;124m\"\u001b[39m\n\u001b[1;32m    293\u001b[0m     )\n",
      "\u001b[0;31mAssertionError\u001b[0m: Torch not compiled with CUDA enabled"
     ]
    }
   ],
   "source": [
    "x.cuda()"
   ]
  },
  {
   "cell_type": "code",
   "execution_count": 86,
   "id": "b60ee682-501c-43c1-8323-a8a82a25072d",
   "metadata": {},
   "outputs": [
    {
     "ename": "AssertionError",
     "evalue": "Torch not compiled with CUDA enabled",
     "output_type": "error",
     "traceback": [
      "\u001b[0;31m---------------------------------------------------------------------------\u001b[0m",
      "\u001b[0;31mAssertionError\u001b[0m                            Traceback (most recent call last)",
      "Cell \u001b[0;32mIn[86], line 1\u001b[0m\n\u001b[0;32m----> 1\u001b[0m \u001b[43mx\u001b[49m\u001b[38;5;241;43m.\u001b[39;49m\u001b[43mto\u001b[49m\u001b[43m(\u001b[49m\u001b[43mdevice\u001b[49m\u001b[38;5;241;43m=\u001b[39;49m\u001b[38;5;124;43m'\u001b[39;49m\u001b[38;5;124;43mcuda\u001b[39;49m\u001b[38;5;124;43m'\u001b[39;49m\u001b[43m)\u001b[49m\n",
      "File \u001b[0;32m~/WORK/minhhuunguyen.github.io/docs/lecture_env/lib/python3.11/site-packages/torch/cuda/__init__.py:289\u001b[0m, in \u001b[0;36m_lazy_init\u001b[0;34m()\u001b[0m\n\u001b[1;32m    284\u001b[0m     \u001b[38;5;28;01mraise\u001b[39;00m \u001b[38;5;167;01mRuntimeError\u001b[39;00m(\n\u001b[1;32m    285\u001b[0m         \u001b[38;5;124m\"\u001b[39m\u001b[38;5;124mCannot re-initialize CUDA in forked subprocess. To use CUDA with \u001b[39m\u001b[38;5;124m\"\u001b[39m\n\u001b[1;32m    286\u001b[0m         \u001b[38;5;124m\"\u001b[39m\u001b[38;5;124mmultiprocessing, you must use the \u001b[39m\u001b[38;5;124m'\u001b[39m\u001b[38;5;124mspawn\u001b[39m\u001b[38;5;124m'\u001b[39m\u001b[38;5;124m start method\u001b[39m\u001b[38;5;124m\"\u001b[39m\n\u001b[1;32m    287\u001b[0m     )\n\u001b[1;32m    288\u001b[0m \u001b[38;5;28;01mif\u001b[39;00m \u001b[38;5;129;01mnot\u001b[39;00m \u001b[38;5;28mhasattr\u001b[39m(torch\u001b[38;5;241m.\u001b[39m_C, \u001b[38;5;124m\"\u001b[39m\u001b[38;5;124m_cuda_getDeviceCount\u001b[39m\u001b[38;5;124m\"\u001b[39m):\n\u001b[0;32m--> 289\u001b[0m     \u001b[38;5;28;01mraise\u001b[39;00m \u001b[38;5;167;01mAssertionError\u001b[39;00m(\u001b[38;5;124m\"\u001b[39m\u001b[38;5;124mTorch not compiled with CUDA enabled\u001b[39m\u001b[38;5;124m\"\u001b[39m)\n\u001b[1;32m    290\u001b[0m \u001b[38;5;28;01mif\u001b[39;00m _cudart \u001b[38;5;129;01mis\u001b[39;00m \u001b[38;5;28;01mNone\u001b[39;00m:\n\u001b[1;32m    291\u001b[0m     \u001b[38;5;28;01mraise\u001b[39;00m \u001b[38;5;167;01mAssertionError\u001b[39;00m(\n\u001b[1;32m    292\u001b[0m         \u001b[38;5;124m\"\u001b[39m\u001b[38;5;124mlibcudart functions unavailable. It looks like you have a broken build?\u001b[39m\u001b[38;5;124m\"\u001b[39m\n\u001b[1;32m    293\u001b[0m     )\n",
      "\u001b[0;31mAssertionError\u001b[0m: Torch not compiled with CUDA enabled"
     ]
    }
   ],
   "source": [
    "x.to(device='cuda')"
   ]
  },
  {
   "cell_type": "code",
   "execution_count": 87,
   "id": "8a8fc488-e7ea-43dd-81fc-6202efe98790",
   "metadata": {},
   "outputs": [
    {
     "data": {
      "text/plain": [
       "tensor([[ 1,  2,  3,  4],\n",
       "        [ 5,  6,  7,  8],\n",
       "        [ 9, 10, 11, 12]])"
      ]
     },
     "execution_count": 87,
     "metadata": {},
     "output_type": "execute_result"
    }
   ],
   "source": [
    "x.cpu()"
   ]
  },
  {
   "cell_type": "code",
   "execution_count": 88,
   "id": "5c7f5a84-729f-4109-85de-8f725410fd35",
   "metadata": {},
   "outputs": [
    {
     "data": {
      "text/plain": [
       "tensor([[ 1,  2,  3,  4],\n",
       "        [ 5,  6,  7,  8],\n",
       "        [ 9, 10, 11, 12]])"
      ]
     },
     "execution_count": 88,
     "metadata": {},
     "output_type": "execute_result"
    }
   ],
   "source": [
    "x.to(device='cpu')"
   ]
  },
  {
   "cell_type": "code",
   "execution_count": null,
   "id": "aa61f1dc-0376-4876-896f-3cb890a72e8a",
   "metadata": {},
   "outputs": [],
   "source": []
  }
 ],
 "metadata": {
  "kernelspec": {
   "display_name": "Python 3 (ipykernel)",
   "language": "python",
   "name": "python3"
  },
  "language_info": {
   "codemirror_mode": {
    "name": "ipython",
    "version": 3
   },
   "file_extension": ".py",
   "mimetype": "text/x-python",
   "name": "python",
   "nbconvert_exporter": "python",
   "pygments_lexer": "ipython3",
   "version": "3.11.6"
  }
 },
 "nbformat": 4,
 "nbformat_minor": 5
}
