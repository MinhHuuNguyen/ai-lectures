{
 "cells": [
  {
   "cell_type": "code",
   "execution_count": 1,
   "id": "6987409f-ec0c-435c-97c9-16acdb61612a",
   "metadata": {},
   "outputs": [],
   "source": [
    "# !pip install torch torchvision pandas pillow tqdm scikit-learn"
   ]
  },
  {
   "cell_type": "code",
   "execution_count": 2,
   "id": "37d5f467-55de-4fc2-a12e-4af7fd882981",
   "metadata": {},
   "outputs": [],
   "source": [
    "import torch\n",
    "import torch.nn as nn\n",
    "import torch.optim as optim\n",
    "from torch.utils.tensorboard import SummaryWriter"
   ]
  },
  {
   "cell_type": "code",
   "execution_count": 3,
   "id": "79720a9d-2305-41f1-aa20-7d2468516e88",
   "metadata": {},
   "outputs": [],
   "source": [
    "from torch.utils.data import Dataset, DataLoader"
   ]
  },
  {
   "cell_type": "code",
   "execution_count": 4,
   "id": "6a71f748-9114-43ba-9cf7-c0346fb396ed",
   "metadata": {},
   "outputs": [],
   "source": [
    "import torchvision\n",
    "import torchvision.transforms as transforms\n",
    "import torchvision.models as models"
   ]
  },
  {
   "cell_type": "code",
   "execution_count": 5,
   "id": "12d56458-830e-42ec-833c-5e306e8d5f9d",
   "metadata": {},
   "outputs": [],
   "source": [
    "import os\n",
    "\n",
    "from PIL import Image\n",
    "import pandas as pd\n",
    "from tqdm import tqdm\n",
    "from sklearn.metrics import classification_report, accuracy_score, precision_score, recall_score, f1_score"
   ]
  },
  {
   "cell_type": "code",
   "execution_count": 54,
   "id": "2df3ccf7-e7fa-4590-9463-d63d2b94e7e8",
   "metadata": {},
   "outputs": [],
   "source": [
    "class DogCatDataset(Dataset):\n",
    "    def __init__(self):\n",
    "        self.data_folder = './dog_cat_dataset/train'\n",
    "        image_cat_names = [\n",
    "            os.path.join(cat_name, name)\n",
    "            for cat_name in ['cat_1', 'cat_2', 'cat_3']\n",
    "            for name in os.listdir(os.path.join(self.data_folder, cat_name))\n",
    "        ]\n",
    "        image_dog_names = [\n",
    "            os.path.join(dog_name, name)\n",
    "            for dog_name in ['dog_1', 'dog_2', 'dog_3']\n",
    "            for name in os.listdir(os.path.join(self.data_folder, dog_name))\n",
    "        ]\n",
    "        self.image_names = image_cat_names + image_dog_names\n",
    "        self.transform = transforms.Compose([\n",
    "            transforms.Resize((32, 32)),\n",
    "            transforms.ToTensor()\n",
    "        ])\n",
    "\n",
    "    def __len__(self):\n",
    "        return len(self.image_names)\n",
    "\n",
    "    def __getitem__(self, idx):\n",
    "        image_name = self.image_names[idx]\n",
    "        image_path = os.path.join(self.data_folder, image_name)\n",
    "\n",
    "        # Step 1: Read image\n",
    "        image = Image.open(image_path)\n",
    "\n",
    "        # Step 2: Transform image\n",
    "        image = self.transform(image)\n",
    "\n",
    "        # Step 3: Prepare label\n",
    "        label = 0 if 'cat' in image_name else 1\n",
    "        label = torch.tensor(label)\n",
    "        return image, label"
   ]
  },
  {
   "cell_type": "code",
   "execution_count": 55,
   "id": "83815c92-8c22-477f-a485-1bb71e3eff2b",
   "metadata": {},
   "outputs": [
    {
     "data": {
      "text/plain": [
       "25000"
      ]
     },
     "execution_count": 55,
     "metadata": {},
     "output_type": "execute_result"
    }
   ],
   "source": [
    "dog_cat_dataset = DogCatDataset()\n",
    "len(dog_cat_dataset)"
   ]
  },
  {
   "cell_type": "code",
   "execution_count": 56,
   "id": "cb807e4a-2c5d-4423-bcbb-f7868dfe4111",
   "metadata": {},
   "outputs": [
    {
     "data": {
      "text/plain": [
       "(torch.Size([3, 32, 32]), torch.Size([]))"
      ]
     },
     "execution_count": 56,
     "metadata": {},
     "output_type": "execute_result"
    }
   ],
   "source": [
    "img, label = dog_cat_dataset[15]\n",
    "img.shape, label.shape"
   ]
  },
  {
   "cell_type": "code",
   "execution_count": null,
   "id": "7794869a-e961-46b0-8d77-858f14540997",
   "metadata": {},
   "outputs": [],
   "source": []
  }
 ],
 "metadata": {
  "kernelspec": {
   "display_name": "Python 3 (ipykernel)",
   "language": "python",
   "name": "python3"
  },
  "language_info": {
   "codemirror_mode": {
    "name": "ipython",
    "version": 3
   },
   "file_extension": ".py",
   "mimetype": "text/x-python",
   "name": "python",
   "nbconvert_exporter": "python",
   "pygments_lexer": "ipython3",
   "version": "3.13.2"
  }
 },
 "nbformat": 4,
 "nbformat_minor": 5
}
