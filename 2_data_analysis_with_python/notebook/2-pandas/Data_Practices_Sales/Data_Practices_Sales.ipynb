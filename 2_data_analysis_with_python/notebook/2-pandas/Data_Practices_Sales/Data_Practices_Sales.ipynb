{
 "cells": [
  {
   "cell_type": "code",
   "execution_count": 1,
   "id": "50082d13",
   "metadata": {},
   "outputs": [],
   "source": [
    "# %pip install pandas==2.2.3"
   ]
  },
  {
   "cell_type": "code",
   "execution_count": 2,
   "id": "fcebef64-8331-4e00-897e-de070e0f1aca",
   "metadata": {},
   "outputs": [],
   "source": [
    "import pandas as pd"
   ]
  },
  {
   "cell_type": "code",
   "execution_count": 3,
   "id": "91c49459",
   "metadata": {},
   "outputs": [],
   "source": [
    "# Bạn hãy sử dụng file dữ liệu sau link và thực hiện dùng pandas để tìm ra các thông tin sau:\n",
    "# Bài tập 1: Có tất cả bao nhiêu đơn hàng? Có tất cả bao nhiêu khách hàng đã mua hàng?\n",
    "# Bài tập 2: Category nào được mua nhiều nhất?\n",
    "# Bài tập 3: Subcategory nào được mua nhiều nhất?\n",
    "# Bài tập 4: Tổng doanh số của tất cả các đơn hàng là bao nhiêu?\n",
    "# Bài tập 5: Tổng lợi nhuận của tất cả các đơn hàng là bao nhiêu?\n",
    "# Bài tập 6: Tổng doanh số và lợi nhuận của từng Category là bao nhiêu?"
   ]
  },
  {
   "cell_type": "code",
   "execution_count": 4,
   "id": "ae68b357-52ba-46e8-857d-35a484a40c2d",
   "metadata": {},
   "outputs": [
    {
     "data": {
      "text/html": [
       "<div>\n",
       "<style scoped>\n",
       "    .dataframe tbody tr th:only-of-type {\n",
       "        vertical-align: middle;\n",
       "    }\n",
       "\n",
       "    .dataframe tbody tr th {\n",
       "        vertical-align: top;\n",
       "    }\n",
       "\n",
       "    .dataframe thead th {\n",
       "        text-align: right;\n",
       "    }\n",
       "</style>\n",
       "<table border=\"1\" class=\"dataframe\">\n",
       "  <thead>\n",
       "    <tr style=\"text-align: right;\">\n",
       "      <th></th>\n",
       "      <th>Order Line</th>\n",
       "      <th>Order ID</th>\n",
       "      <th>Order Date</th>\n",
       "      <th>Ship Date</th>\n",
       "      <th>Ship Mode</th>\n",
       "      <th>Customer ID</th>\n",
       "      <th>Product ID</th>\n",
       "      <th>Category</th>\n",
       "      <th>Sub-Category</th>\n",
       "      <th>Sales</th>\n",
       "      <th>Quantity</th>\n",
       "      <th>Profit</th>\n",
       "    </tr>\n",
       "  </thead>\n",
       "  <tbody>\n",
       "    <tr>\n",
       "      <th>0</th>\n",
       "      <td>1</td>\n",
       "      <td>CA-2016-152156</td>\n",
       "      <td>11/08/2016</td>\n",
       "      <td>11/11/2016</td>\n",
       "      <td>Second Class</td>\n",
       "      <td>CG-12520</td>\n",
       "      <td>FUR-BO-10001798</td>\n",
       "      <td>Furniture</td>\n",
       "      <td>Bookcases</td>\n",
       "      <td>261.96</td>\n",
       "      <td>2</td>\n",
       "      <td>41.91</td>\n",
       "    </tr>\n",
       "    <tr>\n",
       "      <th>1</th>\n",
       "      <td>2</td>\n",
       "      <td>CA-2016-152156</td>\n",
       "      <td>11/08/2016</td>\n",
       "      <td>11/11/2016</td>\n",
       "      <td>Second Class</td>\n",
       "      <td>CG-12520</td>\n",
       "      <td>FUR-CH-10000454</td>\n",
       "      <td>Furniture</td>\n",
       "      <td>Chairs</td>\n",
       "      <td>731.94</td>\n",
       "      <td>3</td>\n",
       "      <td>219.58</td>\n",
       "    </tr>\n",
       "    <tr>\n",
       "      <th>2</th>\n",
       "      <td>3</td>\n",
       "      <td>CA-2016-138688</td>\n",
       "      <td>06/12/2016</td>\n",
       "      <td>6/16/2016</td>\n",
       "      <td>Second Class</td>\n",
       "      <td>DV-13045</td>\n",
       "      <td>OFF-LA-10000240</td>\n",
       "      <td>Office Supplies</td>\n",
       "      <td>Labels</td>\n",
       "      <td>14.62</td>\n",
       "      <td>2</td>\n",
       "      <td>6.87</td>\n",
       "    </tr>\n",
       "    <tr>\n",
       "      <th>3</th>\n",
       "      <td>4</td>\n",
       "      <td>US-2015-108966</td>\n",
       "      <td>10/11/2015</td>\n",
       "      <td>10/18/2015</td>\n",
       "      <td>Standard Class</td>\n",
       "      <td>SO-20335</td>\n",
       "      <td>FUR-TA-10000577</td>\n",
       "      <td>Furniture</td>\n",
       "      <td>Tables</td>\n",
       "      <td>957.58</td>\n",
       "      <td>5</td>\n",
       "      <td>-383.03</td>\n",
       "    </tr>\n",
       "    <tr>\n",
       "      <th>4</th>\n",
       "      <td>5</td>\n",
       "      <td>US-2015-108966</td>\n",
       "      <td>10/11/2015</td>\n",
       "      <td>10/18/2015</td>\n",
       "      <td>Standard Class</td>\n",
       "      <td>SO-20335</td>\n",
       "      <td>OFF-ST-10000760</td>\n",
       "      <td>Office Supplies</td>\n",
       "      <td>Storage</td>\n",
       "      <td>22.37</td>\n",
       "      <td>2</td>\n",
       "      <td>2.52</td>\n",
       "    </tr>\n",
       "    <tr>\n",
       "      <th>...</th>\n",
       "      <td>...</td>\n",
       "      <td>...</td>\n",
       "      <td>...</td>\n",
       "      <td>...</td>\n",
       "      <td>...</td>\n",
       "      <td>...</td>\n",
       "      <td>...</td>\n",
       "      <td>...</td>\n",
       "      <td>...</td>\n",
       "      <td>...</td>\n",
       "      <td>...</td>\n",
       "      <td>...</td>\n",
       "    </tr>\n",
       "    <tr>\n",
       "      <th>9989</th>\n",
       "      <td>9990</td>\n",
       "      <td>CA-2014-110422</td>\n",
       "      <td>1/21/2014</td>\n",
       "      <td>1/23/2014</td>\n",
       "      <td>Second Class</td>\n",
       "      <td>TB-21400</td>\n",
       "      <td>FUR-FU-10001889</td>\n",
       "      <td>Furniture</td>\n",
       "      <td>Furnishings</td>\n",
       "      <td>25.25</td>\n",
       "      <td>3</td>\n",
       "      <td>4.10</td>\n",
       "    </tr>\n",
       "    <tr>\n",
       "      <th>9990</th>\n",
       "      <td>9991</td>\n",
       "      <td>CA-2017-121258</td>\n",
       "      <td>2/26/2017</td>\n",
       "      <td>03/03/2017</td>\n",
       "      <td>Standard Class</td>\n",
       "      <td>DB-13060</td>\n",
       "      <td>FUR-FU-10000747</td>\n",
       "      <td>Furniture</td>\n",
       "      <td>Furnishings</td>\n",
       "      <td>91.96</td>\n",
       "      <td>2</td>\n",
       "      <td>15.63</td>\n",
       "    </tr>\n",
       "    <tr>\n",
       "      <th>9991</th>\n",
       "      <td>9992</td>\n",
       "      <td>CA-2017-121258</td>\n",
       "      <td>2/26/2017</td>\n",
       "      <td>03/03/2017</td>\n",
       "      <td>Standard Class</td>\n",
       "      <td>DB-13060</td>\n",
       "      <td>TEC-PH-10003645</td>\n",
       "      <td>Technology</td>\n",
       "      <td>Phones</td>\n",
       "      <td>258.58</td>\n",
       "      <td>2</td>\n",
       "      <td>19.39</td>\n",
       "    </tr>\n",
       "    <tr>\n",
       "      <th>9992</th>\n",
       "      <td>9993</td>\n",
       "      <td>CA-2017-121258</td>\n",
       "      <td>2/26/2017</td>\n",
       "      <td>03/03/2017</td>\n",
       "      <td>Standard Class</td>\n",
       "      <td>DB-13060</td>\n",
       "      <td>OFF-PA-10004041</td>\n",
       "      <td>Office Supplies</td>\n",
       "      <td>Paper</td>\n",
       "      <td>29.60</td>\n",
       "      <td>4</td>\n",
       "      <td>13.32</td>\n",
       "    </tr>\n",
       "    <tr>\n",
       "      <th>9993</th>\n",
       "      <td>9994</td>\n",
       "      <td>CA-2017-119914</td>\n",
       "      <td>05/04/2017</td>\n",
       "      <td>05/09/2017</td>\n",
       "      <td>Second Class</td>\n",
       "      <td>CC-12220</td>\n",
       "      <td>OFF-AP-10002684</td>\n",
       "      <td>Office Supplies</td>\n",
       "      <td>Appliances</td>\n",
       "      <td>243.16</td>\n",
       "      <td>2</td>\n",
       "      <td>72.95</td>\n",
       "    </tr>\n",
       "  </tbody>\n",
       "</table>\n",
       "<p>9994 rows × 12 columns</p>\n",
       "</div>"
      ],
      "text/plain": [
       "      Order Line        Order ID  Order Date   Ship Date       Ship Mode  \\\n",
       "0              1  CA-2016-152156  11/08/2016  11/11/2016    Second Class   \n",
       "1              2  CA-2016-152156  11/08/2016  11/11/2016    Second Class   \n",
       "2              3  CA-2016-138688  06/12/2016   6/16/2016    Second Class   \n",
       "3              4  US-2015-108966  10/11/2015  10/18/2015  Standard Class   \n",
       "4              5  US-2015-108966  10/11/2015  10/18/2015  Standard Class   \n",
       "...          ...             ...         ...         ...             ...   \n",
       "9989        9990  CA-2014-110422   1/21/2014   1/23/2014    Second Class   \n",
       "9990        9991  CA-2017-121258   2/26/2017  03/03/2017  Standard Class   \n",
       "9991        9992  CA-2017-121258   2/26/2017  03/03/2017  Standard Class   \n",
       "9992        9993  CA-2017-121258   2/26/2017  03/03/2017  Standard Class   \n",
       "9993        9994  CA-2017-119914  05/04/2017  05/09/2017    Second Class   \n",
       "\n",
       "     Customer ID       Product ID         Category Sub-Category   Sales  \\\n",
       "0       CG-12520  FUR-BO-10001798        Furniture    Bookcases  261.96   \n",
       "1       CG-12520  FUR-CH-10000454        Furniture       Chairs  731.94   \n",
       "2       DV-13045  OFF-LA-10000240  Office Supplies       Labels   14.62   \n",
       "3       SO-20335  FUR-TA-10000577        Furniture       Tables  957.58   \n",
       "4       SO-20335  OFF-ST-10000760  Office Supplies      Storage   22.37   \n",
       "...          ...              ...              ...          ...     ...   \n",
       "9989    TB-21400  FUR-FU-10001889        Furniture  Furnishings   25.25   \n",
       "9990    DB-13060  FUR-FU-10000747        Furniture  Furnishings   91.96   \n",
       "9991    DB-13060  TEC-PH-10003645       Technology       Phones  258.58   \n",
       "9992    DB-13060  OFF-PA-10004041  Office Supplies        Paper   29.60   \n",
       "9993    CC-12220  OFF-AP-10002684  Office Supplies   Appliances  243.16   \n",
       "\n",
       "      Quantity  Profit  \n",
       "0            2   41.91  \n",
       "1            3  219.58  \n",
       "2            2    6.87  \n",
       "3            5 -383.03  \n",
       "4            2    2.52  \n",
       "...        ...     ...  \n",
       "9989         3    4.10  \n",
       "9990         2   15.63  \n",
       "9991         2   19.39  \n",
       "9992         4   13.32  \n",
       "9993         2   72.95  \n",
       "\n",
       "[9994 rows x 12 columns]"
      ]
     },
     "execution_count": 4,
     "metadata": {},
     "output_type": "execute_result"
    }
   ],
   "source": [
    "# Đọc dữ liệu\n",
    "df = pd.read_csv('Data_Practices_Sales.csv')\n",
    "df"
   ]
  },
  {
   "cell_type": "code",
   "execution_count": 5,
   "id": "349f5184-7ae5-4b4a-b7d4-b37617d6b76a",
   "metadata": {},
   "outputs": [
    {
     "name": "stdout",
     "output_type": "stream",
     "text": [
      "Index(['Order Line', 'Order ID', 'Order Date', 'Ship Date', 'Ship Mode',\n",
      "       'Customer ID', 'Product ID', 'Category', 'Sub-Category', 'Sales',\n",
      "       'Quantity', 'Profit'],\n",
      "      dtype='object')\n"
     ]
    }
   ],
   "source": [
    "# Hiển thị các cột của dữ liệu\n",
    "print(df.columns)"
   ]
  },
  {
   "cell_type": "code",
   "execution_count": 6,
   "id": "d58b5156-4b37-47a6-83bd-563b34a42f5a",
   "metadata": {},
   "outputs": [],
   "source": [
    "# Bài tập 1: Có tất cả bao nhiêu đơn hàng? Có tất cả bao nhiêu khách hàng đã mua hàng?"
   ]
  },
  {
   "cell_type": "code",
   "execution_count": 7,
   "id": "b37a612b-5809-4cee-a374-2f8629d11d1e",
   "metadata": {},
   "outputs": [
    {
     "name": "stdout",
     "output_type": "stream",
     "text": [
      "===>>> So don hang: 5010\n",
      "===>>> So khach hang da mua hang: 793\n"
     ]
    }
   ],
   "source": [
    "print('===>>> So don hang:', len(df['Order ID'].unique()))\n",
    "print('===>>> So khach hang da mua hang:', len(df['Customer ID'].unique()))"
   ]
  },
  {
   "cell_type": "code",
   "execution_count": 8,
   "id": "1115a2c2",
   "metadata": {},
   "outputs": [],
   "source": [
    "# Bài tập 2: Category nào được mua nhiều nhất?"
   ]
  },
  {
   "cell_type": "code",
   "execution_count": 9,
   "id": "f27aff43-e9c4-4e79-a765-7db5b49b3486",
   "metadata": {},
   "outputs": [
    {
     "name": "stdout",
     "output_type": "stream",
     "text": [
      "Category\n",
      "Office Supplies    6026\n",
      "Furniture          2121\n",
      "Technology         1847\n",
      "Name: count, dtype: int64\n",
      "===>>> Category duoc mua nhieu nhat: Office Supplies\n"
     ]
    }
   ],
   "source": [
    "print(df['Category'].value_counts())\n",
    "print('===>>> Category duoc mua nhieu nhat:', df['Category'].value_counts().index[0])"
   ]
  },
  {
   "cell_type": "code",
   "execution_count": 10,
   "id": "c5d01890",
   "metadata": {},
   "outputs": [],
   "source": [
    "# Bài tập 3: Subcategory nào được mua nhiều nhất?"
   ]
  },
  {
   "cell_type": "code",
   "execution_count": 11,
   "id": "55041fad-c3e4-44a8-abc1-ce5116386506",
   "metadata": {},
   "outputs": [
    {
     "name": "stdout",
     "output_type": "stream",
     "text": [
      "Sub-Category\n",
      "Binders        1523\n",
      "Paper          1370\n",
      "Furnishings     957\n",
      "Phones          889\n",
      "Storage         846\n",
      "Art             796\n",
      "Accessories     775\n",
      "Chairs          617\n",
      "Appliances      466\n",
      "Labels          364\n",
      "Tables          319\n",
      "Envelopes       254\n",
      "Bookcases       228\n",
      "Fasteners       217\n",
      "Supplies        190\n",
      "Machines        115\n",
      "Copiers          68\n",
      "Name: count, dtype: int64\n",
      "===>>> Subcategory duoc mua nhieu nhat: Binders\n"
     ]
    }
   ],
   "source": [
    "print(df['Sub-Category'].value_counts())\n",
    "print('===>>> Subcategory duoc mua nhieu nhat:', df['Sub-Category'].value_counts().index[0])"
   ]
  },
  {
   "cell_type": "code",
   "execution_count": 12,
   "id": "f2666d30-23a3-41ff-adbb-0f210ddd55a1",
   "metadata": {},
   "outputs": [],
   "source": [
    "# Bài tập 4: Tổng doanh số của tất cả các đơn hàng là bao nhiêu?"
   ]
  },
  {
   "cell_type": "code",
   "execution_count": 13,
   "id": "3e93422e-0d29-4bc2-b4e7-7339647983aa",
   "metadata": {},
   "outputs": [
    {
     "name": "stdout",
     "output_type": "stream",
     "text": [
      "===>>> Tong doanh so cua tat ca cac don hang: 37873\n"
     ]
    }
   ],
   "source": [
    "print('===>>> Tong doanh so cua tat ca cac don hang:', df['Quantity'].sum())"
   ]
  },
  {
   "cell_type": "code",
   "execution_count": 14,
   "id": "f73e23e4-247b-40f8-88a1-0266f95362e5",
   "metadata": {},
   "outputs": [],
   "source": [
    "# Bài tập 5: Tổng lợi nhuận của tất cả các đơn hàng là bao nhiêu?"
   ]
  },
  {
   "cell_type": "code",
   "execution_count": 15,
   "id": "c8a1651d-3ce6-4dc9-8949-91a5a28aebe7",
   "metadata": {},
   "outputs": [
    {
     "name": "stdout",
     "output_type": "stream",
     "text": [
      "===>>> Tong loi nhuan cua tat ca cac don hang: 286397.79000000004\n"
     ]
    }
   ],
   "source": [
    "print('===>>> Tong loi nhuan cua tat ca cac don hang:', df['Profit'].sum())"
   ]
  },
  {
   "cell_type": "code",
   "execution_count": 16,
   "id": "749e499f-cd00-477c-98a0-a21ef8f5b833",
   "metadata": {},
   "outputs": [],
   "source": [
    "# Bài tập 6: Tổng doanh số và lợi nhuận của từng Category là bao nhiêu?"
   ]
  },
  {
   "cell_type": "code",
   "execution_count": 17,
   "id": "81f24ee7",
   "metadata": {},
   "outputs": [
    {
     "name": "stdout",
     "output_type": "stream",
     "text": [
      "                 Quantity\n",
      "Category                 \n",
      "Furniture            8028\n",
      "Office Supplies     22906\n",
      "Technology           6939\n",
      "                    Profit\n",
      "Category                  \n",
      "Furniture         18451.25\n",
      "Office Supplies  122490.88\n",
      "Technology       145455.66\n"
     ]
    }
   ],
   "source": [
    "print(df.groupby('Category').sum()[['Quantity']])\n",
    "print(df.groupby('Category').sum()[['Profit']])"
   ]
  },
  {
   "cell_type": "code",
   "execution_count": null,
   "id": "e7a16ffc",
   "metadata": {},
   "outputs": [],
   "source": []
  }
 ],
 "metadata": {
  "kernelspec": {
   "display_name": ".venv",
   "language": "python",
   "name": "python3"
  },
  "language_info": {
   "codemirror_mode": {
    "name": "ipython",
    "version": 3
   },
   "file_extension": ".py",
   "mimetype": "text/x-python",
   "name": "python",
   "nbconvert_exporter": "python",
   "pygments_lexer": "ipython3",
   "version": "3.10.16"
  }
 },
 "nbformat": 4,
 "nbformat_minor": 5
}
