{
 "cells": [
  {
   "cell_type": "code",
   "execution_count": 1,
   "metadata": {},
   "outputs": [],
   "source": [
    "# import nltk\n",
    "# nltk.download('stopwords')"
   ]
  },
  {
   "cell_type": "code",
   "execution_count": 2,
   "metadata": {},
   "outputs": [],
   "source": [
    "import os\n",
    "import re\n",
    "from functools import partial"
   ]
  },
  {
   "cell_type": "code",
   "execution_count": 3,
   "metadata": {},
   "outputs": [],
   "source": [
    "from nltk.corpus import stopwords\n",
    "import numpy as np\n",
    "import pandas as pd\n",
    "import seaborn as sns\n",
    "import matplotlib.pyplot as plt\n",
    "from sklearn.metrics import classification_report"
   ]
  },
  {
   "cell_type": "code",
   "execution_count": 4,
   "metadata": {},
   "outputs": [],
   "source": [
    "from keras.optimizers import SGD, Adam\n",
    "from keras.callbacks import (\n",
    "    LearningRateScheduler, ReduceLROnPlateau, EarlyStopping,\n",
    "    ModelCheckpoint, TensorBoard\n",
    ")\n",
    "from keras.models import Sequential\n",
    "from keras.metrics import CategoricalAccuracy\n",
    "from keras.losses import CategoricalCrossentropy\n",
    "from keras.layers import (\n",
    "    Embedding, LSTM, Bidirectional, GlobalAveragePooling1D, Dense, Dropout\n",
    ")\n",
    "from keras.utils import to_categorical\n",
    "from keras_preprocessing.sequence import pad_sequences\n",
    "from keras_preprocessing.text import Tokenizer"
   ]
  },
  {
   "cell_type": "markdown",
   "metadata": {},
   "source": [
    "# 1. Prepare data"
   ]
  },
  {
   "cell_type": "code",
   "execution_count": 5,
   "metadata": {},
   "outputs": [
    {
     "data": {
      "text/html": [
       "<div>\n",
       "<style scoped>\n",
       "    .dataframe tbody tr th:only-of-type {\n",
       "        vertical-align: middle;\n",
       "    }\n",
       "\n",
       "    .dataframe tbody tr th {\n",
       "        vertical-align: top;\n",
       "    }\n",
       "\n",
       "    .dataframe thead th {\n",
       "        text-align: right;\n",
       "    }\n",
       "</style>\n",
       "<table border=\"1\" class=\"dataframe\">\n",
       "  <thead>\n",
       "    <tr style=\"text-align: right;\">\n",
       "      <th></th>\n",
       "      <th>OriginalTweet</th>\n",
       "      <th>Sentiment</th>\n",
       "    </tr>\n",
       "  </thead>\n",
       "  <tbody>\n",
       "    <tr>\n",
       "      <th>0</th>\n",
       "      <td>@MeNyrbie @Phil_Gahan @Chrisitv https://t.co/i...</td>\n",
       "      <td>Neutral</td>\n",
       "    </tr>\n",
       "    <tr>\n",
       "      <th>1</th>\n",
       "      <td>advice Talk to your neighbours family to excha...</td>\n",
       "      <td>Positive</td>\n",
       "    </tr>\n",
       "    <tr>\n",
       "      <th>2</th>\n",
       "      <td>Coronavirus Australia: Woolworths to give elde...</td>\n",
       "      <td>Positive</td>\n",
       "    </tr>\n",
       "    <tr>\n",
       "      <th>3</th>\n",
       "      <td>My food stock is not the only one which is emp...</td>\n",
       "      <td>Positive</td>\n",
       "    </tr>\n",
       "    <tr>\n",
       "      <th>4</th>\n",
       "      <td>Me, ready to go at supermarket during the #COV...</td>\n",
       "      <td>Extremely Negative</td>\n",
       "    </tr>\n",
       "    <tr>\n",
       "      <th>...</th>\n",
       "      <td>...</td>\n",
       "      <td>...</td>\n",
       "    </tr>\n",
       "    <tr>\n",
       "      <th>41152</th>\n",
       "      <td>Airline pilots offering to stock supermarket s...</td>\n",
       "      <td>Neutral</td>\n",
       "    </tr>\n",
       "    <tr>\n",
       "      <th>41153</th>\n",
       "      <td>Response to complaint not provided citing COVI...</td>\n",
       "      <td>Extremely Negative</td>\n",
       "    </tr>\n",
       "    <tr>\n",
       "      <th>41154</th>\n",
       "      <td>You know itÂs getting tough when @KameronWild...</td>\n",
       "      <td>Positive</td>\n",
       "    </tr>\n",
       "    <tr>\n",
       "      <th>41155</th>\n",
       "      <td>Is it wrong that the smell of hand sanitizer i...</td>\n",
       "      <td>Neutral</td>\n",
       "    </tr>\n",
       "    <tr>\n",
       "      <th>41156</th>\n",
       "      <td>@TartiiCat Well new/used Rift S are going for ...</td>\n",
       "      <td>Negative</td>\n",
       "    </tr>\n",
       "  </tbody>\n",
       "</table>\n",
       "<p>41157 rows × 2 columns</p>\n",
       "</div>"
      ],
      "text/plain": [
       "                                           OriginalTweet           Sentiment\n",
       "0      @MeNyrbie @Phil_Gahan @Chrisitv https://t.co/i...             Neutral\n",
       "1      advice Talk to your neighbours family to excha...            Positive\n",
       "2      Coronavirus Australia: Woolworths to give elde...            Positive\n",
       "3      My food stock is not the only one which is emp...            Positive\n",
       "4      Me, ready to go at supermarket during the #COV...  Extremely Negative\n",
       "...                                                  ...                 ...\n",
       "41152  Airline pilots offering to stock supermarket s...             Neutral\n",
       "41153  Response to complaint not provided citing COVI...  Extremely Negative\n",
       "41154  You know itÂs getting tough when @KameronWild...            Positive\n",
       "41155  Is it wrong that the smell of hand sanitizer i...             Neutral\n",
       "41156  @TartiiCat Well new/used Rift S are going for ...            Negative\n",
       "\n",
       "[41157 rows x 2 columns]"
      ]
     },
     "execution_count": 5,
     "metadata": {},
     "output_type": "execute_result"
    }
   ],
   "source": [
    "df = pd.read_csv(\n",
    "    'data/covid19_tweets_dataset/Corona_NLP_train.csv',\n",
    "    encoding='latin_1',\n",
    "    usecols=['OriginalTweet', 'Sentiment']\n",
    ")\n",
    "df"
   ]
  },
  {
   "cell_type": "markdown",
   "metadata": {},
   "source": [
    "## Visualize data"
   ]
  },
  {
   "cell_type": "code",
   "execution_count": 6,
   "metadata": {},
   "outputs": [
    {
     "data": {
      "image/png": "[encoded data removed]",
      "text/plain": [
       "<Figure size 640x480 with 1 Axes>"
      ]
     },
     "metadata": {},
     "output_type": "display_data"
    }
   ],
   "source": [
    "sns.countplot(df['Sentiment'])\n",
    "plt.show()"
   ]
  },
  {
   "cell_type": "markdown",
   "metadata": {},
   "source": [
    "##  Clean the text"
   ]
  },
  {
   "cell_type": "code",
   "execution_count": 7,
   "metadata": {},
   "outputs": [],
   "source": [
    "def clean_string(text):\n",
    "    stop_words = stopwords.words('english')\n",
    "\n",
    "    # Convert text to lowercase\n",
    "    text = text.lower()\n",
    "    # Remove urls\n",
    "    text = re.sub(r'http\\S+', ' ', text)\n",
    "    # Remove mentions\n",
    "    text = re.sub(r'@\\w+', ' ', text)\n",
    "    # Remove hastags\n",
    "    text = re.sub(r'#\\w+', ' ', text)\n",
    "    # Remove digits\n",
    "    text = re.sub(r'\\d+', ' ', text)\n",
    "    # Remove html tags\n",
    "    text = re.sub('r<.*?>',' ', text)\n",
    "    # Remove stop_words\n",
    "    text = text.split()\n",
    "    text = \" \".join([word for word in text if not word in stop_words])\n",
    "\n",
    "    return text"
   ]
  },
  {
   "cell_type": "code",
   "execution_count": 8,
   "metadata": {
    "scrolled": true
   },
   "outputs": [
    {
     "data": {
      "text/html": [
       "<div>\n",
       "<style scoped>\n",
       "    .dataframe tbody tr th:only-of-type {\n",
       "        vertical-align: middle;\n",
       "    }\n",
       "\n",
       "    .dataframe tbody tr th {\n",
       "        vertical-align: top;\n",
       "    }\n",
       "\n",
       "    .dataframe thead th {\n",
       "        text-align: right;\n",
       "    }\n",
       "</style>\n",
       "<table border=\"1\" class=\"dataframe\">\n",
       "  <thead>\n",
       "    <tr style=\"text-align: right;\">\n",
       "      <th></th>\n",
       "      <th>OriginalTweet</th>\n",
       "      <th>Sentiment</th>\n",
       "    </tr>\n",
       "  </thead>\n",
       "  <tbody>\n",
       "    <tr>\n",
       "      <th>0</th>\n",
       "      <td></td>\n",
       "      <td>Neutral</td>\n",
       "    </tr>\n",
       "    <tr>\n",
       "      <th>1</th>\n",
       "      <td>advice talk neighbours family exchange phone n...</td>\n",
       "      <td>Positive</td>\n",
       "    </tr>\n",
       "    <tr>\n",
       "      <th>2</th>\n",
       "      <td>coronavirus australia: woolworths give elderly...</td>\n",
       "      <td>Positive</td>\n",
       "    </tr>\n",
       "    <tr>\n",
       "      <th>3</th>\n",
       "      <td>food stock one empty... please, panic, enough ...</td>\n",
       "      <td>Positive</td>\n",
       "    </tr>\n",
       "    <tr>\n",
       "      <th>4</th>\n",
       "      <td>me, ready go supermarket outbreak. paranoid, f...</td>\n",
       "      <td>Extremely Negative</td>\n",
       "    </tr>\n",
       "    <tr>\n",
       "      <th>...</th>\n",
       "      <td>...</td>\n",
       "      <td>...</td>\n",
       "    </tr>\n",
       "    <tr>\n",
       "      <th>41152</th>\n",
       "      <td>airline pilots offering stock supermarket shel...</td>\n",
       "      <td>Neutral</td>\n",
       "    </tr>\n",
       "    <tr>\n",
       "      <th>41153</th>\n",
       "      <td>response complaint provided citing covid- rela...</td>\n",
       "      <td>Extremely Negative</td>\n",
       "    </tr>\n",
       "    <tr>\n",
       "      <th>41154</th>\n",
       "      <td>know itâs getting tough rationing toilet pape...</td>\n",
       "      <td>Positive</td>\n",
       "    </tr>\n",
       "    <tr>\n",
       "      <th>41155</th>\n",
       "      <td>wrong smell hand sanitizer starting turn on?</td>\n",
       "      <td>Neutral</td>\n",
       "    </tr>\n",
       "    <tr>\n",
       "      <th>41156</th>\n",
       "      <td>well new/used rift going $ . amazon rn althoug...</td>\n",
       "      <td>Negative</td>\n",
       "    </tr>\n",
       "  </tbody>\n",
       "</table>\n",
       "<p>41157 rows × 2 columns</p>\n",
       "</div>"
      ],
      "text/plain": [
       "                                           OriginalTweet           Sentiment\n",
       "0                                                                    Neutral\n",
       "1      advice talk neighbours family exchange phone n...            Positive\n",
       "2      coronavirus australia: woolworths give elderly...            Positive\n",
       "3      food stock one empty... please, panic, enough ...            Positive\n",
       "4      me, ready go supermarket outbreak. paranoid, f...  Extremely Negative\n",
       "...                                                  ...                 ...\n",
       "41152  airline pilots offering stock supermarket shel...             Neutral\n",
       "41153  response complaint provided citing covid- rela...  Extremely Negative\n",
       "41154  know itâs getting tough rationing toilet pape...            Positive\n",
       "41155       wrong smell hand sanitizer starting turn on?             Neutral\n",
       "41156  well new/used rift going $ . amazon rn althoug...            Negative\n",
       "\n",
       "[41157 rows x 2 columns]"
      ]
     },
     "execution_count": 8,
     "metadata": {},
     "output_type": "execute_result"
    }
   ],
   "source": [
    "df.OriginalTweet = df.OriginalTweet.apply(lambda x: clean_string(x))\n",
    "df"
   ]
  },
  {
   "cell_type": "markdown",
   "metadata": {},
   "source": [
    "## Prepare one-hot label"
   ]
  },
  {
   "cell_type": "code",
   "execution_count": 9,
   "metadata": {},
   "outputs": [],
   "source": [
    "index_label_dict = {\n",
    "    'Extremely Negative': 0,\n",
    "    'Negative': 1,\n",
    "    'Neutral': 2,\n",
    "    'Positive': 3,\n",
    "    'Extremely Positive': 4\n",
    "}"
   ]
  },
  {
   "cell_type": "code",
   "execution_count": 10,
   "metadata": {},
   "outputs": [],
   "source": [
    "def prepare_onehot_label(df, label_col_name, index_label_dict):\n",
    "    # From string label to index label\n",
    "    df[f'{label_col_name}_index'] = df[label_col_name].replace(index_label_dict)\n",
    "\n",
    "    # From index label to onehot label\n",
    "    to_categorical_n_classes_fn = partial(to_categorical, num_classes=len(index_label_dict))\n",
    "    df[f'{label_col_name}_onehot'] = df[f'{label_col_name}_index'].apply(to_categorical_n_classes_fn)\n",
    "\n",
    "    return df"
   ]
  },
  {
   "cell_type": "code",
   "execution_count": 11,
   "metadata": {},
   "outputs": [
    {
     "name": "stderr",
     "output_type": "stream",
     "text": [
      "/var/folders/8_/m50_8s_942q571m12vh47_q80000gq/T/ipykernel_55781/1943349255.py:3: FutureWarning: Downcasting behavior in `replace` is deprecated and will be removed in a future version. To retain the old behavior, explicitly call `result.infer_objects(copy=False)`. To opt-in to the future behavior, set `pd.set_option('future.no_silent_downcasting', True)`\n",
      "  df[f'{label_col_name}_index'] = df[label_col_name].replace(index_label_dict)\n"
     ]
    },
    {
     "data": {
      "text/html": [
       "<div>\n",
       "<style scoped>\n",
       "    .dataframe tbody tr th:only-of-type {\n",
       "        vertical-align: middle;\n",
       "    }\n",
       "\n",
       "    .dataframe tbody tr th {\n",
       "        vertical-align: top;\n",
       "    }\n",
       "\n",
       "    .dataframe thead th {\n",
       "        text-align: right;\n",
       "    }\n",
       "</style>\n",
       "<table border=\"1\" class=\"dataframe\">\n",
       "  <thead>\n",
       "    <tr style=\"text-align: right;\">\n",
       "      <th></th>\n",
       "      <th>OriginalTweet</th>\n",
       "      <th>Sentiment</th>\n",
       "      <th>Sentiment_index</th>\n",
       "      <th>Sentiment_onehot</th>\n",
       "    </tr>\n",
       "  </thead>\n",
       "  <tbody>\n",
       "    <tr>\n",
       "      <th>0</th>\n",
       "      <td></td>\n",
       "      <td>Neutral</td>\n",
       "      <td>2</td>\n",
       "      <td>[0.0, 0.0, 1.0, 0.0, 0.0]</td>\n",
       "    </tr>\n",
       "    <tr>\n",
       "      <th>1</th>\n",
       "      <td>advice talk neighbours family exchange phone n...</td>\n",
       "      <td>Positive</td>\n",
       "      <td>3</td>\n",
       "      <td>[0.0, 0.0, 0.0, 1.0, 0.0]</td>\n",
       "    </tr>\n",
       "    <tr>\n",
       "      <th>2</th>\n",
       "      <td>coronavirus australia: woolworths give elderly...</td>\n",
       "      <td>Positive</td>\n",
       "      <td>3</td>\n",
       "      <td>[0.0, 0.0, 0.0, 1.0, 0.0]</td>\n",
       "    </tr>\n",
       "    <tr>\n",
       "      <th>3</th>\n",
       "      <td>food stock one empty... please, panic, enough ...</td>\n",
       "      <td>Positive</td>\n",
       "      <td>3</td>\n",
       "      <td>[0.0, 0.0, 0.0, 1.0, 0.0]</td>\n",
       "    </tr>\n",
       "    <tr>\n",
       "      <th>4</th>\n",
       "      <td>me, ready go supermarket outbreak. paranoid, f...</td>\n",
       "      <td>Extremely Negative</td>\n",
       "      <td>0</td>\n",
       "      <td>[1.0, 0.0, 0.0, 0.0, 0.0]</td>\n",
       "    </tr>\n",
       "    <tr>\n",
       "      <th>...</th>\n",
       "      <td>...</td>\n",
       "      <td>...</td>\n",
       "      <td>...</td>\n",
       "      <td>...</td>\n",
       "    </tr>\n",
       "    <tr>\n",
       "      <th>41152</th>\n",
       "      <td>airline pilots offering stock supermarket shel...</td>\n",
       "      <td>Neutral</td>\n",
       "      <td>2</td>\n",
       "      <td>[0.0, 0.0, 1.0, 0.0, 0.0]</td>\n",
       "    </tr>\n",
       "    <tr>\n",
       "      <th>41153</th>\n",
       "      <td>response complaint provided citing covid- rela...</td>\n",
       "      <td>Extremely Negative</td>\n",
       "      <td>0</td>\n",
       "      <td>[1.0, 0.0, 0.0, 0.0, 0.0]</td>\n",
       "    </tr>\n",
       "    <tr>\n",
       "      <th>41154</th>\n",
       "      <td>know itâs getting tough rationing toilet pape...</td>\n",
       "      <td>Positive</td>\n",
       "      <td>3</td>\n",
       "      <td>[0.0, 0.0, 0.0, 1.0, 0.0]</td>\n",
       "    </tr>\n",
       "    <tr>\n",
       "      <th>41155</th>\n",
       "      <td>wrong smell hand sanitizer starting turn on?</td>\n",
       "      <td>Neutral</td>\n",
       "      <td>2</td>\n",
       "      <td>[0.0, 0.0, 1.0, 0.0, 0.0]</td>\n",
       "    </tr>\n",
       "    <tr>\n",
       "      <th>41156</th>\n",
       "      <td>well new/used rift going $ . amazon rn althoug...</td>\n",
       "      <td>Negative</td>\n",
       "      <td>1</td>\n",
       "      <td>[0.0, 1.0, 0.0, 0.0, 0.0]</td>\n",
       "    </tr>\n",
       "  </tbody>\n",
       "</table>\n",
       "<p>41157 rows × 4 columns</p>\n",
       "</div>"
      ],
      "text/plain": [
       "                                           OriginalTweet           Sentiment  \\\n",
       "0                                                                    Neutral   \n",
       "1      advice talk neighbours family exchange phone n...            Positive   \n",
       "2      coronavirus australia: woolworths give elderly...            Positive   \n",
       "3      food stock one empty... please, panic, enough ...            Positive   \n",
       "4      me, ready go supermarket outbreak. paranoid, f...  Extremely Negative   \n",
       "...                                                  ...                 ...   \n",
       "41152  airline pilots offering stock supermarket shel...             Neutral   \n",
       "41153  response complaint provided citing covid- rela...  Extremely Negative   \n",
       "41154  know itâs getting tough rationing toilet pape...            Positive   \n",
       "41155       wrong smell hand sanitizer starting turn on?             Neutral   \n",
       "41156  well new/used rift going $ . amazon rn althoug...            Negative   \n",
       "\n",
       "       Sentiment_index           Sentiment_onehot  \n",
       "0                    2  [0.0, 0.0, 1.0, 0.0, 0.0]  \n",
       "1                    3  [0.0, 0.0, 0.0, 1.0, 0.0]  \n",
       "2                    3  [0.0, 0.0, 0.0, 1.0, 0.0]  \n",
       "3                    3  [0.0, 0.0, 0.0, 1.0, 0.0]  \n",
       "4                    0  [1.0, 0.0, 0.0, 0.0, 0.0]  \n",
       "...                ...                        ...  \n",
       "41152                2  [0.0, 0.0, 1.0, 0.0, 0.0]  \n",
       "41153                0  [1.0, 0.0, 0.0, 0.0, 0.0]  \n",
       "41154                3  [0.0, 0.0, 0.0, 1.0, 0.0]  \n",
       "41155                2  [0.0, 0.0, 1.0, 0.0, 0.0]  \n",
       "41156                1  [0.0, 1.0, 0.0, 0.0, 0.0]  \n",
       "\n",
       "[41157 rows x 4 columns]"
      ]
     },
     "execution_count": 11,
     "metadata": {},
     "output_type": "execute_result"
    }
   ],
   "source": [
    "df = prepare_onehot_label(df, 'Sentiment', index_label_dict)\n",
    "df"
   ]
  },
  {
   "cell_type": "markdown",
   "metadata": {},
   "source": [
    "## Split training and validation set"
   ]
  },
  {
   "cell_type": "code",
   "execution_count": 12,
   "metadata": {},
   "outputs": [],
   "source": [
    "def train_test_split_by_df(df, test_size):\n",
    "    # Shuffle df\n",
    "    df = df.sample(frac=1, random_state=204)\n",
    "\n",
    "    # Split train - test set\n",
    "    train_df = df.iloc[:int((1 - test_size) * len(df))]\n",
    "    test_df = df.iloc[int((1 - test_size) * len(df)):]\n",
    "\n",
    "    return train_df, test_df"
   ]
  },
  {
   "cell_type": "code",
   "execution_count": 13,
   "metadata": {},
   "outputs": [],
   "source": [
    "train_df, val_df = train_test_split_by_df(df, 0.2)"
   ]
  },
  {
   "cell_type": "code",
   "execution_count": 14,
   "metadata": {},
   "outputs": [
    {
     "data": {
      "text/html": [
       "<div>\n",
       "<style scoped>\n",
       "    .dataframe tbody tr th:only-of-type {\n",
       "        vertical-align: middle;\n",
       "    }\n",
       "\n",
       "    .dataframe tbody tr th {\n",
       "        vertical-align: top;\n",
       "    }\n",
       "\n",
       "    .dataframe thead th {\n",
       "        text-align: right;\n",
       "    }\n",
       "</style>\n",
       "<table border=\"1\" class=\"dataframe\">\n",
       "  <thead>\n",
       "    <tr style=\"text-align: right;\">\n",
       "      <th></th>\n",
       "      <th>OriginalTweet</th>\n",
       "      <th>Sentiment</th>\n",
       "      <th>Sentiment_index</th>\n",
       "      <th>Sentiment_onehot</th>\n",
       "    </tr>\n",
       "  </thead>\n",
       "  <tbody>\n",
       "    <tr>\n",
       "      <th>32259</th>\n",
       "      <td>staff put together update need know today</td>\n",
       "      <td>Neutral</td>\n",
       "      <td>2</td>\n",
       "      <td>[0.0, 0.0, 1.0, 0.0, 0.0]</td>\n",
       "    </tr>\n",
       "    <tr>\n",
       "      <th>12637</th>\n",
       "      <td>described msm âhighly skilled politician â. ...</td>\n",
       "      <td>Extremely Positive</td>\n",
       "      <td>4</td>\n",
       "      <td>[0.0, 0.0, 0.0, 0.0, 1.0]</td>\n",
       "    </tr>\n",
       "    <tr>\n",
       "      <th>34646</th>\n",
       "      <td>pretty sad high point day scoring toilet paper...</td>\n",
       "      <td>Positive</td>\n",
       "      <td>3</td>\n",
       "      <td>[0.0, 0.0, 0.0, 1.0, 0.0]</td>\n",
       "    </tr>\n",
       "    <tr>\n",
       "      <th>10578</th>\n",
       "      <td>came across this, supermarket, sure caught it?</td>\n",
       "      <td>Negative</td>\n",
       "      <td>1</td>\n",
       "      <td>[0.0, 1.0, 0.0, 0.0, 0.0]</td>\n",
       "    </tr>\n",
       "    <tr>\n",
       "      <th>9977</th>\n",
       "      <td>restaurant offers entire stock food staff clos...</td>\n",
       "      <td>Neutral</td>\n",
       "      <td>2</td>\n",
       "      <td>[0.0, 0.0, 1.0, 0.0, 0.0]</td>\n",
       "    </tr>\n",
       "    <tr>\n",
       "      <th>...</th>\n",
       "      <td>...</td>\n",
       "      <td>...</td>\n",
       "      <td>...</td>\n",
       "      <td>...</td>\n",
       "    </tr>\n",
       "    <tr>\n",
       "      <th>34254</th>\n",
       "      <td>report: impact covid- consumer behavior make l...</td>\n",
       "      <td>Negative</td>\n",
       "      <td>1</td>\n",
       "      <td>[0.0, 1.0, 0.0, 0.0, 0.0]</td>\n",
       "    </tr>\n",
       "    <tr>\n",
       "      <th>32469</th>\n",
       "      <td>healthcare workers grocery store employees any...</td>\n",
       "      <td>Positive</td>\n",
       "      <td>3</td>\n",
       "      <td>[0.0, 0.0, 0.0, 1.0, 0.0]</td>\n",
       "    </tr>\n",
       "    <tr>\n",
       "      <th>11415</th>\n",
       "      <td>working full time means time go shopping there...</td>\n",
       "      <td>Neutral</td>\n",
       "      <td>2</td>\n",
       "      <td>[0.0, 0.0, 1.0, 0.0, 0.0]</td>\n",
       "    </tr>\n",
       "    <tr>\n",
       "      <th>27332</th>\n",
       "      <td>hypermarket kavac k preparing food packets fam...</td>\n",
       "      <td>Neutral</td>\n",
       "      <td>2</td>\n",
       "      <td>[0.0, 0.0, 1.0, 0.0, 0.0]</td>\n",
       "    </tr>\n",
       "    <tr>\n",
       "      <th>32505</th>\n",
       "      <td>basic research consumer perception services. m...</td>\n",
       "      <td>Positive</td>\n",
       "      <td>3</td>\n",
       "      <td>[0.0, 0.0, 0.0, 1.0, 0.0]</td>\n",
       "    </tr>\n",
       "  </tbody>\n",
       "</table>\n",
       "<p>32925 rows × 4 columns</p>\n",
       "</div>"
      ],
      "text/plain": [
       "                                           OriginalTweet           Sentiment  \\\n",
       "32259          staff put together update need know today             Neutral   \n",
       "12637  described msm âhighly skilled politician â. ...  Extremely Positive   \n",
       "34646  pretty sad high point day scoring toilet paper...            Positive   \n",
       "10578     came across this, supermarket, sure caught it?            Negative   \n",
       "9977   restaurant offers entire stock food staff clos...             Neutral   \n",
       "...                                                  ...                 ...   \n",
       "34254  report: impact covid- consumer behavior make l...            Negative   \n",
       "32469  healthcare workers grocery store employees any...            Positive   \n",
       "11415  working full time means time go shopping there...             Neutral   \n",
       "27332  hypermarket kavac k preparing food packets fam...             Neutral   \n",
       "32505  basic research consumer perception services. m...            Positive   \n",
       "\n",
       "       Sentiment_index           Sentiment_onehot  \n",
       "32259                2  [0.0, 0.0, 1.0, 0.0, 0.0]  \n",
       "12637                4  [0.0, 0.0, 0.0, 0.0, 1.0]  \n",
       "34646                3  [0.0, 0.0, 0.0, 1.0, 0.0]  \n",
       "10578                1  [0.0, 1.0, 0.0, 0.0, 0.0]  \n",
       "9977                 2  [0.0, 0.0, 1.0, 0.0, 0.0]  \n",
       "...                ...                        ...  \n",
       "34254                1  [0.0, 1.0, 0.0, 0.0, 0.0]  \n",
       "32469                3  [0.0, 0.0, 0.0, 1.0, 0.0]  \n",
       "11415                2  [0.0, 0.0, 1.0, 0.0, 0.0]  \n",
       "27332                2  [0.0, 0.0, 1.0, 0.0, 0.0]  \n",
       "32505                3  [0.0, 0.0, 0.0, 1.0, 0.0]  \n",
       "\n",
       "[32925 rows x 4 columns]"
      ]
     },
     "execution_count": 14,
     "metadata": {},
     "output_type": "execute_result"
    }
   ],
   "source": [
    "train_df"
   ]
  },
  {
   "cell_type": "code",
   "execution_count": 15,
   "metadata": {},
   "outputs": [
    {
     "data": {
      "text/html": [
       "<div>\n",
       "<style scoped>\n",
       "    .dataframe tbody tr th:only-of-type {\n",
       "        vertical-align: middle;\n",
       "    }\n",
       "\n",
       "    .dataframe tbody tr th {\n",
       "        vertical-align: top;\n",
       "    }\n",
       "\n",
       "    .dataframe thead th {\n",
       "        text-align: right;\n",
       "    }\n",
       "</style>\n",
       "<table border=\"1\" class=\"dataframe\">\n",
       "  <thead>\n",
       "    <tr style=\"text-align: right;\">\n",
       "      <th></th>\n",
       "      <th>OriginalTweet</th>\n",
       "      <th>Sentiment</th>\n",
       "      <th>Sentiment_index</th>\n",
       "      <th>Sentiment_onehot</th>\n",
       "    </tr>\n",
       "  </thead>\n",
       "  <tbody>\n",
       "    <tr>\n",
       "      <th>26887</th>\n",
       "      <td>supermarkets al meera consumer goods co. start...</td>\n",
       "      <td>Neutral</td>\n",
       "      <td>2</td>\n",
       "      <td>[0.0, 0.0, 1.0, 0.0, 0.0]</td>\n",
       "    </tr>\n",
       "    <tr>\n",
       "      <th>344</th>\n",
       "      <td>guy taking whole stride. sensible, panicking g...</td>\n",
       "      <td>Positive</td>\n",
       "      <td>3</td>\n",
       "      <td>[0.0, 0.0, 0.0, 1.0, 0.0]</td>\n",
       "    </tr>\n",
       "    <tr>\n",
       "      <th>26619</th>\n",
       "      <td>salvation army jackson said experiencing criti...</td>\n",
       "      <td>Negative</td>\n",
       "      <td>1</td>\n",
       "      <td>[0.0, 1.0, 0.0, 0.0, 0.0]</td>\n",
       "    </tr>\n",
       "    <tr>\n",
       "      <th>34461</th>\n",
       "      <td>one top priorities trump considering mitigatio...</td>\n",
       "      <td>Extremely Positive</td>\n",
       "      <td>4</td>\n",
       "      <td>[0.0, 0.0, 0.0, 0.0, 1.0]</td>\n",
       "    </tr>\n",
       "    <tr>\n",
       "      <th>19347</th>\n",
       "      <td>coronavirus covid store update unfortunately d...</td>\n",
       "      <td>Extremely Positive</td>\n",
       "      <td>4</td>\n",
       "      <td>[0.0, 0.0, 0.0, 0.0, 1.0]</td>\n",
       "    </tr>\n",
       "    <tr>\n",
       "      <th>...</th>\n",
       "      <td>...</td>\n",
       "      <td>...</td>\n",
       "      <td>...</td>\n",
       "      <td>...</td>\n",
       "    </tr>\n",
       "    <tr>\n",
       "      <th>39516</th>\n",
       "      <td>one word explain</td>\n",
       "      <td>Neutral</td>\n",
       "      <td>2</td>\n",
       "      <td>[0.0, 0.0, 1.0, 0.0, 0.0]</td>\n",
       "    </tr>\n",
       "    <tr>\n",
       "      <th>6682</th>\n",
       "      <td>covid - panic buying supermarket!</td>\n",
       "      <td>Negative</td>\n",
       "      <td>1</td>\n",
       "      <td>[0.0, 1.0, 0.0, 0.0, 0.0]</td>\n",
       "    </tr>\n",
       "    <tr>\n",
       "      <th>12261</th>\n",
       "      <td>seriously, stop panic buying. plenty supplies ...</td>\n",
       "      <td>Extremely Negative</td>\n",
       "      <td>0</td>\n",
       "      <td>[1.0, 0.0, 0.0, 0.0, 0.0]</td>\n",
       "    </tr>\n",
       "    <tr>\n",
       "      <th>19725</th>\n",
       "      <td>guarantee people moaning people going ones pan...</td>\n",
       "      <td>Negative</td>\n",
       "      <td>1</td>\n",
       "      <td>[0.0, 1.0, 0.0, 0.0, 0.0]</td>\n",
       "    </tr>\n",
       "    <tr>\n",
       "      <th>33013</th>\n",
       "      <td>starting wonder even bothering lockdown hear m...</td>\n",
       "      <td>Negative</td>\n",
       "      <td>1</td>\n",
       "      <td>[0.0, 1.0, 0.0, 0.0, 0.0]</td>\n",
       "    </tr>\n",
       "  </tbody>\n",
       "</table>\n",
       "<p>8232 rows × 4 columns</p>\n",
       "</div>"
      ],
      "text/plain": [
       "                                           OriginalTweet           Sentiment  \\\n",
       "26887  supermarkets al meera consumer goods co. start...             Neutral   \n",
       "344    guy taking whole stride. sensible, panicking g...            Positive   \n",
       "26619  salvation army jackson said experiencing criti...            Negative   \n",
       "34461  one top priorities trump considering mitigatio...  Extremely Positive   \n",
       "19347  coronavirus covid store update unfortunately d...  Extremely Positive   \n",
       "...                                                  ...                 ...   \n",
       "39516                                   one word explain             Neutral   \n",
       "6682                   covid - panic buying supermarket!            Negative   \n",
       "12261  seriously, stop panic buying. plenty supplies ...  Extremely Negative   \n",
       "19725  guarantee people moaning people going ones pan...            Negative   \n",
       "33013  starting wonder even bothering lockdown hear m...            Negative   \n",
       "\n",
       "       Sentiment_index           Sentiment_onehot  \n",
       "26887                2  [0.0, 0.0, 1.0, 0.0, 0.0]  \n",
       "344                  3  [0.0, 0.0, 0.0, 1.0, 0.0]  \n",
       "26619                1  [0.0, 1.0, 0.0, 0.0, 0.0]  \n",
       "34461                4  [0.0, 0.0, 0.0, 0.0, 1.0]  \n",
       "19347                4  [0.0, 0.0, 0.0, 0.0, 1.0]  \n",
       "...                ...                        ...  \n",
       "39516                2  [0.0, 0.0, 1.0, 0.0, 0.0]  \n",
       "6682                 1  [0.0, 1.0, 0.0, 0.0, 0.0]  \n",
       "12261                0  [1.0, 0.0, 0.0, 0.0, 0.0]  \n",
       "19725                1  [0.0, 1.0, 0.0, 0.0, 0.0]  \n",
       "33013                1  [0.0, 1.0, 0.0, 0.0, 0.0]  \n",
       "\n",
       "[8232 rows x 4 columns]"
      ]
     },
     "execution_count": 15,
     "metadata": {},
     "output_type": "execute_result"
    }
   ],
   "source": [
    "val_df"
   ]
  },
  {
   "cell_type": "markdown",
   "metadata": {},
   "source": [
    "## Tokenization"
   ]
  },
  {
   "cell_type": "code",
   "execution_count": 16,
   "metadata": {},
   "outputs": [
    {
     "data": {
      "text/plain": [
       "<keras_preprocessing.text.Tokenizer at 0x167b91760>"
      ]
     },
     "execution_count": 16,
     "metadata": {},
     "output_type": "execute_result"
    }
   ],
   "source": [
    "tokenizer = Tokenizer()\n",
    "tokenizer"
   ]
  },
  {
   "cell_type": "code",
   "execution_count": 17,
   "metadata": {},
   "outputs": [],
   "source": [
    "tokenizer.fit_on_texts(train_df.OriginalTweet)"
   ]
  },
  {
   "cell_type": "code",
   "execution_count": 18,
   "metadata": {},
   "outputs": [
    {
     "data": {
      "text/html": [
       "<div>\n",
       "<style scoped>\n",
       "    .dataframe tbody tr th:only-of-type {\n",
       "        vertical-align: middle;\n",
       "    }\n",
       "\n",
       "    .dataframe tbody tr th {\n",
       "        vertical-align: top;\n",
       "    }\n",
       "\n",
       "    .dataframe thead th {\n",
       "        text-align: right;\n",
       "    }\n",
       "</style>\n",
       "<table border=\"1\" class=\"dataframe\">\n",
       "  <thead>\n",
       "    <tr style=\"text-align: right;\">\n",
       "      <th></th>\n",
       "      <th>OriginalTweet</th>\n",
       "      <th>Sentiment</th>\n",
       "      <th>Sentiment_index</th>\n",
       "      <th>Sentiment_onehot</th>\n",
       "      <th>OriginalTweet_tokenized</th>\n",
       "    </tr>\n",
       "  </thead>\n",
       "  <tbody>\n",
       "    <tr>\n",
       "      <th>32259</th>\n",
       "      <td>staff put together update need know today</td>\n",
       "      <td>Neutral</td>\n",
       "      <td>2</td>\n",
       "      <td>[0.0, 0.0, 1.0, 0.0, 0.0]</td>\n",
       "      <td>[57, 176, 269, 364, 13, 52, 42]</td>\n",
       "    </tr>\n",
       "    <tr>\n",
       "      <th>12637</th>\n",
       "      <td>described msm âhighly skilled politician â. ...</td>\n",
       "      <td>Extremely Positive</td>\n",
       "      <td>4</td>\n",
       "      <td>[0.0, 0.0, 0.0, 0.0, 1.0]</td>\n",
       "      <td>[5871, 8599, 16283, 5489, 6362, 2009, 4861, 48...</td>\n",
       "    </tr>\n",
       "    <tr>\n",
       "      <th>34646</th>\n",
       "      <td>pretty sad high point day scoring toilet paper...</td>\n",
       "      <td>Positive</td>\n",
       "      <td>3</td>\n",
       "      <td>[0.0, 0.0, 0.0, 1.0, 0.0]</td>\n",
       "      <td>[807, 1072, 113, 462, 54, 16284, 37, 38, 38, 1...</td>\n",
       "    </tr>\n",
       "    <tr>\n",
       "      <th>10578</th>\n",
       "      <td>came across this, supermarket, sure caught it?</td>\n",
       "      <td>Negative</td>\n",
       "      <td>1</td>\n",
       "      <td>[0.0, 1.0, 0.0, 0.0, 0.0]</td>\n",
       "      <td>[680, 178, 211, 5, 199, 1494, 130]</td>\n",
       "    </tr>\n",
       "    <tr>\n",
       "      <th>9977</th>\n",
       "      <td>restaurant offers entire stock food staff clos...</td>\n",
       "      <td>Neutral</td>\n",
       "      <td>2</td>\n",
       "      <td>[0.0, 0.0, 1.0, 0.0, 0.0]</td>\n",
       "      <td>[536, 922, 965, 29, 3, 57, 1846, 30, 1]</td>\n",
       "    </tr>\n",
       "    <tr>\n",
       "      <th>...</th>\n",
       "      <td>...</td>\n",
       "      <td>...</td>\n",
       "      <td>...</td>\n",
       "      <td>...</td>\n",
       "      <td>...</td>\n",
       "    </tr>\n",
       "    <tr>\n",
       "      <th>34254</th>\n",
       "      <td>report: impact covid- consumer behavior make l...</td>\n",
       "      <td>Negative</td>\n",
       "      <td>1</td>\n",
       "      <td>[0.0, 1.0, 0.0, 0.0, 0.0]</td>\n",
       "      <td>[190, 90, 1, 9, 241, 48, 728, 787]</td>\n",
       "    </tr>\n",
       "    <tr>\n",
       "      <th>32469</th>\n",
       "      <td>healthcare workers grocery store employees any...</td>\n",
       "      <td>Positive</td>\n",
       "      <td>3</td>\n",
       "      <td>[0.0, 0.0, 0.0, 1.0, 0.0]</td>\n",
       "      <td>[291, 15, 6, 4, 89, 173, 284, 259, 376, 12, 67...</td>\n",
       "    </tr>\n",
       "    <tr>\n",
       "      <th>11415</th>\n",
       "      <td>working full time means time go shopping there...</td>\n",
       "      <td>Neutral</td>\n",
       "      <td>2</td>\n",
       "      <td>[0.0, 0.0, 1.0, 0.0, 0.0]</td>\n",
       "      <td>[67, 152, 18, 474, 18, 20, 10, 767, 310, 261, ...</td>\n",
       "    </tr>\n",
       "    <tr>\n",
       "      <th>27332</th>\n",
       "      <td>hypermarket kavac k preparing food packets fam...</td>\n",
       "      <td>Neutral</td>\n",
       "      <td>2</td>\n",
       "      <td>[0.0, 0.0, 1.0, 0.0, 0.0]</td>\n",
       "      <td>[2928, 32035, 427, 2222, 3, 3994, 337, 13]</td>\n",
       "    </tr>\n",
       "    <tr>\n",
       "      <th>32505</th>\n",
       "      <td>basic research consumer perception services. m...</td>\n",
       "      <td>Positive</td>\n",
       "      <td>3</td>\n",
       "      <td>[0.0, 0.0, 0.0, 1.0, 0.0]</td>\n",
       "      <td>[507, 596, 9, 15556, 159, 43, 7, 519, 18, 1299...</td>\n",
       "    </tr>\n",
       "  </tbody>\n",
       "</table>\n",
       "<p>32925 rows × 5 columns</p>\n",
       "</div>"
      ],
      "text/plain": [
       "                                           OriginalTweet           Sentiment  \\\n",
       "32259          staff put together update need know today             Neutral   \n",
       "12637  described msm âhighly skilled politician â. ...  Extremely Positive   \n",
       "34646  pretty sad high point day scoring toilet paper...            Positive   \n",
       "10578     came across this, supermarket, sure caught it?            Negative   \n",
       "9977   restaurant offers entire stock food staff clos...             Neutral   \n",
       "...                                                  ...                 ...   \n",
       "34254  report: impact covid- consumer behavior make l...            Negative   \n",
       "32469  healthcare workers grocery store employees any...            Positive   \n",
       "11415  working full time means time go shopping there...             Neutral   \n",
       "27332  hypermarket kavac k preparing food packets fam...             Neutral   \n",
       "32505  basic research consumer perception services. m...            Positive   \n",
       "\n",
       "       Sentiment_index           Sentiment_onehot  \\\n",
       "32259                2  [0.0, 0.0, 1.0, 0.0, 0.0]   \n",
       "12637                4  [0.0, 0.0, 0.0, 0.0, 1.0]   \n",
       "34646                3  [0.0, 0.0, 0.0, 1.0, 0.0]   \n",
       "10578                1  [0.0, 1.0, 0.0, 0.0, 0.0]   \n",
       "9977                 2  [0.0, 0.0, 1.0, 0.0, 0.0]   \n",
       "...                ...                        ...   \n",
       "34254                1  [0.0, 1.0, 0.0, 0.0, 0.0]   \n",
       "32469                3  [0.0, 0.0, 0.0, 1.0, 0.0]   \n",
       "11415                2  [0.0, 0.0, 1.0, 0.0, 0.0]   \n",
       "27332                2  [0.0, 0.0, 1.0, 0.0, 0.0]   \n",
       "32505                3  [0.0, 0.0, 0.0, 1.0, 0.0]   \n",
       "\n",
       "                                 OriginalTweet_tokenized  \n",
       "32259                    [57, 176, 269, 364, 13, 52, 42]  \n",
       "12637  [5871, 8599, 16283, 5489, 6362, 2009, 4861, 48...  \n",
       "34646  [807, 1072, 113, 462, 54, 16284, 37, 38, 38, 1...  \n",
       "10578                 [680, 178, 211, 5, 199, 1494, 130]  \n",
       "9977             [536, 922, 965, 29, 3, 57, 1846, 30, 1]  \n",
       "...                                                  ...  \n",
       "34254                 [190, 90, 1, 9, 241, 48, 728, 787]  \n",
       "32469  [291, 15, 6, 4, 89, 173, 284, 259, 376, 12, 67...  \n",
       "11415  [67, 152, 18, 474, 18, 20, 10, 767, 310, 261, ...  \n",
       "27332         [2928, 32035, 427, 2222, 3, 3994, 337, 13]  \n",
       "32505  [507, 596, 9, 15556, 159, 43, 7, 519, 18, 1299...  \n",
       "\n",
       "[32925 rows x 5 columns]"
      ]
     },
     "execution_count": 18,
     "metadata": {},
     "output_type": "execute_result"
    }
   ],
   "source": [
    "train_df['OriginalTweet_tokenized'] = tokenizer.texts_to_sequences(train_df['OriginalTweet'])\n",
    "train_df"
   ]
  },
  {
   "cell_type": "code",
   "execution_count": 19,
   "metadata": {},
   "outputs": [
    {
     "data": {
      "text/html": [
       "<div>\n",
       "<style scoped>\n",
       "    .dataframe tbody tr th:only-of-type {\n",
       "        vertical-align: middle;\n",
       "    }\n",
       "\n",
       "    .dataframe tbody tr th {\n",
       "        vertical-align: top;\n",
       "    }\n",
       "\n",
       "    .dataframe thead th {\n",
       "        text-align: right;\n",
       "    }\n",
       "</style>\n",
       "<table border=\"1\" class=\"dataframe\">\n",
       "  <thead>\n",
       "    <tr style=\"text-align: right;\">\n",
       "      <th></th>\n",
       "      <th>OriginalTweet</th>\n",
       "      <th>Sentiment</th>\n",
       "      <th>Sentiment_index</th>\n",
       "      <th>Sentiment_onehot</th>\n",
       "      <th>OriginalTweet_tokenized</th>\n",
       "    </tr>\n",
       "  </thead>\n",
       "  <tbody>\n",
       "    <tr>\n",
       "      <th>26887</th>\n",
       "      <td>supermarkets al meera consumer goods co. start...</td>\n",
       "      <td>Neutral</td>\n",
       "      <td>2</td>\n",
       "      <td>[0.0, 0.0, 1.0, 0.0, 0.0]</td>\n",
       "      <td>[151, 2979, 14908, 9, 183, 943, 574, 6705, 983...</td>\n",
       "    </tr>\n",
       "    <tr>\n",
       "      <th>344</th>\n",
       "      <td>guy taking whole stride. sensible, panicking g...</td>\n",
       "      <td>Positive</td>\n",
       "      <td>3</td>\n",
       "      <td>[0.0, 0.0, 0.0, 1.0, 0.0]</td>\n",
       "      <td>[1139, 161, 429, 2677, 2190, 3411, 5499, 194, ...</td>\n",
       "    </tr>\n",
       "    <tr>\n",
       "      <th>26619</th>\n",
       "      <td>salvation army jackson said experiencing criti...</td>\n",
       "      <td>Negative</td>\n",
       "      <td>1</td>\n",
       "      <td>[0.0, 1.0, 0.0, 0.0, 0.0]</td>\n",
       "      <td>[8022, 2159, 12888, 116, 1319, 483, 329, 3, 13...</td>\n",
       "    </tr>\n",
       "    <tr>\n",
       "      <th>34461</th>\n",
       "      <td>one top priorities trump considering mitigatio...</td>\n",
       "      <td>Extremely Positive</td>\n",
       "      <td>4</td>\n",
       "      <td>[0.0, 0.0, 0.0, 0.0, 1.0]</td>\n",
       "      <td>[28, 464, 2415, 256, 1663, 9844, 3, 8, 1312, 1...</td>\n",
       "    </tr>\n",
       "    <tr>\n",
       "      <th>19347</th>\n",
       "      <td>coronavirus covid store update unfortunately d...</td>\n",
       "      <td>Extremely Positive</td>\n",
       "      <td>4</td>\n",
       "      <td>[0.0, 0.0, 0.0, 0.0, 1.0]</td>\n",
       "      <td>[24, 1, 4, 364, 1578, 30, 99, 5312, 95, 1598, ...</td>\n",
       "    </tr>\n",
       "    <tr>\n",
       "      <th>...</th>\n",
       "      <td>...</td>\n",
       "      <td>...</td>\n",
       "      <td>...</td>\n",
       "      <td>...</td>\n",
       "      <td>...</td>\n",
       "    </tr>\n",
       "    <tr>\n",
       "      <th>39516</th>\n",
       "      <td>one word explain</td>\n",
       "      <td>Neutral</td>\n",
       "      <td>2</td>\n",
       "      <td>[0.0, 0.0, 1.0, 0.0, 0.0]</td>\n",
       "      <td>[28, 1430, 2000]</td>\n",
       "    </tr>\n",
       "    <tr>\n",
       "      <th>6682</th>\n",
       "      <td>covid - panic buying supermarket!</td>\n",
       "      <td>Negative</td>\n",
       "      <td>1</td>\n",
       "      <td>[0.0, 1.0, 0.0, 0.0, 0.0]</td>\n",
       "      <td>[1, 16, 31, 5]</td>\n",
       "    </tr>\n",
       "    <tr>\n",
       "      <th>12261</th>\n",
       "      <td>seriously, stop panic buying. plenty supplies ...</td>\n",
       "      <td>Extremely Negative</td>\n",
       "      <td>0</td>\n",
       "      <td>[1.0, 0.0, 0.0, 0.0, 0.0]</td>\n",
       "      <td>[558, 58, 16, 31, 620, 97, 529, 988, 148, 265,...</td>\n",
       "    </tr>\n",
       "    <tr>\n",
       "      <th>19725</th>\n",
       "      <td>guarantee people moaning people going ones pan...</td>\n",
       "      <td>Negative</td>\n",
       "      <td>1</td>\n",
       "      <td>[0.0, 1.0, 0.0, 0.0, 0.0]</td>\n",
       "      <td>[3882, 7, 6188, 7, 27, 628, 16, 360, 603, 3, 2...</td>\n",
       "    </tr>\n",
       "    <tr>\n",
       "      <th>33013</th>\n",
       "      <td>starting wonder even bothering lockdown hear m...</td>\n",
       "      <td>Negative</td>\n",
       "      <td>1</td>\n",
       "      <td>[0.0, 1.0, 0.0, 0.0, 0.0]</td>\n",
       "      <td>[610, 910, 61, 12014, 101, 654, 1192, 247, 701...</td>\n",
       "    </tr>\n",
       "  </tbody>\n",
       "</table>\n",
       "<p>8232 rows × 5 columns</p>\n",
       "</div>"
      ],
      "text/plain": [
       "                                           OriginalTweet           Sentiment  \\\n",
       "26887  supermarkets al meera consumer goods co. start...             Neutral   \n",
       "344    guy taking whole stride. sensible, panicking g...            Positive   \n",
       "26619  salvation army jackson said experiencing criti...            Negative   \n",
       "34461  one top priorities trump considering mitigatio...  Extremely Positive   \n",
       "19347  coronavirus covid store update unfortunately d...  Extremely Positive   \n",
       "...                                                  ...                 ...   \n",
       "39516                                   one word explain             Neutral   \n",
       "6682                   covid - panic buying supermarket!            Negative   \n",
       "12261  seriously, stop panic buying. plenty supplies ...  Extremely Negative   \n",
       "19725  guarantee people moaning people going ones pan...            Negative   \n",
       "33013  starting wonder even bothering lockdown hear m...            Negative   \n",
       "\n",
       "       Sentiment_index           Sentiment_onehot  \\\n",
       "26887                2  [0.0, 0.0, 1.0, 0.0, 0.0]   \n",
       "344                  3  [0.0, 0.0, 0.0, 1.0, 0.0]   \n",
       "26619                1  [0.0, 1.0, 0.0, 0.0, 0.0]   \n",
       "34461                4  [0.0, 0.0, 0.0, 0.0, 1.0]   \n",
       "19347                4  [0.0, 0.0, 0.0, 0.0, 1.0]   \n",
       "...                ...                        ...   \n",
       "39516                2  [0.0, 0.0, 1.0, 0.0, 0.0]   \n",
       "6682                 1  [0.0, 1.0, 0.0, 0.0, 0.0]   \n",
       "12261                0  [1.0, 0.0, 0.0, 0.0, 0.0]   \n",
       "19725                1  [0.0, 1.0, 0.0, 0.0, 0.0]   \n",
       "33013                1  [0.0, 1.0, 0.0, 0.0, 0.0]   \n",
       "\n",
       "                                 OriginalTweet_tokenized  \n",
       "26887  [151, 2979, 14908, 9, 183, 943, 574, 6705, 983...  \n",
       "344    [1139, 161, 429, 2677, 2190, 3411, 5499, 194, ...  \n",
       "26619  [8022, 2159, 12888, 116, 1319, 483, 329, 3, 13...  \n",
       "34461  [28, 464, 2415, 256, 1663, 9844, 3, 8, 1312, 1...  \n",
       "19347  [24, 1, 4, 364, 1578, 30, 99, 5312, 95, 1598, ...  \n",
       "...                                                  ...  \n",
       "39516                                   [28, 1430, 2000]  \n",
       "6682                                      [1, 16, 31, 5]  \n",
       "12261  [558, 58, 16, 31, 620, 97, 529, 988, 148, 265,...  \n",
       "19725  [3882, 7, 6188, 7, 27, 628, 16, 360, 603, 3, 2...  \n",
       "33013  [610, 910, 61, 12014, 101, 654, 1192, 247, 701...  \n",
       "\n",
       "[8232 rows x 5 columns]"
      ]
     },
     "execution_count": 19,
     "metadata": {},
     "output_type": "execute_result"
    }
   ],
   "source": [
    "val_df['OriginalTweet_tokenized'] = tokenizer.texts_to_sequences(val_df['OriginalTweet'])\n",
    "val_df"
   ]
  },
  {
   "cell_type": "markdown",
   "metadata": {},
   "source": [
    "## Pad sequence"
   ]
  },
  {
   "cell_type": "code",
   "execution_count": 20,
   "metadata": {},
   "outputs": [
    {
     "data": {
      "text/html": [
       "<div>\n",
       "<style scoped>\n",
       "    .dataframe tbody tr th:only-of-type {\n",
       "        vertical-align: middle;\n",
       "    }\n",
       "\n",
       "    .dataframe tbody tr th {\n",
       "        vertical-align: top;\n",
       "    }\n",
       "\n",
       "    .dataframe thead th {\n",
       "        text-align: right;\n",
       "    }\n",
       "</style>\n",
       "<table border=\"1\" class=\"dataframe\">\n",
       "  <thead>\n",
       "    <tr style=\"text-align: right;\">\n",
       "      <th></th>\n",
       "      <th>OriginalTweet</th>\n",
       "      <th>Sentiment</th>\n",
       "      <th>Sentiment_index</th>\n",
       "      <th>Sentiment_onehot</th>\n",
       "      <th>OriginalTweet_tokenized</th>\n",
       "      <th>OriginalTweet_tokenized_len</th>\n",
       "    </tr>\n",
       "  </thead>\n",
       "  <tbody>\n",
       "    <tr>\n",
       "      <th>32259</th>\n",
       "      <td>staff put together update need know today</td>\n",
       "      <td>Neutral</td>\n",
       "      <td>2</td>\n",
       "      <td>[0.0, 0.0, 1.0, 0.0, 0.0]</td>\n",
       "      <td>[57, 176, 269, 364, 13, 52, 42]</td>\n",
       "      <td>7</td>\n",
       "    </tr>\n",
       "    <tr>\n",
       "      <th>12637</th>\n",
       "      <td>described msm âhighly skilled politician â. ...</td>\n",
       "      <td>Extremely Positive</td>\n",
       "      <td>4</td>\n",
       "      <td>[0.0, 0.0, 0.0, 0.0, 1.0]</td>\n",
       "      <td>[5871, 8599, 16283, 5489, 6362, 2009, 4861, 48...</td>\n",
       "      <td>21</td>\n",
       "    </tr>\n",
       "    <tr>\n",
       "      <th>34646</th>\n",
       "      <td>pretty sad high point day scoring toilet paper...</td>\n",
       "      <td>Positive</td>\n",
       "      <td>3</td>\n",
       "      <td>[0.0, 0.0, 0.0, 1.0, 0.0]</td>\n",
       "      <td>[807, 1072, 113, 462, 54, 16284, 37, 38, 38, 1...</td>\n",
       "      <td>19</td>\n",
       "    </tr>\n",
       "    <tr>\n",
       "      <th>10578</th>\n",
       "      <td>came across this, supermarket, sure caught it?</td>\n",
       "      <td>Negative</td>\n",
       "      <td>1</td>\n",
       "      <td>[0.0, 1.0, 0.0, 0.0, 0.0]</td>\n",
       "      <td>[680, 178, 211, 5, 199, 1494, 130]</td>\n",
       "      <td>7</td>\n",
       "    </tr>\n",
       "    <tr>\n",
       "      <th>9977</th>\n",
       "      <td>restaurant offers entire stock food staff clos...</td>\n",
       "      <td>Neutral</td>\n",
       "      <td>2</td>\n",
       "      <td>[0.0, 0.0, 1.0, 0.0, 0.0]</td>\n",
       "      <td>[536, 922, 965, 29, 3, 57, 1846, 30, 1]</td>\n",
       "      <td>9</td>\n",
       "    </tr>\n",
       "    <tr>\n",
       "      <th>...</th>\n",
       "      <td>...</td>\n",
       "      <td>...</td>\n",
       "      <td>...</td>\n",
       "      <td>...</td>\n",
       "      <td>...</td>\n",
       "      <td>...</td>\n",
       "    </tr>\n",
       "    <tr>\n",
       "      <th>34254</th>\n",
       "      <td>report: impact covid- consumer behavior make l...</td>\n",
       "      <td>Negative</td>\n",
       "      <td>1</td>\n",
       "      <td>[0.0, 1.0, 0.0, 0.0, 0.0]</td>\n",
       "      <td>[190, 90, 1, 9, 241, 48, 728, 787]</td>\n",
       "      <td>8</td>\n",
       "    </tr>\n",
       "    <tr>\n",
       "      <th>32469</th>\n",
       "      <td>healthcare workers grocery store employees any...</td>\n",
       "      <td>Positive</td>\n",
       "      <td>3</td>\n",
       "      <td>[0.0, 0.0, 0.0, 1.0, 0.0]</td>\n",
       "      <td>[291, 15, 6, 4, 89, 173, 284, 259, 376, 12, 67...</td>\n",
       "      <td>15</td>\n",
       "    </tr>\n",
       "    <tr>\n",
       "      <th>11415</th>\n",
       "      <td>working full time means time go shopping there...</td>\n",
       "      <td>Neutral</td>\n",
       "      <td>2</td>\n",
       "      <td>[0.0, 0.0, 1.0, 0.0, 0.0]</td>\n",
       "      <td>[67, 152, 18, 474, 18, 20, 10, 767, 310, 261, ...</td>\n",
       "      <td>12</td>\n",
       "    </tr>\n",
       "    <tr>\n",
       "      <th>27332</th>\n",
       "      <td>hypermarket kavac k preparing food packets fam...</td>\n",
       "      <td>Neutral</td>\n",
       "      <td>2</td>\n",
       "      <td>[0.0, 0.0, 1.0, 0.0, 0.0]</td>\n",
       "      <td>[2928, 32035, 427, 2222, 3, 3994, 337, 13]</td>\n",
       "      <td>8</td>\n",
       "    </tr>\n",
       "    <tr>\n",
       "      <th>32505</th>\n",
       "      <td>basic research consumer perception services. m...</td>\n",
       "      <td>Positive</td>\n",
       "      <td>3</td>\n",
       "      <td>[0.0, 0.0, 0.0, 1.0, 0.0]</td>\n",
       "      <td>[507, 596, 9, 15556, 159, 43, 7, 519, 18, 1299...</td>\n",
       "      <td>18</td>\n",
       "    </tr>\n",
       "  </tbody>\n",
       "</table>\n",
       "<p>32925 rows × 6 columns</p>\n",
       "</div>"
      ],
      "text/plain": [
       "                                           OriginalTweet           Sentiment  \\\n",
       "32259          staff put together update need know today             Neutral   \n",
       "12637  described msm âhighly skilled politician â. ...  Extremely Positive   \n",
       "34646  pretty sad high point day scoring toilet paper...            Positive   \n",
       "10578     came across this, supermarket, sure caught it?            Negative   \n",
       "9977   restaurant offers entire stock food staff clos...             Neutral   \n",
       "...                                                  ...                 ...   \n",
       "34254  report: impact covid- consumer behavior make l...            Negative   \n",
       "32469  healthcare workers grocery store employees any...            Positive   \n",
       "11415  working full time means time go shopping there...             Neutral   \n",
       "27332  hypermarket kavac k preparing food packets fam...             Neutral   \n",
       "32505  basic research consumer perception services. m...            Positive   \n",
       "\n",
       "       Sentiment_index           Sentiment_onehot  \\\n",
       "32259                2  [0.0, 0.0, 1.0, 0.0, 0.0]   \n",
       "12637                4  [0.0, 0.0, 0.0, 0.0, 1.0]   \n",
       "34646                3  [0.0, 0.0, 0.0, 1.0, 0.0]   \n",
       "10578                1  [0.0, 1.0, 0.0, 0.0, 0.0]   \n",
       "9977                 2  [0.0, 0.0, 1.0, 0.0, 0.0]   \n",
       "...                ...                        ...   \n",
       "34254                1  [0.0, 1.0, 0.0, 0.0, 0.0]   \n",
       "32469                3  [0.0, 0.0, 0.0, 1.0, 0.0]   \n",
       "11415                2  [0.0, 0.0, 1.0, 0.0, 0.0]   \n",
       "27332                2  [0.0, 0.0, 1.0, 0.0, 0.0]   \n",
       "32505                3  [0.0, 0.0, 0.0, 1.0, 0.0]   \n",
       "\n",
       "                                 OriginalTweet_tokenized  \\\n",
       "32259                    [57, 176, 269, 364, 13, 52, 42]   \n",
       "12637  [5871, 8599, 16283, 5489, 6362, 2009, 4861, 48...   \n",
       "34646  [807, 1072, 113, 462, 54, 16284, 37, 38, 38, 1...   \n",
       "10578                 [680, 178, 211, 5, 199, 1494, 130]   \n",
       "9977             [536, 922, 965, 29, 3, 57, 1846, 30, 1]   \n",
       "...                                                  ...   \n",
       "34254                 [190, 90, 1, 9, 241, 48, 728, 787]   \n",
       "32469  [291, 15, 6, 4, 89, 173, 284, 259, 376, 12, 67...   \n",
       "11415  [67, 152, 18, 474, 18, 20, 10, 767, 310, 261, ...   \n",
       "27332         [2928, 32035, 427, 2222, 3, 3994, 337, 13]   \n",
       "32505  [507, 596, 9, 15556, 159, 43, 7, 519, 18, 1299...   \n",
       "\n",
       "       OriginalTweet_tokenized_len  \n",
       "32259                            7  \n",
       "12637                           21  \n",
       "34646                           19  \n",
       "10578                            7  \n",
       "9977                             9  \n",
       "...                            ...  \n",
       "34254                            8  \n",
       "32469                           15  \n",
       "11415                           12  \n",
       "27332                            8  \n",
       "32505                           18  \n",
       "\n",
       "[32925 rows x 6 columns]"
      ]
     },
     "execution_count": 20,
     "metadata": {},
     "output_type": "execute_result"
    }
   ],
   "source": [
    "train_df['OriginalTweet_tokenized_len'] = train_df.OriginalTweet_tokenized.apply(lambda x :len(x))\n",
    "train_df"
   ]
  },
  {
   "cell_type": "code",
   "execution_count": 21,
   "metadata": {},
   "outputs": [
    {
     "data": {
      "text/plain": [
       "43"
      ]
     },
     "execution_count": 21,
     "metadata": {},
     "output_type": "execute_result"
    }
   ],
   "source": [
    "max_len = np.max(train_df.OriginalTweet_tokenized_len)\n",
    "max_len"
   ]
  },
  {
   "cell_type": "code",
   "execution_count": 22,
   "metadata": {},
   "outputs": [
    {
     "data": {
      "text/plain": [
       "16.113530751708428"
      ]
     },
     "execution_count": 22,
     "metadata": {},
     "output_type": "execute_result"
    }
   ],
   "source": [
    "np.average(train_df.OriginalTweet_tokenized_len)"
   ]
  },
  {
   "cell_type": "code",
   "execution_count": 23,
   "metadata": {
    "scrolled": true
   },
   "outputs": [
    {
     "data": {
      "text/html": [
       "<div>\n",
       "<style scoped>\n",
       "    .dataframe tbody tr th:only-of-type {\n",
       "        vertical-align: middle;\n",
       "    }\n",
       "\n",
       "    .dataframe tbody tr th {\n",
       "        vertical-align: top;\n",
       "    }\n",
       "\n",
       "    .dataframe thead th {\n",
       "        text-align: right;\n",
       "    }\n",
       "</style>\n",
       "<table border=\"1\" class=\"dataframe\">\n",
       "  <thead>\n",
       "    <tr style=\"text-align: right;\">\n",
       "      <th></th>\n",
       "      <th>OriginalTweet</th>\n",
       "      <th>Sentiment</th>\n",
       "      <th>Sentiment_index</th>\n",
       "      <th>Sentiment_onehot</th>\n",
       "      <th>OriginalTweet_tokenized</th>\n",
       "      <th>OriginalTweet_tokenized_len</th>\n",
       "      <th>OriginalTweet_tokenized_padded</th>\n",
       "      <th>OriginalTweet_tokenized_padded_len</th>\n",
       "    </tr>\n",
       "  </thead>\n",
       "  <tbody>\n",
       "    <tr>\n",
       "      <th>32259</th>\n",
       "      <td>staff put together update need know today</td>\n",
       "      <td>Neutral</td>\n",
       "      <td>2</td>\n",
       "      <td>[0.0, 0.0, 1.0, 0.0, 0.0]</td>\n",
       "      <td>[57, 176, 269, 364, 13, 52, 42]</td>\n",
       "      <td>7</td>\n",
       "      <td>[57.0, 176.0, 269.0, 364.0, 13.0, 52.0, 42.0, ...</td>\n",
       "      <td>43</td>\n",
       "    </tr>\n",
       "    <tr>\n",
       "      <th>12637</th>\n",
       "      <td>described msm âhighly skilled politician â. ...</td>\n",
       "      <td>Extremely Positive</td>\n",
       "      <td>4</td>\n",
       "      <td>[0.0, 0.0, 0.0, 0.0, 1.0]</td>\n",
       "      <td>[5871, 8599, 16283, 5489, 6362, 2009, 4861, 48...</td>\n",
       "      <td>21</td>\n",
       "      <td>[5871.0, 8599.0, 16283.0, 5489.0, 6362.0, 2009...</td>\n",
       "      <td>43</td>\n",
       "    </tr>\n",
       "    <tr>\n",
       "      <th>34646</th>\n",
       "      <td>pretty sad high point day scoring toilet paper...</td>\n",
       "      <td>Positive</td>\n",
       "      <td>3</td>\n",
       "      <td>[0.0, 0.0, 0.0, 1.0, 0.0]</td>\n",
       "      <td>[807, 1072, 113, 462, 54, 16284, 37, 38, 38, 1...</td>\n",
       "      <td>19</td>\n",
       "      <td>[807.0, 1072.0, 113.0, 462.0, 54.0, 16284.0, 3...</td>\n",
       "      <td>43</td>\n",
       "    </tr>\n",
       "    <tr>\n",
       "      <th>10578</th>\n",
       "      <td>came across this, supermarket, sure caught it?</td>\n",
       "      <td>Negative</td>\n",
       "      <td>1</td>\n",
       "      <td>[0.0, 1.0, 0.0, 0.0, 0.0]</td>\n",
       "      <td>[680, 178, 211, 5, 199, 1494, 130]</td>\n",
       "      <td>7</td>\n",
       "      <td>[680.0, 178.0, 211.0, 5.0, 199.0, 1494.0, 130....</td>\n",
       "      <td>43</td>\n",
       "    </tr>\n",
       "    <tr>\n",
       "      <th>9977</th>\n",
       "      <td>restaurant offers entire stock food staff clos...</td>\n",
       "      <td>Neutral</td>\n",
       "      <td>2</td>\n",
       "      <td>[0.0, 0.0, 1.0, 0.0, 0.0]</td>\n",
       "      <td>[536, 922, 965, 29, 3, 57, 1846, 30, 1]</td>\n",
       "      <td>9</td>\n",
       "      <td>[536.0, 922.0, 965.0, 29.0, 3.0, 57.0, 1846.0,...</td>\n",
       "      <td>43</td>\n",
       "    </tr>\n",
       "    <tr>\n",
       "      <th>...</th>\n",
       "      <td>...</td>\n",
       "      <td>...</td>\n",
       "      <td>...</td>\n",
       "      <td>...</td>\n",
       "      <td>...</td>\n",
       "      <td>...</td>\n",
       "      <td>...</td>\n",
       "      <td>...</td>\n",
       "    </tr>\n",
       "    <tr>\n",
       "      <th>34254</th>\n",
       "      <td>report: impact covid- consumer behavior make l...</td>\n",
       "      <td>Negative</td>\n",
       "      <td>1</td>\n",
       "      <td>[0.0, 1.0, 0.0, 0.0, 0.0]</td>\n",
       "      <td>[190, 90, 1, 9, 241, 48, 728, 787]</td>\n",
       "      <td>8</td>\n",
       "      <td>[190.0, 90.0, 1.0, 9.0, 241.0, 48.0, 728.0, 78...</td>\n",
       "      <td>43</td>\n",
       "    </tr>\n",
       "    <tr>\n",
       "      <th>32469</th>\n",
       "      <td>healthcare workers grocery store employees any...</td>\n",
       "      <td>Positive</td>\n",
       "      <td>3</td>\n",
       "      <td>[0.0, 0.0, 0.0, 1.0, 0.0]</td>\n",
       "      <td>[291, 15, 6, 4, 89, 173, 284, 259, 376, 12, 67...</td>\n",
       "      <td>15</td>\n",
       "      <td>[291.0, 15.0, 6.0, 4.0, 89.0, 173.0, 284.0, 25...</td>\n",
       "      <td>43</td>\n",
       "    </tr>\n",
       "    <tr>\n",
       "      <th>11415</th>\n",
       "      <td>working full time means time go shopping there...</td>\n",
       "      <td>Neutral</td>\n",
       "      <td>2</td>\n",
       "      <td>[0.0, 0.0, 1.0, 0.0, 0.0]</td>\n",
       "      <td>[67, 152, 18, 474, 18, 20, 10, 767, 310, 261, ...</td>\n",
       "      <td>12</td>\n",
       "      <td>[67.0, 152.0, 18.0, 474.0, 18.0, 20.0, 10.0, 7...</td>\n",
       "      <td>43</td>\n",
       "    </tr>\n",
       "    <tr>\n",
       "      <th>27332</th>\n",
       "      <td>hypermarket kavac k preparing food packets fam...</td>\n",
       "      <td>Neutral</td>\n",
       "      <td>2</td>\n",
       "      <td>[0.0, 0.0, 1.0, 0.0, 0.0]</td>\n",
       "      <td>[2928, 32035, 427, 2222, 3, 3994, 337, 13]</td>\n",
       "      <td>8</td>\n",
       "      <td>[2928.0, 32035.0, 427.0, 2222.0, 3.0, 3994.0, ...</td>\n",
       "      <td>43</td>\n",
       "    </tr>\n",
       "    <tr>\n",
       "      <th>32505</th>\n",
       "      <td>basic research consumer perception services. m...</td>\n",
       "      <td>Positive</td>\n",
       "      <td>3</td>\n",
       "      <td>[0.0, 0.0, 0.0, 1.0, 0.0]</td>\n",
       "      <td>[507, 596, 9, 15556, 159, 43, 7, 519, 18, 1299...</td>\n",
       "      <td>18</td>\n",
       "      <td>[507.0, 596.0, 9.0, 15556.0, 159.0, 43.0, 7.0,...</td>\n",
       "      <td>43</td>\n",
       "    </tr>\n",
       "  </tbody>\n",
       "</table>\n",
       "<p>32925 rows × 8 columns</p>\n",
       "</div>"
      ],
      "text/plain": [
       "                                           OriginalTweet           Sentiment  \\\n",
       "32259          staff put together update need know today             Neutral   \n",
       "12637  described msm âhighly skilled politician â. ...  Extremely Positive   \n",
       "34646  pretty sad high point day scoring toilet paper...            Positive   \n",
       "10578     came across this, supermarket, sure caught it?            Negative   \n",
       "9977   restaurant offers entire stock food staff clos...             Neutral   \n",
       "...                                                  ...                 ...   \n",
       "34254  report: impact covid- consumer behavior make l...            Negative   \n",
       "32469  healthcare workers grocery store employees any...            Positive   \n",
       "11415  working full time means time go shopping there...             Neutral   \n",
       "27332  hypermarket kavac k preparing food packets fam...             Neutral   \n",
       "32505  basic research consumer perception services. m...            Positive   \n",
       "\n",
       "       Sentiment_index           Sentiment_onehot  \\\n",
       "32259                2  [0.0, 0.0, 1.0, 0.0, 0.0]   \n",
       "12637                4  [0.0, 0.0, 0.0, 0.0, 1.0]   \n",
       "34646                3  [0.0, 0.0, 0.0, 1.0, 0.0]   \n",
       "10578                1  [0.0, 1.0, 0.0, 0.0, 0.0]   \n",
       "9977                 2  [0.0, 0.0, 1.0, 0.0, 0.0]   \n",
       "...                ...                        ...   \n",
       "34254                1  [0.0, 1.0, 0.0, 0.0, 0.0]   \n",
       "32469                3  [0.0, 0.0, 0.0, 1.0, 0.0]   \n",
       "11415                2  [0.0, 0.0, 1.0, 0.0, 0.0]   \n",
       "27332                2  [0.0, 0.0, 1.0, 0.0, 0.0]   \n",
       "32505                3  [0.0, 0.0, 0.0, 1.0, 0.0]   \n",
       "\n",
       "                                 OriginalTweet_tokenized  \\\n",
       "32259                    [57, 176, 269, 364, 13, 52, 42]   \n",
       "12637  [5871, 8599, 16283, 5489, 6362, 2009, 4861, 48...   \n",
       "34646  [807, 1072, 113, 462, 54, 16284, 37, 38, 38, 1...   \n",
       "10578                 [680, 178, 211, 5, 199, 1494, 130]   \n",
       "9977             [536, 922, 965, 29, 3, 57, 1846, 30, 1]   \n",
       "...                                                  ...   \n",
       "34254                 [190, 90, 1, 9, 241, 48, 728, 787]   \n",
       "32469  [291, 15, 6, 4, 89, 173, 284, 259, 376, 12, 67...   \n",
       "11415  [67, 152, 18, 474, 18, 20, 10, 767, 310, 261, ...   \n",
       "27332         [2928, 32035, 427, 2222, 3, 3994, 337, 13]   \n",
       "32505  [507, 596, 9, 15556, 159, 43, 7, 519, 18, 1299...   \n",
       "\n",
       "       OriginalTweet_tokenized_len  \\\n",
       "32259                            7   \n",
       "12637                           21   \n",
       "34646                           19   \n",
       "10578                            7   \n",
       "9977                             9   \n",
       "...                            ...   \n",
       "34254                            8   \n",
       "32469                           15   \n",
       "11415                           12   \n",
       "27332                            8   \n",
       "32505                           18   \n",
       "\n",
       "                          OriginalTweet_tokenized_padded  \\\n",
       "32259  [57.0, 176.0, 269.0, 364.0, 13.0, 52.0, 42.0, ...   \n",
       "12637  [5871.0, 8599.0, 16283.0, 5489.0, 6362.0, 2009...   \n",
       "34646  [807.0, 1072.0, 113.0, 462.0, 54.0, 16284.0, 3...   \n",
       "10578  [680.0, 178.0, 211.0, 5.0, 199.0, 1494.0, 130....   \n",
       "9977   [536.0, 922.0, 965.0, 29.0, 3.0, 57.0, 1846.0,...   \n",
       "...                                                  ...   \n",
       "34254  [190.0, 90.0, 1.0, 9.0, 241.0, 48.0, 728.0, 78...   \n",
       "32469  [291.0, 15.0, 6.0, 4.0, 89.0, 173.0, 284.0, 25...   \n",
       "11415  [67.0, 152.0, 18.0, 474.0, 18.0, 20.0, 10.0, 7...   \n",
       "27332  [2928.0, 32035.0, 427.0, 2222.0, 3.0, 3994.0, ...   \n",
       "32505  [507.0, 596.0, 9.0, 15556.0, 159.0, 43.0, 7.0,...   \n",
       "\n",
       "       OriginalTweet_tokenized_padded_len  \n",
       "32259                                  43  \n",
       "12637                                  43  \n",
       "34646                                  43  \n",
       "10578                                  43  \n",
       "9977                                   43  \n",
       "...                                   ...  \n",
       "34254                                  43  \n",
       "32469                                  43  \n",
       "11415                                  43  \n",
       "27332                                  43  \n",
       "32505                                  43  \n",
       "\n",
       "[32925 rows x 8 columns]"
      ]
     },
     "execution_count": 23,
     "metadata": {},
     "output_type": "execute_result"
    }
   ],
   "source": [
    "train_df['OriginalTweet_tokenized_padded'] = list(pad_sequences(\n",
    "    train_df.OriginalTweet_tokenized, maxlen=max_len, padding='post', dtype='float32'\n",
    "))\n",
    "train_df['OriginalTweet_tokenized_padded_len'] = train_df.OriginalTweet_tokenized_padded.apply(lambda x :len(x))\n",
    "train_df"
   ]
  },
  {
   "cell_type": "code",
   "execution_count": 24,
   "metadata": {
    "scrolled": true
   },
   "outputs": [
    {
     "data": {
      "text/html": [
       "<div>\n",
       "<style scoped>\n",
       "    .dataframe tbody tr th:only-of-type {\n",
       "        vertical-align: middle;\n",
       "    }\n",
       "\n",
       "    .dataframe tbody tr th {\n",
       "        vertical-align: top;\n",
       "    }\n",
       "\n",
       "    .dataframe thead th {\n",
       "        text-align: right;\n",
       "    }\n",
       "</style>\n",
       "<table border=\"1\" class=\"dataframe\">\n",
       "  <thead>\n",
       "    <tr style=\"text-align: right;\">\n",
       "      <th></th>\n",
       "      <th>OriginalTweet</th>\n",
       "      <th>Sentiment</th>\n",
       "      <th>Sentiment_index</th>\n",
       "      <th>Sentiment_onehot</th>\n",
       "      <th>OriginalTweet_tokenized</th>\n",
       "      <th>OriginalTweet_tokenized_padded</th>\n",
       "      <th>OriginalTweet_tokenized_padded_len</th>\n",
       "    </tr>\n",
       "  </thead>\n",
       "  <tbody>\n",
       "    <tr>\n",
       "      <th>26887</th>\n",
       "      <td>supermarkets al meera consumer goods co. start...</td>\n",
       "      <td>Neutral</td>\n",
       "      <td>2</td>\n",
       "      <td>[0.0, 0.0, 1.0, 0.0, 0.0]</td>\n",
       "      <td>[151, 2979, 14908, 9, 183, 943, 574, 6705, 983...</td>\n",
       "      <td>[151.0, 2979.0, 14908.0, 9.0, 183.0, 943.0, 57...</td>\n",
       "      <td>43</td>\n",
       "    </tr>\n",
       "    <tr>\n",
       "      <th>344</th>\n",
       "      <td>guy taking whole stride. sensible, panicking g...</td>\n",
       "      <td>Positive</td>\n",
       "      <td>3</td>\n",
       "      <td>[0.0, 0.0, 0.0, 1.0, 0.0]</td>\n",
       "      <td>[1139, 161, 429, 2677, 2190, 3411, 5499, 194, ...</td>\n",
       "      <td>[1139.0, 161.0, 429.0, 2677.0, 2190.0, 3411.0,...</td>\n",
       "      <td>43</td>\n",
       "    </tr>\n",
       "    <tr>\n",
       "      <th>26619</th>\n",
       "      <td>salvation army jackson said experiencing criti...</td>\n",
       "      <td>Negative</td>\n",
       "      <td>1</td>\n",
       "      <td>[0.0, 1.0, 0.0, 0.0, 0.0]</td>\n",
       "      <td>[8022, 2159, 12888, 116, 1319, 483, 329, 3, 13...</td>\n",
       "      <td>[8022.0, 2159.0, 12888.0, 116.0, 1319.0, 483.0...</td>\n",
       "      <td>43</td>\n",
       "    </tr>\n",
       "    <tr>\n",
       "      <th>34461</th>\n",
       "      <td>one top priorities trump considering mitigatio...</td>\n",
       "      <td>Extremely Positive</td>\n",
       "      <td>4</td>\n",
       "      <td>[0.0, 0.0, 0.0, 0.0, 1.0]</td>\n",
       "      <td>[28, 464, 2415, 256, 1663, 9844, 3, 8, 1312, 1...</td>\n",
       "      <td>[28.0, 464.0, 2415.0, 256.0, 1663.0, 9844.0, 3...</td>\n",
       "      <td>43</td>\n",
       "    </tr>\n",
       "    <tr>\n",
       "      <th>19347</th>\n",
       "      <td>coronavirus covid store update unfortunately d...</td>\n",
       "      <td>Extremely Positive</td>\n",
       "      <td>4</td>\n",
       "      <td>[0.0, 0.0, 0.0, 0.0, 1.0]</td>\n",
       "      <td>[24, 1, 4, 364, 1578, 30, 99, 5312, 95, 1598, ...</td>\n",
       "      <td>[24.0, 1.0, 4.0, 364.0, 1578.0, 30.0, 99.0, 53...</td>\n",
       "      <td>43</td>\n",
       "    </tr>\n",
       "    <tr>\n",
       "      <th>...</th>\n",
       "      <td>...</td>\n",
       "      <td>...</td>\n",
       "      <td>...</td>\n",
       "      <td>...</td>\n",
       "      <td>...</td>\n",
       "      <td>...</td>\n",
       "      <td>...</td>\n",
       "    </tr>\n",
       "    <tr>\n",
       "      <th>39516</th>\n",
       "      <td>one word explain</td>\n",
       "      <td>Neutral</td>\n",
       "      <td>2</td>\n",
       "      <td>[0.0, 0.0, 1.0, 0.0, 0.0]</td>\n",
       "      <td>[28, 1430, 2000]</td>\n",
       "      <td>[28.0, 1430.0, 2000.0, 0.0, 0.0, 0.0, 0.0, 0.0...</td>\n",
       "      <td>43</td>\n",
       "    </tr>\n",
       "    <tr>\n",
       "      <th>6682</th>\n",
       "      <td>covid - panic buying supermarket!</td>\n",
       "      <td>Negative</td>\n",
       "      <td>1</td>\n",
       "      <td>[0.0, 1.0, 0.0, 0.0, 0.0]</td>\n",
       "      <td>[1, 16, 31, 5]</td>\n",
       "      <td>[1.0, 16.0, 31.0, 5.0, 0.0, 0.0, 0.0, 0.0, 0.0...</td>\n",
       "      <td>43</td>\n",
       "    </tr>\n",
       "    <tr>\n",
       "      <th>12261</th>\n",
       "      <td>seriously, stop panic buying. plenty supplies ...</td>\n",
       "      <td>Extremely Negative</td>\n",
       "      <td>0</td>\n",
       "      <td>[1.0, 0.0, 0.0, 0.0, 0.0]</td>\n",
       "      <td>[558, 58, 16, 31, 620, 97, 529, 988, 148, 265,...</td>\n",
       "      <td>[558.0, 58.0, 16.0, 31.0, 620.0, 97.0, 529.0, ...</td>\n",
       "      <td>43</td>\n",
       "    </tr>\n",
       "    <tr>\n",
       "      <th>19725</th>\n",
       "      <td>guarantee people moaning people going ones pan...</td>\n",
       "      <td>Negative</td>\n",
       "      <td>1</td>\n",
       "      <td>[0.0, 1.0, 0.0, 0.0, 0.0]</td>\n",
       "      <td>[3882, 7, 6188, 7, 27, 628, 16, 360, 603, 3, 2...</td>\n",
       "      <td>[3882.0, 7.0, 6188.0, 7.0, 27.0, 628.0, 16.0, ...</td>\n",
       "      <td>43</td>\n",
       "    </tr>\n",
       "    <tr>\n",
       "      <th>33013</th>\n",
       "      <td>starting wonder even bothering lockdown hear m...</td>\n",
       "      <td>Negative</td>\n",
       "      <td>1</td>\n",
       "      <td>[0.0, 1.0, 0.0, 0.0, 0.0]</td>\n",
       "      <td>[610, 910, 61, 12014, 101, 654, 1192, 247, 701...</td>\n",
       "      <td>[610.0, 910.0, 61.0, 12014.0, 101.0, 654.0, 11...</td>\n",
       "      <td>43</td>\n",
       "    </tr>\n",
       "  </tbody>\n",
       "</table>\n",
       "<p>8232 rows × 7 columns</p>\n",
       "</div>"
      ],
      "text/plain": [
       "                                           OriginalTweet           Sentiment  \\\n",
       "26887  supermarkets al meera consumer goods co. start...             Neutral   \n",
       "344    guy taking whole stride. sensible, panicking g...            Positive   \n",
       "26619  salvation army jackson said experiencing criti...            Negative   \n",
       "34461  one top priorities trump considering mitigatio...  Extremely Positive   \n",
       "19347  coronavirus covid store update unfortunately d...  Extremely Positive   \n",
       "...                                                  ...                 ...   \n",
       "39516                                   one word explain             Neutral   \n",
       "6682                   covid - panic buying supermarket!            Negative   \n",
       "12261  seriously, stop panic buying. plenty supplies ...  Extremely Negative   \n",
       "19725  guarantee people moaning people going ones pan...            Negative   \n",
       "33013  starting wonder even bothering lockdown hear m...            Negative   \n",
       "\n",
       "       Sentiment_index           Sentiment_onehot  \\\n",
       "26887                2  [0.0, 0.0, 1.0, 0.0, 0.0]   \n",
       "344                  3  [0.0, 0.0, 0.0, 1.0, 0.0]   \n",
       "26619                1  [0.0, 1.0, 0.0, 0.0, 0.0]   \n",
       "34461                4  [0.0, 0.0, 0.0, 0.0, 1.0]   \n",
       "19347                4  [0.0, 0.0, 0.0, 0.0, 1.0]   \n",
       "...                ...                        ...   \n",
       "39516                2  [0.0, 0.0, 1.0, 0.0, 0.0]   \n",
       "6682                 1  [0.0, 1.0, 0.0, 0.0, 0.0]   \n",
       "12261                0  [1.0, 0.0, 0.0, 0.0, 0.0]   \n",
       "19725                1  [0.0, 1.0, 0.0, 0.0, 0.0]   \n",
       "33013                1  [0.0, 1.0, 0.0, 0.0, 0.0]   \n",
       "\n",
       "                                 OriginalTweet_tokenized  \\\n",
       "26887  [151, 2979, 14908, 9, 183, 943, 574, 6705, 983...   \n",
       "344    [1139, 161, 429, 2677, 2190, 3411, 5499, 194, ...   \n",
       "26619  [8022, 2159, 12888, 116, 1319, 483, 329, 3, 13...   \n",
       "34461  [28, 464, 2415, 256, 1663, 9844, 3, 8, 1312, 1...   \n",
       "19347  [24, 1, 4, 364, 1578, 30, 99, 5312, 95, 1598, ...   \n",
       "...                                                  ...   \n",
       "39516                                   [28, 1430, 2000]   \n",
       "6682                                      [1, 16, 31, 5]   \n",
       "12261  [558, 58, 16, 31, 620, 97, 529, 988, 148, 265,...   \n",
       "19725  [3882, 7, 6188, 7, 27, 628, 16, 360, 603, 3, 2...   \n",
       "33013  [610, 910, 61, 12014, 101, 654, 1192, 247, 701...   \n",
       "\n",
       "                          OriginalTweet_tokenized_padded  \\\n",
       "26887  [151.0, 2979.0, 14908.0, 9.0, 183.0, 943.0, 57...   \n",
       "344    [1139.0, 161.0, 429.0, 2677.0, 2190.0, 3411.0,...   \n",
       "26619  [8022.0, 2159.0, 12888.0, 116.0, 1319.0, 483.0...   \n",
       "34461  [28.0, 464.0, 2415.0, 256.0, 1663.0, 9844.0, 3...   \n",
       "19347  [24.0, 1.0, 4.0, 364.0, 1578.0, 30.0, 99.0, 53...   \n",
       "...                                                  ...   \n",
       "39516  [28.0, 1430.0, 2000.0, 0.0, 0.0, 0.0, 0.0, 0.0...   \n",
       "6682   [1.0, 16.0, 31.0, 5.0, 0.0, 0.0, 0.0, 0.0, 0.0...   \n",
       "12261  [558.0, 58.0, 16.0, 31.0, 620.0, 97.0, 529.0, ...   \n",
       "19725  [3882.0, 7.0, 6188.0, 7.0, 27.0, 628.0, 16.0, ...   \n",
       "33013  [610.0, 910.0, 61.0, 12014.0, 101.0, 654.0, 11...   \n",
       "\n",
       "       OriginalTweet_tokenized_padded_len  \n",
       "26887                                  43  \n",
       "344                                    43  \n",
       "26619                                  43  \n",
       "34461                                  43  \n",
       "19347                                  43  \n",
       "...                                   ...  \n",
       "39516                                  43  \n",
       "6682                                   43  \n",
       "12261                                  43  \n",
       "19725                                  43  \n",
       "33013                                  43  \n",
       "\n",
       "[8232 rows x 7 columns]"
      ]
     },
     "execution_count": 24,
     "metadata": {},
     "output_type": "execute_result"
    }
   ],
   "source": [
    "val_df['OriginalTweet_tokenized_padded'] = list(pad_sequences(\n",
    "    val_df.OriginalTweet_tokenized, maxlen=max_len, padding='post', dtype='float32'\n",
    "))\n",
    "val_df['OriginalTweet_tokenized_padded_len'] = val_df.OriginalTweet_tokenized_padded.apply(lambda x :len(x))\n",
    "val_df"
   ]
  },
  {
   "cell_type": "markdown",
   "metadata": {},
   "source": [
    "# 2. Build and train model"
   ]
  },
  {
   "cell_type": "markdown",
   "metadata": {},
   "source": [
    "## Build model"
   ]
  },
  {
   "cell_type": "code",
   "execution_count": 25,
   "metadata": {},
   "outputs": [],
   "source": [
    "vocab_len = len(tokenizer.word_index) + 1\n",
    "num_classes = len(train_df.Sentiment.unique())"
   ]
  },
  {
   "cell_type": "code",
   "execution_count": 26,
   "metadata": {
    "scrolled": true
   },
   "outputs": [
    {
     "data": {
      "text/html": [
       "<pre style=\"white-space:pre;overflow-x:auto;line-height:normal;font-family:Menlo,'DejaVu Sans Mono',consolas,'Courier New',monospace\"><span style=\"font-weight: bold\">Model: \"sequential\"</span>\n",
       "</pre>\n"
      ],
      "text/plain": [
       "\u001b[1mModel: \"sequential\"\u001b[0m\n"
      ]
     },
     "metadata": {},
     "output_type": "display_data"
    },
    {
     "data": {
      "text/html": [
       "<pre style=\"white-space:pre;overflow-x:auto;line-height:normal;font-family:Menlo,'DejaVu Sans Mono',consolas,'Courier New',monospace\">┏━━━━━━━━━━━━━━━━━━━━━━━━━━━━━━━━━┳━━━━━━━━━━━━━━━━━━━━━━━━┳━━━━━━━━━━━━━━━┓\n",
       "┃<span style=\"font-weight: bold\"> Layer (type)                    </span>┃<span style=\"font-weight: bold\"> Output Shape           </span>┃<span style=\"font-weight: bold\">       Param # </span>┃\n",
       "┡━━━━━━━━━━━━━━━━━━━━━━━━━━━━━━━━━╇━━━━━━━━━━━━━━━━━━━━━━━━╇━━━━━━━━━━━━━━━┩\n",
       "│ embedding (<span style=\"color: #0087ff; text-decoration-color: #0087ff\">Embedding</span>)           │ (<span style=\"color: #00af00; text-decoration-color: #00af00\">32036</span>, <span style=\"color: #00af00; text-decoration-color: #00af00\">32</span>, <span style=\"color: #00af00; text-decoration-color: #00af00\">32</span>)        │     <span style=\"color: #00af00; text-decoration-color: #00af00\">1,025,152</span> │\n",
       "├─────────────────────────────────┼────────────────────────┼───────────────┤\n",
       "│ bidirectional (<span style=\"color: #0087ff; text-decoration-color: #0087ff\">Bidirectional</span>)   │ (<span style=\"color: #00af00; text-decoration-color: #00af00\">32036</span>, <span style=\"color: #00af00; text-decoration-color: #00af00\">32</span>, <span style=\"color: #00af00; text-decoration-color: #00af00\">64</span>)        │        <span style=\"color: #00af00; text-decoration-color: #00af00\">16,640</span> │\n",
       "├─────────────────────────────────┼────────────────────────┼───────────────┤\n",
       "│ global_average_pooling1d        │ (<span style=\"color: #00af00; text-decoration-color: #00af00\">32036</span>, <span style=\"color: #00af00; text-decoration-color: #00af00\">64</span>)            │             <span style=\"color: #00af00; text-decoration-color: #00af00\">0</span> │\n",
       "│ (<span style=\"color: #0087ff; text-decoration-color: #0087ff\">GlobalAveragePooling1D</span>)        │                        │               │\n",
       "├─────────────────────────────────┼────────────────────────┼───────────────┤\n",
       "│ dense (<span style=\"color: #0087ff; text-decoration-color: #0087ff\">Dense</span>)                   │ (<span style=\"color: #00af00; text-decoration-color: #00af00\">32036</span>, <span style=\"color: #00af00; text-decoration-color: #00af00\">16</span>)            │         <span style=\"color: #00af00; text-decoration-color: #00af00\">1,040</span> │\n",
       "├─────────────────────────────────┼────────────────────────┼───────────────┤\n",
       "│ dropout (<span style=\"color: #0087ff; text-decoration-color: #0087ff\">Dropout</span>)               │ (<span style=\"color: #00af00; text-decoration-color: #00af00\">32036</span>, <span style=\"color: #00af00; text-decoration-color: #00af00\">16</span>)            │             <span style=\"color: #00af00; text-decoration-color: #00af00\">0</span> │\n",
       "├─────────────────────────────────┼────────────────────────┼───────────────┤\n",
       "│ dense_1 (<span style=\"color: #0087ff; text-decoration-color: #0087ff\">Dense</span>)                 │ (<span style=\"color: #00af00; text-decoration-color: #00af00\">32036</span>, <span style=\"color: #00af00; text-decoration-color: #00af00\">5</span>)             │            <span style=\"color: #00af00; text-decoration-color: #00af00\">85</span> │\n",
       "└─────────────────────────────────┴────────────────────────┴───────────────┘\n",
       "</pre>\n"
      ],
      "text/plain": [
       "┏━━━━━━━━━━━━━━━━━━━━━━━━━━━━━━━━━┳━━━━━━━━━━━━━━━━━━━━━━━━┳━━━━━━━━━━━━━━━┓\n",
       "┃\u001b[1m \u001b[0m\u001b[1mLayer (type)                   \u001b[0m\u001b[1m \u001b[0m┃\u001b[1m \u001b[0m\u001b[1mOutput Shape          \u001b[0m\u001b[1m \u001b[0m┃\u001b[1m \u001b[0m\u001b[1m      Param #\u001b[0m\u001b[1m \u001b[0m┃\n",
       "┡━━━━━━━━━━━━━━━━━━━━━━━━━━━━━━━━━╇━━━━━━━━━━━━━━━━━━━━━━━━╇━━━━━━━━━━━━━━━┩\n",
       "│ embedding (\u001b[38;5;33mEmbedding\u001b[0m)           │ (\u001b[38;5;34m32036\u001b[0m, \u001b[38;5;34m32\u001b[0m, \u001b[38;5;34m32\u001b[0m)        │     \u001b[38;5;34m1,025,152\u001b[0m │\n",
       "├─────────────────────────────────┼────────────────────────┼───────────────┤\n",
       "│ bidirectional (\u001b[38;5;33mBidirectional\u001b[0m)   │ (\u001b[38;5;34m32036\u001b[0m, \u001b[38;5;34m32\u001b[0m, \u001b[38;5;34m64\u001b[0m)        │        \u001b[38;5;34m16,640\u001b[0m │\n",
       "├─────────────────────────────────┼────────────────────────┼───────────────┤\n",
       "│ global_average_pooling1d        │ (\u001b[38;5;34m32036\u001b[0m, \u001b[38;5;34m64\u001b[0m)            │             \u001b[38;5;34m0\u001b[0m │\n",
       "│ (\u001b[38;5;33mGlobalAveragePooling1D\u001b[0m)        │                        │               │\n",
       "├─────────────────────────────────┼────────────────────────┼───────────────┤\n",
       "│ dense (\u001b[38;5;33mDense\u001b[0m)                   │ (\u001b[38;5;34m32036\u001b[0m, \u001b[38;5;34m16\u001b[0m)            │         \u001b[38;5;34m1,040\u001b[0m │\n",
       "├─────────────────────────────────┼────────────────────────┼───────────────┤\n",
       "│ dropout (\u001b[38;5;33mDropout\u001b[0m)               │ (\u001b[38;5;34m32036\u001b[0m, \u001b[38;5;34m16\u001b[0m)            │             \u001b[38;5;34m0\u001b[0m │\n",
       "├─────────────────────────────────┼────────────────────────┼───────────────┤\n",
       "│ dense_1 (\u001b[38;5;33mDense\u001b[0m)                 │ (\u001b[38;5;34m32036\u001b[0m, \u001b[38;5;34m5\u001b[0m)             │            \u001b[38;5;34m85\u001b[0m │\n",
       "└─────────────────────────────────┴────────────────────────┴───────────────┘\n"
      ]
     },
     "metadata": {},
     "output_type": "display_data"
    },
    {
     "data": {
      "text/html": [
       "<pre style=\"white-space:pre;overflow-x:auto;line-height:normal;font-family:Menlo,'DejaVu Sans Mono',consolas,'Courier New',monospace\"><span style=\"font-weight: bold\"> Total params: </span><span style=\"color: #00af00; text-decoration-color: #00af00\">1,042,917</span> (3.98 MB)\n",
       "</pre>\n"
      ],
      "text/plain": [
       "\u001b[1m Total params: \u001b[0m\u001b[38;5;34m1,042,917\u001b[0m (3.98 MB)\n"
      ]
     },
     "metadata": {},
     "output_type": "display_data"
    },
    {
     "data": {
      "text/html": [
       "<pre style=\"white-space:pre;overflow-x:auto;line-height:normal;font-family:Menlo,'DejaVu Sans Mono',consolas,'Courier New',monospace\"><span style=\"font-weight: bold\"> Trainable params: </span><span style=\"color: #00af00; text-decoration-color: #00af00\">1,042,917</span> (3.98 MB)\n",
       "</pre>\n"
      ],
      "text/plain": [
       "\u001b[1m Trainable params: \u001b[0m\u001b[38;5;34m1,042,917\u001b[0m (3.98 MB)\n"
      ]
     },
     "metadata": {},
     "output_type": "display_data"
    },
    {
     "data": {
      "text/html": [
       "<pre style=\"white-space:pre;overflow-x:auto;line-height:normal;font-family:Menlo,'DejaVu Sans Mono',consolas,'Courier New',monospace\"><span style=\"font-weight: bold\"> Non-trainable params: </span><span style=\"color: #00af00; text-decoration-color: #00af00\">0</span> (0.00 B)\n",
       "</pre>\n"
      ],
      "text/plain": [
       "\u001b[1m Non-trainable params: \u001b[0m\u001b[38;5;34m0\u001b[0m (0.00 B)\n"
      ]
     },
     "metadata": {},
     "output_type": "display_data"
    }
   ],
   "source": [
    "model = Sequential([\n",
    "    Embedding(vocab_len, 32),\n",
    "    Bidirectional(LSTM(32, return_sequences=True)),\n",
    "    GlobalAveragePooling1D(),\n",
    "    Dense(16, 'relu'),\n",
    "    Dropout(0.2),\n",
    "    Dense(num_classes, 'softmax')\n",
    "])\n",
    "model.build(input_shape=(vocab_len, 32))\n",
    "model.summary()"
   ]
  },
  {
   "cell_type": "markdown",
   "metadata": {},
   "source": [
    "## Compile model"
   ]
  },
  {
   "cell_type": "code",
   "execution_count": 27,
   "metadata": {},
   "outputs": [],
   "source": [
    "ce_loss = CategoricalCrossentropy()"
   ]
  },
  {
   "cell_type": "code",
   "execution_count": 28,
   "metadata": {},
   "outputs": [],
   "source": [
    "# # Optimizer: Stochastic Gradient Descent (SGD)\n",
    "# opt = SGD(learning_rate=0.001)\n",
    "\n",
    "\n",
    "# Optimizer: Adaptive Moment Estimation (Adam)\n",
    "opt = Adam(\n",
    "    learning_rate=0.001,\n",
    "    beta_1=0.9,\n",
    "    beta_2=0.999,\n",
    "    epsilon=1e-08\n",
    ")\n",
    "\n",
    "# Other optimizers: AdamW, Nadam ..."
   ]
  },
  {
   "cell_type": "code",
   "execution_count": 29,
   "metadata": {},
   "outputs": [],
   "source": [
    "acc = CategoricalAccuracy()"
   ]
  },
  {
   "cell_type": "code",
   "execution_count": 30,
   "metadata": {},
   "outputs": [],
   "source": [
    "model.compile(loss=ce_loss, optimizer=opt, metrics=[acc])"
   ]
  },
  {
   "cell_type": "markdown",
   "metadata": {},
   "source": [
    "## Train model"
   ]
  },
  {
   "cell_type": "code",
   "execution_count": 31,
   "metadata": {},
   "outputs": [],
   "source": [
    "BATCH_SIZE = 512\n",
    "NUM_EPOCH = 20"
   ]
  },
  {
   "cell_type": "code",
   "execution_count": 32,
   "metadata": {},
   "outputs": [],
   "source": [
    "x_train = np.array([arr for arr in train_df.OriginalTweet_tokenized_padded])\n",
    "y_train = np.array([arr for arr in train_df.Sentiment_onehot])\n",
    "x_val = np.array([arr for arr in val_df.OriginalTweet_tokenized_padded])\n",
    "y_val = np.array([arr for arr in val_df.Sentiment_onehot])"
   ]
  },
  {
   "cell_type": "code",
   "execution_count": 33,
   "metadata": {},
   "outputs": [
    {
     "data": {
      "text/plain": [
       "((32925, 43), (32925, 5))"
      ]
     },
     "execution_count": 33,
     "metadata": {},
     "output_type": "execute_result"
    }
   ],
   "source": [
    "x_train.shape, y_train.shape"
   ]
  },
  {
   "cell_type": "code",
   "execution_count": 34,
   "metadata": {},
   "outputs": [
    {
     "data": {
      "text/plain": [
       "((8232, 43), (8232, 5))"
      ]
     },
     "execution_count": 34,
     "metadata": {},
     "output_type": "execute_result"
    }
   ],
   "source": [
    "x_val.shape, y_val.shape"
   ]
  },
  {
   "cell_type": "markdown",
   "metadata": {},
   "source": [
    "#### Callbacks"
   ]
  },
  {
   "cell_type": "code",
   "execution_count": 35,
   "metadata": {},
   "outputs": [],
   "source": [
    "def scheduler_func(epoch, lr):\n",
    "    if epoch < 3:\n",
    "        return lr * 2\n",
    "    elif 3 < epoch and epoch < 7:\n",
    "        return lr\n",
    "    else:\n",
    "        return lr / 3"
   ]
  },
  {
   "cell_type": "code",
   "execution_count": 36,
   "metadata": {},
   "outputs": [],
   "source": [
    "# 1. Change learning rate - LearningRateScheduler\n",
    "# lr_callback = ReduceLROnPlateau(\n",
    "#     monitor='val_loss', factor=0.2, patience=5, min_lr=0.00001, min_delta=0.0001\n",
    "# )\n",
    "\n",
    "lr_callback = LearningRateScheduler(scheduler_func)"
   ]
  },
  {
   "cell_type": "code",
   "execution_count": 37,
   "metadata": {},
   "outputs": [],
   "source": [
    "# 2. Early stop - save training cost\n",
    "early_stop_callback = EarlyStopping(monitor='val_loss', min_delta=0.0001, patience=5)"
   ]
  },
  {
   "cell_type": "code",
   "execution_count": 38,
   "metadata": {},
   "outputs": [],
   "source": [
    "# 3. Save checkpoint\n",
    "os.makedirs('ckpt', exist_ok=True)\n",
    "# save_weights_only = False\n",
    "# => Keras saves both model architecture and weights\n",
    "# => Load to empty model\n",
    "\n",
    "# save_weights_only = True\n",
    "# => Keras saves weights\n",
    "# => First, init model with architecture => Second, load model\n",
    "\n",
    "# Save each epoch with loss value\n",
    "model_ckpt_callback = ModelCheckpoint(\n",
    "    filepath='ckpt/checkpoint_epoch_{epoch}.weights.h5',\n",
    "    save_weights_only=True,\n",
    "    save_best_only=False, # True/False\n",
    "#     monitor='val_accuracy'\n",
    ")"
   ]
  },
  {
   "cell_type": "code",
   "execution_count": 39,
   "metadata": {},
   "outputs": [],
   "source": [
    "# 4. Monitor training process - Tensorboard\n",
    "tensorboard_callback = TensorBoard(log_dir='logs')"
   ]
  },
  {
   "cell_type": "code",
   "execution_count": 40,
   "metadata": {},
   "outputs": [
    {
     "data": {
      "text/plain": [
       "(32925, 43)"
      ]
     },
     "execution_count": 40,
     "metadata": {},
     "output_type": "execute_result"
    }
   ],
   "source": [
    "x_train.shape"
   ]
  },
  {
   "cell_type": "code",
   "execution_count": 41,
   "metadata": {},
   "outputs": [
    {
     "name": "stdout",
     "output_type": "stream",
     "text": [
      "Epoch 1/20\n",
      "\u001b[1m65/65\u001b[0m \u001b[32m━━━━━━━━━━━━━━━━━━━━\u001b[0m\u001b[37m\u001b[0m \u001b[1m3s\u001b[0m 39ms/step - categorical_accuracy: 0.2697 - loss: 1.5736 - val_categorical_accuracy: 0.3977 - val_loss: 1.4083 - learning_rate: 0.0020\n",
      "Epoch 2/20\n",
      "\u001b[1m65/65\u001b[0m \u001b[32m━━━━━━━━━━━━━━━━━━━━\u001b[0m\u001b[37m\u001b[0m \u001b[1m3s\u001b[0m 48ms/step - categorical_accuracy: 0.4113 - loss: 1.3274 - val_categorical_accuracy: 0.6347 - val_loss: 0.9301 - learning_rate: 0.0040\n",
      "Epoch 3/20\n",
      "\u001b[1m65/65\u001b[0m \u001b[32m━━━━━━━━━━━━━━━━━━━━\u001b[0m\u001b[37m\u001b[0m \u001b[1m4s\u001b[0m 63ms/step - categorical_accuracy: 0.7165 - loss: 0.7680 - val_categorical_accuracy: 0.7289 - val_loss: 0.7280 - learning_rate: 0.0080\n",
      "Epoch 4/20\n",
      "\u001b[1m65/65\u001b[0m \u001b[32m━━━━━━━━━━━━━━━━━━━━\u001b[0m\u001b[37m\u001b[0m \u001b[1m4s\u001b[0m 65ms/step - categorical_accuracy: 0.8570 - loss: 0.4659 - val_categorical_accuracy: 0.7547 - val_loss: 0.7313 - learning_rate: 0.0027\n",
      "Epoch 5/20\n",
      "\u001b[1m65/65\u001b[0m \u001b[32m━━━━━━━━━━━━━━━━━━━━\u001b[0m\u001b[37m\u001b[0m \u001b[1m4s\u001b[0m 66ms/step - categorical_accuracy: 0.9042 - loss: 0.3430 - val_categorical_accuracy: 0.7529 - val_loss: 0.7909 - learning_rate: 0.0027\n",
      "Epoch 6/20\n",
      "\u001b[1m65/65\u001b[0m \u001b[32m━━━━━━━━━━━━━━━━━━━━\u001b[0m\u001b[37m\u001b[0m \u001b[1m4s\u001b[0m 65ms/step - categorical_accuracy: 0.9301 - loss: 0.2677 - val_categorical_accuracy: 0.7425 - val_loss: 0.9136 - learning_rate: 0.0027\n",
      "Epoch 7/20\n",
      "\u001b[1m65/65\u001b[0m \u001b[32m━━━━━━━━━━━━━━━━━━━━\u001b[0m\u001b[37m\u001b[0m \u001b[1m4s\u001b[0m 65ms/step - categorical_accuracy: 0.9435 - loss: 0.2287 - val_categorical_accuracy: 0.7419 - val_loss: 0.9799 - learning_rate: 0.0027\n",
      "Epoch 8/20\n",
      "\u001b[1m65/65\u001b[0m \u001b[32m━━━━━━━━━━━━━━━━━━━━\u001b[0m\u001b[37m\u001b[0m \u001b[1m4s\u001b[0m 64ms/step - categorical_accuracy: 0.9541 - loss: 0.1946 - val_categorical_accuracy: 0.7417 - val_loss: 1.0223 - learning_rate: 8.8889e-04\n"
     ]
    }
   ],
   "source": [
    "history = model.fit(\n",
    "    x=x_train,\n",
    "    y=y_train,\n",
    "    batch_size=BATCH_SIZE,\n",
    "    epochs=NUM_EPOCH,\n",
    "    validation_data=(x_val, y_val),\n",
    "    shuffle=True,\n",
    "    validation_batch_size=BATCH_SIZE * 2,\n",
    "    callbacks=[\n",
    "        lr_callback,\n",
    "        early_stop_callback,\n",
    "        model_ckpt_callback,\n",
    "        tensorboard_callback\n",
    "    ],\n",
    "    verbose=1\n",
    ")"
   ]
  },
  {
   "cell_type": "markdown",
   "metadata": {},
   "source": [
    "# 3. Predict new data"
   ]
  },
  {
   "cell_type": "code",
   "execution_count": 42,
   "metadata": {
    "scrolled": true
   },
   "outputs": [
    {
     "data": {
      "text/html": [
       "<pre style=\"white-space:pre;overflow-x:auto;line-height:normal;font-family:Menlo,'DejaVu Sans Mono',consolas,'Courier New',monospace\"><span style=\"font-weight: bold\">Model: \"sequential_1\"</span>\n",
       "</pre>\n"
      ],
      "text/plain": [
       "\u001b[1mModel: \"sequential_1\"\u001b[0m\n"
      ]
     },
     "metadata": {},
     "output_type": "display_data"
    },
    {
     "data": {
      "text/html": [
       "<pre style=\"white-space:pre;overflow-x:auto;line-height:normal;font-family:Menlo,'DejaVu Sans Mono',consolas,'Courier New',monospace\">┏━━━━━━━━━━━━━━━━━━━━━━━━━━━━━━━━━┳━━━━━━━━━━━━━━━━━━━━━━━━┳━━━━━━━━━━━━━━━┓\n",
       "┃<span style=\"font-weight: bold\"> Layer (type)                    </span>┃<span style=\"font-weight: bold\"> Output Shape           </span>┃<span style=\"font-weight: bold\">       Param # </span>┃\n",
       "┡━━━━━━━━━━━━━━━━━━━━━━━━━━━━━━━━━╇━━━━━━━━━━━━━━━━━━━━━━━━╇━━━━━━━━━━━━━━━┩\n",
       "│ embedding_1 (<span style=\"color: #0087ff; text-decoration-color: #0087ff\">Embedding</span>)         │ ?                      │   <span style=\"color: #00af00; text-decoration-color: #00af00\">0</span> (unbuilt) │\n",
       "├─────────────────────────────────┼────────────────────────┼───────────────┤\n",
       "│ bidirectional_1 (<span style=\"color: #0087ff; text-decoration-color: #0087ff\">Bidirectional</span>) │ ?                      │   <span style=\"color: #00af00; text-decoration-color: #00af00\">0</span> (unbuilt) │\n",
       "├─────────────────────────────────┼────────────────────────┼───────────────┤\n",
       "│ global_average_pooling1d_1      │ ?                      │             <span style=\"color: #00af00; text-decoration-color: #00af00\">0</span> │\n",
       "│ (<span style=\"color: #0087ff; text-decoration-color: #0087ff\">GlobalAveragePooling1D</span>)        │                        │               │\n",
       "├─────────────────────────────────┼────────────────────────┼───────────────┤\n",
       "│ dense_2 (<span style=\"color: #0087ff; text-decoration-color: #0087ff\">Dense</span>)                 │ ?                      │   <span style=\"color: #00af00; text-decoration-color: #00af00\">0</span> (unbuilt) │\n",
       "├─────────────────────────────────┼────────────────────────┼───────────────┤\n",
       "│ dropout_1 (<span style=\"color: #0087ff; text-decoration-color: #0087ff\">Dropout</span>)             │ ?                      │             <span style=\"color: #00af00; text-decoration-color: #00af00\">0</span> │\n",
       "├─────────────────────────────────┼────────────────────────┼───────────────┤\n",
       "│ dense_3 (<span style=\"color: #0087ff; text-decoration-color: #0087ff\">Dense</span>)                 │ ?                      │   <span style=\"color: #00af00; text-decoration-color: #00af00\">0</span> (unbuilt) │\n",
       "└─────────────────────────────────┴────────────────────────┴───────────────┘\n",
       "</pre>\n"
      ],
      "text/plain": [
       "┏━━━━━━━━━━━━━━━━━━━━━━━━━━━━━━━━━┳━━━━━━━━━━━━━━━━━━━━━━━━┳━━━━━━━━━━━━━━━┓\n",
       "┃\u001b[1m \u001b[0m\u001b[1mLayer (type)                   \u001b[0m\u001b[1m \u001b[0m┃\u001b[1m \u001b[0m\u001b[1mOutput Shape          \u001b[0m\u001b[1m \u001b[0m┃\u001b[1m \u001b[0m\u001b[1m      Param #\u001b[0m\u001b[1m \u001b[0m┃\n",
       "┡━━━━━━━━━━━━━━━━━━━━━━━━━━━━━━━━━╇━━━━━━━━━━━━━━━━━━━━━━━━╇━━━━━━━━━━━━━━━┩\n",
       "│ embedding_1 (\u001b[38;5;33mEmbedding\u001b[0m)         │ ?                      │   \u001b[38;5;34m0\u001b[0m (unbuilt) │\n",
       "├─────────────────────────────────┼────────────────────────┼───────────────┤\n",
       "│ bidirectional_1 (\u001b[38;5;33mBidirectional\u001b[0m) │ ?                      │   \u001b[38;5;34m0\u001b[0m (unbuilt) │\n",
       "├─────────────────────────────────┼────────────────────────┼───────────────┤\n",
       "│ global_average_pooling1d_1      │ ?                      │             \u001b[38;5;34m0\u001b[0m │\n",
       "│ (\u001b[38;5;33mGlobalAveragePooling1D\u001b[0m)        │                        │               │\n",
       "├─────────────────────────────────┼────────────────────────┼───────────────┤\n",
       "│ dense_2 (\u001b[38;5;33mDense\u001b[0m)                 │ ?                      │   \u001b[38;5;34m0\u001b[0m (unbuilt) │\n",
       "├─────────────────────────────────┼────────────────────────┼───────────────┤\n",
       "│ dropout_1 (\u001b[38;5;33mDropout\u001b[0m)             │ ?                      │             \u001b[38;5;34m0\u001b[0m │\n",
       "├─────────────────────────────────┼────────────────────────┼───────────────┤\n",
       "│ dense_3 (\u001b[38;5;33mDense\u001b[0m)                 │ ?                      │   \u001b[38;5;34m0\u001b[0m (unbuilt) │\n",
       "└─────────────────────────────────┴────────────────────────┴───────────────┘\n"
      ]
     },
     "metadata": {},
     "output_type": "display_data"
    },
    {
     "data": {
      "text/html": [
       "<pre style=\"white-space:pre;overflow-x:auto;line-height:normal;font-family:Menlo,'DejaVu Sans Mono',consolas,'Courier New',monospace\"><span style=\"font-weight: bold\"> Total params: </span><span style=\"color: #00af00; text-decoration-color: #00af00\">0</span> (0.00 B)\n",
       "</pre>\n"
      ],
      "text/plain": [
       "\u001b[1m Total params: \u001b[0m\u001b[38;5;34m0\u001b[0m (0.00 B)\n"
      ]
     },
     "metadata": {},
     "output_type": "display_data"
    },
    {
     "data": {
      "text/html": [
       "<pre style=\"white-space:pre;overflow-x:auto;line-height:normal;font-family:Menlo,'DejaVu Sans Mono',consolas,'Courier New',monospace\"><span style=\"font-weight: bold\"> Trainable params: </span><span style=\"color: #00af00; text-decoration-color: #00af00\">0</span> (0.00 B)\n",
       "</pre>\n"
      ],
      "text/plain": [
       "\u001b[1m Trainable params: \u001b[0m\u001b[38;5;34m0\u001b[0m (0.00 B)\n"
      ]
     },
     "metadata": {},
     "output_type": "display_data"
    },
    {
     "data": {
      "text/html": [
       "<pre style=\"white-space:pre;overflow-x:auto;line-height:normal;font-family:Menlo,'DejaVu Sans Mono',consolas,'Courier New',monospace\"><span style=\"font-weight: bold\"> Non-trainable params: </span><span style=\"color: #00af00; text-decoration-color: #00af00\">0</span> (0.00 B)\n",
       "</pre>\n"
      ],
      "text/plain": [
       "\u001b[1m Non-trainable params: \u001b[0m\u001b[38;5;34m0\u001b[0m (0.00 B)\n"
      ]
     },
     "metadata": {},
     "output_type": "display_data"
    }
   ],
   "source": [
    "# Tomorrow\n",
    "loaded_model = Sequential([\n",
    "    Embedding(vocab_len, 32),\n",
    "    Bidirectional(LSTM(32, return_sequences=True)),\n",
    "    GlobalAveragePooling1D(),\n",
    "    Dense(16, 'relu'),\n",
    "    Dropout(0.2),\n",
    "    Dense(num_classes, 'softmax')\n",
    "])\n",
    "loaded_model.summary()"
   ]
  },
  {
   "cell_type": "code",
   "execution_count": 43,
   "metadata": {},
   "outputs": [],
   "source": [
    "loaded_model.build(input_shape=(vocab_len, 32))"
   ]
  },
  {
   "cell_type": "code",
   "execution_count": 44,
   "metadata": {},
   "outputs": [
    {
     "data": {
      "text/plain": [
       "<Sequential name=sequential_1, built=True>"
      ]
     },
     "execution_count": 44,
     "metadata": {},
     "output_type": "execute_result"
    }
   ],
   "source": [
    "loaded_model.load_weights('ckpt/checkpoint_epoch_4.weights.h5')\n",
    "loaded_model"
   ]
  },
  {
   "cell_type": "code",
   "execution_count": 45,
   "metadata": {},
   "outputs": [
    {
     "name": "stdout",
     "output_type": "stream",
     "text": [
      "\u001b[1m258/258\u001b[0m \u001b[32m━━━━━━━━━━━━━━━━━━━━\u001b[0m\u001b[37m\u001b[0m \u001b[1m1s\u001b[0m 2ms/step\n"
     ]
    },
    {
     "data": {
      "text/plain": [
       "array([[4.1683216e-04, 5.8817022e-02, 9.0044212e-01, 4.0206991e-02,\n",
       "        1.1714515e-04],\n",
       "       [4.5563031e-02, 9.1329211e-01, 1.7275602e-02, 2.3715056e-02,\n",
       "        1.5428221e-04],\n",
       "       [2.2627923e-01, 7.6072448e-01, 3.1660385e-03, 9.6380338e-03,\n",
       "        1.9234503e-04],\n",
       "       ...,\n",
       "       [8.8243073e-01, 1.1650111e-01, 1.3638422e-04, 8.8059000e-04,\n",
       "        5.1140378e-05],\n",
       "       [7.2451152e-02, 8.1254965e-01, 5.0387140e-02, 6.3386403e-02,\n",
       "        1.2256859e-03],\n",
       "       [6.7637051e-03, 2.5424007e-01, 9.4388023e-02, 6.2827301e-01,\n",
       "        1.6335208e-02]], dtype=float32)"
      ]
     },
     "execution_count": 45,
     "metadata": {},
     "output_type": "execute_result"
    }
   ],
   "source": [
    "pred_prob = loaded_model.predict(x_val)\n",
    "pred_prob"
   ]
  },
  {
   "cell_type": "code",
   "execution_count": 46,
   "metadata": {},
   "outputs": [
    {
     "data": {
      "text/plain": [
       "(8232, 5)"
      ]
     },
     "execution_count": 46,
     "metadata": {},
     "output_type": "execute_result"
    }
   ],
   "source": [
    "pred_prob.shape"
   ]
  },
  {
   "cell_type": "code",
   "execution_count": 47,
   "metadata": {},
   "outputs": [
    {
     "data": {
      "text/plain": [
       "array([2, 1, 1, ..., 0, 1, 3])"
      ]
     },
     "execution_count": 47,
     "metadata": {},
     "output_type": "execute_result"
    }
   ],
   "source": [
    "pred_class = np.argmax(pred_prob, axis=1)\n",
    "pred_class"
   ]
  },
  {
   "cell_type": "code",
   "execution_count": 48,
   "metadata": {},
   "outputs": [
    {
     "name": "stdout",
     "output_type": "stream",
     "text": [
      "              precision    recall  f1-score   support\n",
      "\n",
      "           0       0.83      0.65      0.73      1110\n",
      "           1       0.65      0.75      0.70      1955\n",
      "           2       0.85      0.79      0.82      1547\n",
      "           3       0.72      0.79      0.75      2291\n",
      "           4       0.88      0.73      0.80      1329\n",
      "\n",
      "    accuracy                           0.75      8232\n",
      "   macro avg       0.78      0.74      0.76      8232\n",
      "weighted avg       0.77      0.75      0.76      8232\n",
      "\n"
     ]
    }
   ],
   "source": [
    "print(classification_report(val_df.Sentiment_index, pred_class))"
   ]
  },
  {
   "cell_type": "code",
   "execution_count": null,
   "metadata": {},
   "outputs": [],
   "source": []
  }
 ],
 "metadata": {
  "kernelspec": {
   "display_name": "Python 3 (ipykernel)",
   "language": "python",
   "name": "python3"
  },
  "language_info": {
   "codemirror_mode": {
    "name": "ipython",
    "version": 3
   },
   "file_extension": ".py",
   "mimetype": "text/x-python",
   "name": "python",
   "nbconvert_exporter": "python",
   "pygments_lexer": "ipython3",
   "version": "3.12.9"
  },
  "toc": {
   "base_numbering": 1,
   "nav_menu": {},
   "number_sections": false,
   "sideBar": true,
   "skip_h1_title": false,
   "title_cell": "Table of Contents",
   "title_sidebar": "Table of Contents",
   "toc_cell": false,
   "toc_position": {},
   "toc_section_display": true,
   "toc_window_display": true
  }
 },
 "nbformat": 4,
 "nbformat_minor": 4
}
